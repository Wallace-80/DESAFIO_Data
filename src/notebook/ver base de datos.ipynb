{
 "cells": [
  {
   "cell_type": "code",
<<<<<<< HEAD
   "execution_count": 464,
=======
<<<<<<< HEAD
   "execution_count": 161,
=======
   "execution_count": 428,
>>>>>>> 6aefa4d8d367b7c2b90895f27b84b20dab197245
>>>>>>> f4859ca788a6695484154a5021891013f2c6edb0
   "metadata": {},
   "outputs": [],
   "source": [
    "import pandas as pd\n",
    "import sqlite3\n",
    "import seaborn as sns\n",
    "import matplotlib.pyplot as plt\n",
    "import plotly.express as px"
   ]
  },
  {
   "cell_type": "code",
<<<<<<< HEAD
   "execution_count": 465,
=======
<<<<<<< HEAD
   "execution_count": 162,
=======
   "execution_count": 429,
>>>>>>> 6aefa4d8d367b7c2b90895f27b84b20dab197245
>>>>>>> f4859ca788a6695484154a5021891013f2c6edb0
   "metadata": {},
   "outputs": [],
   "source": [
    "from getpass import getpass\n",
    "from mysql.connector import connect, Error\n",
    "def connect_db(host, user):\n",
    "    try:\n",
    "    # Si la conexion se da satisfactoriamente, tendremos un mensaje de éxito.\n",
    "     conn = connect(\n",
    "                    host=host,\n",
    "                    user=user,\n",
    "                    password=getpass(\"Enter password: \")\n",
    "                     )    \n",
    "     print('SUCCESSFUL\\n\\n')\n",
    "     return conn\n",
    "    except Error as e:\n",
    "    # En caso de tener un error de conexión, lo mostramos\n",
    "        print(e)"
   ]
  },
  {
   "cell_type": "code",
<<<<<<< HEAD
   "execution_count": 466,
=======
<<<<<<< HEAD
   "execution_count": 163,
=======
   "execution_count": 430,
>>>>>>> 6aefa4d8d367b7c2b90895f27b84b20dab197245
>>>>>>> f4859ca788a6695484154a5021891013f2c6edb0
   "metadata": {},
   "outputs": [
    {
     "name": "stdout",
     "output_type": "stream",
     "text": [
      "SUCCESSFUL\n",
      "\n",
      "\n"
     ]
    }
   ],
   "source": [
    "host = \"desafiotravel.cdtvtmfza8iy.eu-west-3.rds.amazonaws.com\"\n",
    "user = 'admin'\n",
    "\n",
    "conn = connect_db(host, user)"
   ]
  },
  {
   "cell_type": "code",
<<<<<<< HEAD
   "execution_count": 467,
=======
<<<<<<< HEAD
   "execution_count": 164,
=======
   "execution_count": 431,
>>>>>>> 6aefa4d8d367b7c2b90895f27b84b20dab197245
>>>>>>> f4859ca788a6695484154a5021891013f2c6edb0
   "metadata": {},
   "outputs": [],
   "source": [
    "cursor = conn.cursor()"
   ]
  },
  {
   "cell_type": "code",
<<<<<<< HEAD
   "execution_count": 468,
=======
<<<<<<< HEAD
   "execution_count": 165,
=======
   "execution_count": 432,
>>>>>>> 6aefa4d8d367b7c2b90895f27b84b20dab197245
>>>>>>> f4859ca788a6695484154a5021891013f2c6edb0
   "metadata": {},
   "outputs": [],
   "source": [
    "cursor.execute(\"USE travelspain\")"
   ]
  },
  {
   "cell_type": "code",
<<<<<<< HEAD
   "execution_count": 469,
=======
<<<<<<< HEAD
   "execution_count": 166,
=======
   "execution_count": 433,
>>>>>>> 6aefa4d8d367b7c2b90895f27b84b20dab197245
>>>>>>> f4859ca788a6695484154a5021891013f2c6edb0
   "metadata": {},
   "outputs": [],
   "source": [
    "show_db_query = \"SELECT * FROM input\"\n",
    "\n",
    "with conn.cursor() as cursor:\n",
    "    cursor.execute(show_db_query)\n",
    "    ls_input = cursor.fetchall()"
   ]
  },
  {
   "cell_type": "code",
<<<<<<< HEAD
   "execution_count": 470,
=======
<<<<<<< HEAD
   "execution_count": 167,
=======
   "execution_count": 434,
>>>>>>> 6aefa4d8d367b7c2b90895f27b84b20dab197245
>>>>>>> f4859ca788a6695484154a5021891013f2c6edb0
   "metadata": {},
   "outputs": [
    {
     "data": {
      "text/plain": [
       "[(108, '16', 'Ciudad', 'Cultura'),\n",
       " (109, '18', 'Ciudad', 'Ocio Nocturno'),\n",
       " (110, '15', 'Playa', 'Familiar'),\n",
       " (111, '2', 'Montaña', 'Gastronomia'),\n",
       " (112, '3', 'Playa', 'Cultura'),\n",
       " (113, '14', 'Playa', 'Gastronomia'),\n",
       " (114, '10', 'Playa', 'Familiar'),\n",
       " (115, '14', 'Montaña', 'Ocio Nocturno'),\n",
       " (116, '13', 'Campo', 'Familiar'),\n",
       " (117, '12', 'Campo', 'Ocio Nocturno'),\n",
       " (118, '14', 'Campo', 'Ocio Nocturno'),\n",
       " (119, '13', 'Ciudad', 'Gastronomia'),\n",
       " (120, '15', 'Ciudad', 'Familiar'),\n",
       " (121, '15', 'Ciudad', 'Familiar'),\n",
       " (122, '16', 'Playa', 'Familiar'),\n",
       " (123, '2', 'Ciudad', 'Gastronomia'),\n",
       " (124, '2', 'Montaña', 'Gastronomia'),\n",
       " (125, '5', 'Campo', 'Ocio Nocturno'),\n",
       " (126, '4', 'Montaña', 'Gastronomia'),\n",
       " (127, '18', 'Campo', 'Gastronomia'),\n",
       " (128, '15', 'Ciudad', 'Cultura'),\n",
       " (129, '5', 'Montaña', 'Cultura'),\n",
       " (130, '2', 'Playa', 'Familiar'),\n",
       " (131, '8', 'Playa', 'Cultura'),\n",
       " (132, '3', 'Playa', 'Familiar'),\n",
       " (133, '5', 'Playa', 'Familiar'),\n",
       " (134, '2', 'Playa', 'Cultura'),\n",
       " (135, '2', 'Playa', 'Cultura'),\n",
       " (136, '8', 'Campo', 'Gastronomia'),\n",
       " (137, '2', 'Montaña', 'Cultura'),\n",
       " (138, '1', 'Montaña', 'Gastronomia'),\n",
       " (139, '12', 'Montaña', 'Gastronomia'),\n",
       " (140, '17', 'Ciudad', 'Ocio Nocturno'),\n",
       " (141, '50', 'Ciudad', 'Cultura'),\n",
       " (142, '3', 'Ciudad', 'Familiar'),\n",
       " (143, '7', 'Playa', 'Cultura'),\n",
       " (144, '41', 'Montaña', 'Familiar'),\n",
       " (145, '44', 'Playa', 'Gastronomia'),\n",
       " (146, '50', 'Campo', 'Ocio Nocturno'),\n",
       " (147, '5', 'Ciudad', 'Familiar'),\n",
       " (148, '16', 'Ciudad', 'Cultura'),\n",
       " (149, '4', 'Montaña', 'Ocio Nocturno'),\n",
       " (150, '49', 'Ciudad', 'Gastronomia'),\n",
       " (151, '11', 'Playa', 'Familiar'),\n",
       " (152, '47', 'Playa', 'Cultura'),\n",
       " (153, '14', 'Montaña', 'Cultura'),\n",
       " (154, '46', 'Campo', 'Gastronomia'),\n",
       " (155, '40', 'Playa', 'Ocio Nocturno'),\n",
       " (156, '9', 'Montaña', 'Gastronomia'),\n",
       " (157, '6', 'Campo', 'Cultura'),\n",
       " (158, '13', 'Ciudad', 'Cultura'),\n",
       " (159, '43', 'Ciudad', 'Cultura'),\n",
       " (160, '7', 'Ciudad', 'Cultura'),\n",
       " (161, '10', 'Ciudad', 'Cultura'),\n",
       " (162, '21', 'Montaña', 'Cultura'),\n",
       " (163, '21', 'Montaña', 'Cultura'),\n",
       " (164, '17', 'Playa', 'Ocio Nocturno'),\n",
       " (165, '15', 'Ciudad', 'Familiar'),\n",
       " (166, '15', 'Ciudad', 'Familiar'),\n",
       " (167, '15', 'Ciudad', 'Familiar'),\n",
       " (168, '13', 'Playa', 'Familiar'),\n",
       " (169, '15', 'Ciudad', 'Ocio Nocturno'),\n",
       " (170, '16', 'Playa', 'Familiar'),\n",
       " (171, '13', 'Ciudad', 'Familiar'),\n",
       " (172, '15', 'Campo', 'Familiar'),\n",
       " (173, '14', 'Ciudad', 'Familiar'),\n",
       " (174, '16', 'Campo', 'Cultura'),\n",
       " (175, '15', 'Ciudad', 'Familiar'),\n",
       " (176, '16', 'Ciudad', 'Gastronomia'),\n",
       " (177, '8', 'Campo', 'Ocio Nocturno'),\n",
       " (178, '15', 'Playa', 'Familiar'),\n",
       " (179, '6', 'Ciudad', 'Ocio Nocturno'),\n",
       " (180, '10', 'Ciudad', 'Ocio Nocturno'),\n",
       " (181, '12', 'Playa', 'Gastronomia'),\n",
       " (182, '13', 'Montaña', 'Cultura'),\n",
       " (183, '3', 'Playa', 'Familiar'),\n",
       " (184, '4', 'Ciudad', 'Ocio Nocturno'),\n",
       " (185, '14', 'Campo', 'Cultura'),\n",
       " (186, '16', 'Ciudad', 'Gastronomia'),\n",
       " (187, '12', 'Ciudad', 'Familiar'),\n",
       " (188, '15', 'Montaña', 'Ocio Nocturno'),\n",
       " (189, '3', 'Playa', 'Cultura'),\n",
       " (190, '47', 'Playa', 'Familiar'),\n",
       " (191, '51', 'Ciudad', 'Cultura'),\n",
       " (192, '49', 'Campo', 'Gastronomia'),\n",
       " (193, '51', 'Ciudad', 'Familiar'),\n",
       " (194, '42', 'Montaña', 'Familiar'),\n",
       " (195, '25', 'Playa', 'Gastronomia'),\n",
       " (196, '13', 'Campo', 'Familiar'),\n",
       " (197, '3', 'Montaña', 'Gastronomia'),\n",
       " (198, '12', 'Campo', 'Ocio Nocturno'),\n",
       " (199, '13', 'Ciudad', 'Familiar'),\n",
<<<<<<< HEAD
       " (200, '12', 'Ciudad', 'Familiar')]"
      ]
     },
     "execution_count": 167,
=======
       " (200, '12', 'Ciudad', 'Familiar'),\n",
       " (201, '8', 'Playa', 'Familiar'),\n",
       " (202, '12', 'Montaña', 'Familiar'),\n",
       " (203, '41', 'Playa', 'Cultura'),\n",
       " (204, '32', 'Montaña', 'Ocio Nocturno'),\n",
       " (205, '9', 'Ciudad', 'Ocio Nocturno')]"
      ]
     },
<<<<<<< HEAD
     "execution_count": 470,
=======
     "execution_count": 434,
>>>>>>> 6aefa4d8d367b7c2b90895f27b84b20dab197245
>>>>>>> f4859ca788a6695484154a5021891013f2c6edb0
     "metadata": {},
     "output_type": "execute_result"
    }
   ],
   "source": [
    "ls_input"
   ]
  },
  {
   "cell_type": "code",
<<<<<<< HEAD
   "execution_count": 471,
=======
<<<<<<< HEAD
   "execution_count": 168,
=======
   "execution_count": 435,
>>>>>>> 6aefa4d8d367b7c2b90895f27b84b20dab197245
>>>>>>> f4859ca788a6695484154a5021891013f2c6edb0
   "metadata": {},
   "outputs": [
    {
     "data": {
      "text/html": [
       "<div>\n",
       "<style scoped>\n",
       "    .dataframe tbody tr th:only-of-type {\n",
       "        vertical-align: middle;\n",
       "    }\n",
       "\n",
       "    .dataframe tbody tr th {\n",
       "        vertical-align: top;\n",
       "    }\n",
       "\n",
       "    .dataframe thead th {\n",
       "        text-align: right;\n",
       "    }\n",
       "</style>\n",
       "<table border=\"1\" class=\"dataframe\">\n",
       "  <thead>\n",
       "    <tr style=\"text-align: right;\">\n",
       "      <th></th>\n",
       "      <th>ID_INDEX</th>\n",
       "      <th>COD_PROVINCIAS</th>\n",
       "      <th>ENTORNO</th>\n",
       "      <th>ACTIVIDADES</th>\n",
       "    </tr>\n",
       "  </thead>\n",
       "  <tbody>\n",
       "    <tr>\n",
       "      <th>0</th>\n",
       "      <td>108</td>\n",
       "      <td>16</td>\n",
       "      <td>Ciudad</td>\n",
       "      <td>Cultura</td>\n",
       "    </tr>\n",
       "    <tr>\n",
       "      <th>1</th>\n",
       "      <td>109</td>\n",
       "      <td>18</td>\n",
       "      <td>Ciudad</td>\n",
       "      <td>Ocio Nocturno</td>\n",
       "    </tr>\n",
       "    <tr>\n",
       "      <th>2</th>\n",
       "      <td>110</td>\n",
       "      <td>15</td>\n",
       "      <td>Playa</td>\n",
       "      <td>Familiar</td>\n",
       "    </tr>\n",
       "    <tr>\n",
       "      <th>3</th>\n",
       "      <td>111</td>\n",
       "      <td>2</td>\n",
       "      <td>Montaña</td>\n",
       "      <td>Gastronomia</td>\n",
       "    </tr>\n",
       "    <tr>\n",
       "      <th>4</th>\n",
       "      <td>112</td>\n",
       "      <td>3</td>\n",
       "      <td>Playa</td>\n",
       "      <td>Cultura</td>\n",
       "    </tr>\n",
       "    <tr>\n",
       "      <th>...</th>\n",
       "      <td>...</td>\n",
       "      <td>...</td>\n",
       "      <td>...</td>\n",
       "      <td>...</td>\n",
       "    </tr>\n",
       "    <tr>\n",
<<<<<<< HEAD
=======
<<<<<<< HEAD
       "      <th>89</th>\n",
       "      <td>196</td>\n",
       "      <td>13</td>\n",
       "      <td>Campo</td>\n",
       "      <td>Familiar</td>\n",
       "    </tr>\n",
       "    <tr>\n",
       "      <th>90</th>\n",
       "      <td>197</td>\n",
       "      <td>3</td>\n",
       "      <td>Montaña</td>\n",
       "      <td>Gastronomia</td>\n",
       "    </tr>\n",
       "    <tr>\n",
=======
>>>>>>> 6aefa4d8d367b7c2b90895f27b84b20dab197245
       "      <th>91</th>\n",
       "      <td>198</td>\n",
       "      <td>12</td>\n",
       "      <td>Campo</td>\n",
       "      <td>Ocio Nocturno</td>\n",
       "    </tr>\n",
       "    <tr>\n",
       "      <th>92</th>\n",
       "      <td>199</td>\n",
       "      <td>13</td>\n",
       "      <td>Ciudad</td>\n",
<<<<<<< HEAD
       "      <td>Familiar</td>\n",
       "    </tr>\n",
       "    <tr>\n",
       "      <th>93</th>\n",
       "      <td>200</td>\n",
       "      <td>12</td>\n",
       "      <td>Ciudad</td>\n",
=======
       "      <td>Familiar</td>\n",
       "    </tr>\n",
       "    <tr>\n",
>>>>>>> f4859ca788a6695484154a5021891013f2c6edb0
       "      <th>93</th>\n",
       "      <td>201</td>\n",
       "      <td>8</td>\n",
       "      <td>Playa</td>\n",
       "      <td>Familiar</td>\n",
       "    </tr>\n",
       "    <tr>\n",
       "      <th>94</th>\n",
       "      <td>202</td>\n",
       "      <td>12</td>\n",
       "      <td>Montaña</td>\n",
>>>>>>> 6aefa4d8d367b7c2b90895f27b84b20dab197245
       "      <td>Familiar</td>\n",
       "    </tr>\n",
       "    <tr>\n",
       "      <th>95</th>\n",
       "      <td>203</td>\n",
       "      <td>41</td>\n",
       "      <td>Playa</td>\n",
       "      <td>Cultura</td>\n",
       "    </tr>\n",
       "    <tr>\n",
       "      <th>96</th>\n",
       "      <td>204</td>\n",
       "      <td>32</td>\n",
       "      <td>Montaña</td>\n",
       "      <td>Ocio Nocturno</td>\n",
       "    </tr>\n",
       "    <tr>\n",
       "      <th>97</th>\n",
       "      <td>205</td>\n",
       "      <td>9</td>\n",
       "      <td>Ciudad</td>\n",
       "      <td>Ocio Nocturno</td>\n",
       "    </tr>\n",
       "  </tbody>\n",
       "</table>\n",
<<<<<<< HEAD
       "<p>98 rows × 4 columns</p>\n",
=======
<<<<<<< HEAD
       "<p>94 rows × 4 columns</p>\n",
=======
       "<p>96 rows × 4 columns</p>\n",
>>>>>>> 6aefa4d8d367b7c2b90895f27b84b20dab197245
>>>>>>> f4859ca788a6695484154a5021891013f2c6edb0
       "</div>"
      ],
      "text/plain": [
       "    ID_INDEX COD_PROVINCIAS  ENTORNO    ACTIVIDADES\n",
       "0        108             16   Ciudad        Cultura\n",
       "1        109             18   Ciudad  Ocio Nocturno\n",
       "2        110             15    Playa       Familiar\n",
       "3        111              2  Montaña    Gastronomia\n",
       "4        112              3    Playa        Cultura\n",
       "..       ...            ...      ...            ...\n",
<<<<<<< HEAD
       "93       201              8    Playa       Familiar\n",
       "94       202             12  Montaña       Familiar\n",
       "95       203             41    Playa        Cultura\n",
       "96       204             32  Montaña  Ocio Nocturno\n",
       "97       205              9   Ciudad  Ocio Nocturno\n",
=======
<<<<<<< HEAD
       "89       196             13    Campo       Familiar\n",
       "90       197              3  Montaña    Gastronomia\n",
       "91       198             12    Campo  Ocio Nocturno\n",
       "92       199             13   Ciudad       Familiar\n",
       "93       200             12   Ciudad       Familiar\n",
       "\n",
       "[94 rows x 4 columns]"
      ]
     },
     "execution_count": 168,
=======
       "91       198             12    Campo  Ocio Nocturno\n",
       "92       199             13   Ciudad       Familiar\n",
       "93       200             12   Ciudad       Familiar\n",
       "94       201              8    Playa       Familiar\n",
       "95       202             12  Montaña       Familiar\n",
>>>>>>> f4859ca788a6695484154a5021891013f2c6edb0
       "\n",
       "[98 rows x 4 columns]"
      ]
     },
<<<<<<< HEAD
     "execution_count": 471,
=======
     "execution_count": 435,
>>>>>>> 6aefa4d8d367b7c2b90895f27b84b20dab197245
>>>>>>> f4859ca788a6695484154a5021891013f2c6edb0
     "metadata": {},
     "output_type": "execute_result"
    }
   ],
   "source": [
    "df_input = pd.DataFrame(ls_input, columns=('ID_INDEX','COD_PROVINCIAS','ENTORNO', 'ACTIVIDADES'))\n",
    "df_input"
   ]
  },
  {
   "cell_type": "code",
<<<<<<< HEAD
   "execution_count": 472,
   "metadata": {},
   "outputs": [
    {
     "data": {
      "text/plain": [
       "array(['Cultura', 'Ocio Nocturno', 'Familiar', 'Gastronomia'],\n",
       "      dtype=object)"
      ]
     },
     "execution_count": 472,
     "metadata": {},
     "output_type": "execute_result"
    }
   ],
   "source": [
    "df_input['ACTIVIDADES'].unique()"
   ]
  },
  {
   "cell_type": "code",
   "execution_count": 473,
=======
<<<<<<< HEAD
   "execution_count": 169,
=======
   "execution_count": 436,
>>>>>>> 6aefa4d8d367b7c2b90895f27b84b20dab197245
>>>>>>> f4859ca788a6695484154a5021891013f2c6edb0
   "metadata": {},
   "outputs": [
    {
     "data": {
      "application/vnd.plotly.v1+json": {
       "config": {
        "plotlyServerURL": "https://plot.ly"
       },
       "data": [
        {
         "alignmentgroup": "True",
<<<<<<< HEAD
=======
         "hovertemplate": "color=Gastronomía<br>x=%{x}<br>y=%{y}<br>text=%{text}<extra></extra>",
         "legendgroup": "Gastronomía",
         "marker": {
          "color": "#636efa",
          "opacity": 0.9,
          "pattern": {
           "shape": ""
          }
         },
         "name": "Gastronomía",
         "offsetgroup": "Gastronomía",
         "orientation": "h",
         "showlegend": true,
         "text": [
<<<<<<< HEAD
          32.97872340425532
=======
          34.375
>>>>>>> 6aefa4d8d367b7c2b90895f27b84b20dab197245
         ],
         "textposition": "outside",
         "texttemplate": "%{text:0.2f}%",
         "type": "bar",
         "x": [
<<<<<<< HEAD
          31
=======
          33
>>>>>>> 6aefa4d8d367b7c2b90895f27b84b20dab197245
         ],
         "xaxis": "x",
         "y": [
          "Gastronomía"
         ],
         "yaxis": "y"
        },
        {
         "alignmentgroup": "True",
>>>>>>> f4859ca788a6695484154a5021891013f2c6edb0
         "hovertemplate": "color=Cultura<br>x=%{x}<br>y=%{y}<br>text=%{text}<extra></extra>",
         "legendgroup": "Cultura",
         "marker": {
          "color": "#636efa",
          "opacity": 0.9,
          "pattern": {
           "shape": ""
          }
         },
         "name": "Cultura",
         "offsetgroup": "Cultura",
         "orientation": "h",
         "showlegend": true,
         "text": [
<<<<<<< HEAD
          33.6734693877551
=======
<<<<<<< HEAD
          26.595744680851062
=======
          26.041666666666668
>>>>>>> 6aefa4d8d367b7c2b90895f27b84b20dab197245
>>>>>>> f4859ca788a6695484154a5021891013f2c6edb0
         ],
         "textposition": "outside",
         "texttemplate": "%{text:0.2f}%",
         "type": "bar",
         "x": [
          33
         ],
         "xaxis": "x",
         "y": [
          "Cultura"
         ],
         "yaxis": "y"
        },
        {
         "alignmentgroup": "True",
         "hovertemplate": "color=Ocio Nocturno<br>x=%{x}<br>y=%{y}<br>text=%{text}<extra></extra>",
         "legendgroup": "Ocio Nocturno",
         "marker": {
          "color": "#EF553B",
          "opacity": 0.9,
          "pattern": {
           "shape": ""
          }
         },
         "name": "Ocio Nocturno",
         "offsetgroup": "Ocio Nocturno",
         "orientation": "h",
         "showlegend": true,
         "text": [
<<<<<<< HEAD
          26.53061224489796
=======
<<<<<<< HEAD
          21.27659574468085
=======
          20.833333333333336
>>>>>>> 6aefa4d8d367b7c2b90895f27b84b20dab197245
>>>>>>> f4859ca788a6695484154a5021891013f2c6edb0
         ],
         "textposition": "outside",
         "texttemplate": "%{text:0.2f}%",
         "type": "bar",
         "x": [
          26
         ],
         "xaxis": "x",
         "y": [
          "Ocio Nocturno"
         ],
         "yaxis": "y"
        },
        {
         "alignmentgroup": "True",
         "hovertemplate": "color=Familiar<br>x=%{x}<br>y=%{y}<br>text=%{text}<extra></extra>",
         "legendgroup": "Familiar",
         "marker": {
          "color": "#00cc96",
          "opacity": 0.9,
          "pattern": {
           "shape": ""
          }
         },
         "name": "Familiar",
         "offsetgroup": "Familiar",
         "orientation": "h",
         "showlegend": true,
         "text": [
<<<<<<< HEAD
          20.408163265306122
=======
<<<<<<< HEAD
          18.085106382978726
=======
          17.708333333333336
>>>>>>> 6aefa4d8d367b7c2b90895f27b84b20dab197245
>>>>>>> f4859ca788a6695484154a5021891013f2c6edb0
         ],
         "textposition": "outside",
         "texttemplate": "%{text:0.2f}%",
         "type": "bar",
         "x": [
          20
         ],
         "xaxis": "x",
         "y": [
          "Familiar"
         ],
         "yaxis": "y"
        },
        {
         "alignmentgroup": "True",
         "hovertemplate": "color=Gastronomia<br>x=%{x}<br>y=%{y}<br>text=%{text}<extra></extra>",
         "legendgroup": "Gastronomia",
         "marker": {
          "color": "#ab63fa",
          "opacity": 0.9,
          "pattern": {
           "shape": ""
          }
         },
         "name": "Gastronomia",
         "offsetgroup": "Gastronomia",
         "orientation": "h",
         "showlegend": true,
         "text": [
<<<<<<< HEAD
          19.387755102040817
=======
<<<<<<< HEAD
          1.0638297872340425
=======
          1.0416666666666665
>>>>>>> 6aefa4d8d367b7c2b90895f27b84b20dab197245
>>>>>>> f4859ca788a6695484154a5021891013f2c6edb0
         ],
         "textposition": "outside",
         "texttemplate": "%{text:0.2f}%",
         "type": "bar",
         "x": [
          19
         ],
         "xaxis": "x",
         "y": [
          "Gastronomia"
         ],
         "yaxis": "y"
        }
       ],
       "layout": {
        "barmode": "overlay",
        "font": {
         "color": "black",
         "size": 12
        },
        "height": 800,
        "legend": {
         "title": {
          "text": "LEYENDA"
         },
         "tracegroupgap": 0
        },
        "template": {
         "data": {
          "bar": [
           {
            "error_x": {
             "color": "#2a3f5f"
            },
            "error_y": {
             "color": "#2a3f5f"
            },
            "marker": {
             "line": {
              "color": "#E5ECF6",
              "width": 0.5
             },
             "pattern": {
              "fillmode": "overlay",
              "size": 10,
              "solidity": 0.2
             }
            },
            "type": "bar"
           }
          ],
          "barpolar": [
           {
            "marker": {
             "line": {
              "color": "#E5ECF6",
              "width": 0.5
             },
             "pattern": {
              "fillmode": "overlay",
              "size": 10,
              "solidity": 0.2
             }
            },
            "type": "barpolar"
           }
          ],
          "carpet": [
           {
            "aaxis": {
             "endlinecolor": "#2a3f5f",
             "gridcolor": "white",
             "linecolor": "white",
             "minorgridcolor": "white",
             "startlinecolor": "#2a3f5f"
            },
            "baxis": {
             "endlinecolor": "#2a3f5f",
             "gridcolor": "white",
             "linecolor": "white",
             "minorgridcolor": "white",
             "startlinecolor": "#2a3f5f"
            },
            "type": "carpet"
           }
          ],
          "choropleth": [
           {
            "colorbar": {
             "outlinewidth": 0,
             "ticks": ""
            },
            "type": "choropleth"
           }
          ],
          "contour": [
           {
            "colorbar": {
             "outlinewidth": 0,
             "ticks": ""
            },
            "colorscale": [
             [
              0,
              "#0d0887"
             ],
             [
              0.1111111111111111,
              "#46039f"
             ],
             [
              0.2222222222222222,
              "#7201a8"
             ],
             [
              0.3333333333333333,
              "#9c179e"
             ],
             [
              0.4444444444444444,
              "#bd3786"
             ],
             [
              0.5555555555555556,
              "#d8576b"
             ],
             [
              0.6666666666666666,
              "#ed7953"
             ],
             [
              0.7777777777777778,
              "#fb9f3a"
             ],
             [
              0.8888888888888888,
              "#fdca26"
             ],
             [
              1,
              "#f0f921"
             ]
            ],
            "type": "contour"
           }
          ],
          "contourcarpet": [
           {
            "colorbar": {
             "outlinewidth": 0,
             "ticks": ""
            },
            "type": "contourcarpet"
           }
          ],
          "heatmap": [
           {
            "colorbar": {
             "outlinewidth": 0,
             "ticks": ""
            },
            "colorscale": [
             [
              0,
              "#0d0887"
             ],
             [
              0.1111111111111111,
              "#46039f"
             ],
             [
              0.2222222222222222,
              "#7201a8"
             ],
             [
              0.3333333333333333,
              "#9c179e"
             ],
             [
              0.4444444444444444,
              "#bd3786"
             ],
             [
              0.5555555555555556,
              "#d8576b"
             ],
             [
              0.6666666666666666,
              "#ed7953"
             ],
             [
              0.7777777777777778,
              "#fb9f3a"
             ],
             [
              0.8888888888888888,
              "#fdca26"
             ],
             [
              1,
              "#f0f921"
             ]
            ],
            "type": "heatmap"
           }
          ],
          "heatmapgl": [
           {
            "colorbar": {
             "outlinewidth": 0,
             "ticks": ""
            },
            "colorscale": [
             [
              0,
              "#0d0887"
             ],
             [
              0.1111111111111111,
              "#46039f"
             ],
             [
              0.2222222222222222,
              "#7201a8"
             ],
             [
              0.3333333333333333,
              "#9c179e"
             ],
             [
              0.4444444444444444,
              "#bd3786"
             ],
             [
              0.5555555555555556,
              "#d8576b"
             ],
             [
              0.6666666666666666,
              "#ed7953"
             ],
             [
              0.7777777777777778,
              "#fb9f3a"
             ],
             [
              0.8888888888888888,
              "#fdca26"
             ],
             [
              1,
              "#f0f921"
             ]
            ],
            "type": "heatmapgl"
           }
          ],
          "histogram": [
           {
            "marker": {
             "pattern": {
              "fillmode": "overlay",
              "size": 10,
              "solidity": 0.2
             }
            },
            "type": "histogram"
           }
          ],
          "histogram2d": [
           {
            "colorbar": {
             "outlinewidth": 0,
             "ticks": ""
            },
            "colorscale": [
             [
              0,
              "#0d0887"
             ],
             [
              0.1111111111111111,
              "#46039f"
             ],
             [
              0.2222222222222222,
              "#7201a8"
             ],
             [
              0.3333333333333333,
              "#9c179e"
             ],
             [
              0.4444444444444444,
              "#bd3786"
             ],
             [
              0.5555555555555556,
              "#d8576b"
             ],
             [
              0.6666666666666666,
              "#ed7953"
             ],
             [
              0.7777777777777778,
              "#fb9f3a"
             ],
             [
              0.8888888888888888,
              "#fdca26"
             ],
             [
              1,
              "#f0f921"
             ]
            ],
            "type": "histogram2d"
           }
          ],
          "histogram2dcontour": [
           {
            "colorbar": {
             "outlinewidth": 0,
             "ticks": ""
            },
            "colorscale": [
             [
              0,
              "#0d0887"
             ],
             [
              0.1111111111111111,
              "#46039f"
             ],
             [
              0.2222222222222222,
              "#7201a8"
             ],
             [
              0.3333333333333333,
              "#9c179e"
             ],
             [
              0.4444444444444444,
              "#bd3786"
             ],
             [
              0.5555555555555556,
              "#d8576b"
             ],
             [
              0.6666666666666666,
              "#ed7953"
             ],
             [
              0.7777777777777778,
              "#fb9f3a"
             ],
             [
              0.8888888888888888,
              "#fdca26"
             ],
             [
              1,
              "#f0f921"
             ]
            ],
            "type": "histogram2dcontour"
           }
          ],
          "mesh3d": [
           {
            "colorbar": {
             "outlinewidth": 0,
             "ticks": ""
            },
            "type": "mesh3d"
           }
          ],
          "parcoords": [
           {
            "line": {
             "colorbar": {
              "outlinewidth": 0,
              "ticks": ""
             }
            },
            "type": "parcoords"
           }
          ],
          "pie": [
           {
            "automargin": true,
            "type": "pie"
           }
          ],
          "scatter": [
           {
            "fillpattern": {
             "fillmode": "overlay",
             "size": 10,
             "solidity": 0.2
            },
            "type": "scatter"
           }
          ],
          "scatter3d": [
           {
            "line": {
             "colorbar": {
              "outlinewidth": 0,
              "ticks": ""
             }
            },
            "marker": {
             "colorbar": {
              "outlinewidth": 0,
              "ticks": ""
             }
            },
            "type": "scatter3d"
           }
          ],
          "scattercarpet": [
           {
            "marker": {
             "colorbar": {
              "outlinewidth": 0,
              "ticks": ""
             }
            },
            "type": "scattercarpet"
           }
          ],
          "scattergeo": [
           {
            "marker": {
             "colorbar": {
              "outlinewidth": 0,
              "ticks": ""
             }
            },
            "type": "scattergeo"
           }
          ],
          "scattergl": [
           {
            "marker": {
             "colorbar": {
              "outlinewidth": 0,
              "ticks": ""
             }
            },
            "type": "scattergl"
           }
          ],
          "scattermapbox": [
           {
            "marker": {
             "colorbar": {
              "outlinewidth": 0,
              "ticks": ""
             }
            },
            "type": "scattermapbox"
           }
          ],
          "scatterpolar": [
           {
            "marker": {
             "colorbar": {
              "outlinewidth": 0,
              "ticks": ""
             }
            },
            "type": "scatterpolar"
           }
          ],
          "scatterpolargl": [
           {
            "marker": {
             "colorbar": {
              "outlinewidth": 0,
              "ticks": ""
             }
            },
            "type": "scatterpolargl"
           }
          ],
          "scatterternary": [
           {
            "marker": {
             "colorbar": {
              "outlinewidth": 0,
              "ticks": ""
             }
            },
            "type": "scatterternary"
           }
          ],
          "surface": [
           {
            "colorbar": {
             "outlinewidth": 0,
             "ticks": ""
            },
            "colorscale": [
             [
              0,
              "#0d0887"
             ],
             [
              0.1111111111111111,
              "#46039f"
             ],
             [
              0.2222222222222222,
              "#7201a8"
             ],
             [
              0.3333333333333333,
              "#9c179e"
             ],
             [
              0.4444444444444444,
              "#bd3786"
             ],
             [
              0.5555555555555556,
              "#d8576b"
             ],
             [
              0.6666666666666666,
              "#ed7953"
             ],
             [
              0.7777777777777778,
              "#fb9f3a"
             ],
             [
              0.8888888888888888,
              "#fdca26"
             ],
             [
              1,
              "#f0f921"
             ]
            ],
            "type": "surface"
           }
          ],
          "table": [
           {
            "cells": {
             "fill": {
              "color": "#EBF0F8"
             },
             "line": {
              "color": "white"
             }
            },
            "header": {
             "fill": {
              "color": "#C8D4E3"
             },
             "line": {
              "color": "white"
             }
            },
            "type": "table"
           }
          ]
         },
         "layout": {
          "annotationdefaults": {
           "arrowcolor": "#2a3f5f",
           "arrowhead": 0,
           "arrowwidth": 1
          },
          "autotypenumbers": "strict",
          "coloraxis": {
           "colorbar": {
            "outlinewidth": 0,
            "ticks": ""
           }
          },
          "colorscale": {
           "diverging": [
            [
             0,
             "#8e0152"
            ],
            [
             0.1,
             "#c51b7d"
            ],
            [
             0.2,
             "#de77ae"
            ],
            [
             0.3,
             "#f1b6da"
            ],
            [
             0.4,
             "#fde0ef"
            ],
            [
             0.5,
             "#f7f7f7"
            ],
            [
             0.6,
             "#e6f5d0"
            ],
            [
             0.7,
             "#b8e186"
            ],
            [
             0.8,
             "#7fbc41"
            ],
            [
             0.9,
             "#4d9221"
            ],
            [
             1,
             "#276419"
            ]
           ],
           "sequential": [
            [
             0,
             "#0d0887"
            ],
            [
             0.1111111111111111,
             "#46039f"
            ],
            [
             0.2222222222222222,
             "#7201a8"
            ],
            [
             0.3333333333333333,
             "#9c179e"
            ],
            [
             0.4444444444444444,
             "#bd3786"
            ],
            [
             0.5555555555555556,
             "#d8576b"
            ],
            [
             0.6666666666666666,
             "#ed7953"
            ],
            [
             0.7777777777777778,
             "#fb9f3a"
            ],
            [
             0.8888888888888888,
             "#fdca26"
            ],
            [
             1,
             "#f0f921"
            ]
           ],
           "sequentialminus": [
            [
             0,
             "#0d0887"
            ],
            [
             0.1111111111111111,
             "#46039f"
            ],
            [
             0.2222222222222222,
             "#7201a8"
            ],
            [
             0.3333333333333333,
             "#9c179e"
            ],
            [
             0.4444444444444444,
             "#bd3786"
            ],
            [
             0.5555555555555556,
             "#d8576b"
            ],
            [
             0.6666666666666666,
             "#ed7953"
            ],
            [
             0.7777777777777778,
             "#fb9f3a"
            ],
            [
             0.8888888888888888,
             "#fdca26"
            ],
            [
             1,
             "#f0f921"
            ]
           ]
          },
          "colorway": [
           "#636efa",
           "#EF553B",
           "#00cc96",
           "#ab63fa",
           "#FFA15A",
           "#19d3f3",
           "#FF6692",
           "#B6E880",
           "#FF97FF",
           "#FECB52"
          ],
          "font": {
           "color": "#2a3f5f"
          },
          "geo": {
           "bgcolor": "white",
           "lakecolor": "white",
           "landcolor": "#E5ECF6",
           "showlakes": true,
           "showland": true,
           "subunitcolor": "white"
          },
          "hoverlabel": {
           "align": "left"
          },
          "hovermode": "closest",
          "mapbox": {
           "style": "light"
          },
          "paper_bgcolor": "white",
          "plot_bgcolor": "#E5ECF6",
          "polar": {
           "angularaxis": {
            "gridcolor": "white",
            "linecolor": "white",
            "ticks": ""
           },
           "bgcolor": "#E5ECF6",
           "radialaxis": {
            "gridcolor": "white",
            "linecolor": "white",
            "ticks": ""
           }
          },
          "scene": {
           "xaxis": {
            "backgroundcolor": "#E5ECF6",
            "gridcolor": "white",
            "gridwidth": 2,
            "linecolor": "white",
            "showbackground": true,
            "ticks": "",
            "zerolinecolor": "white"
           },
           "yaxis": {
            "backgroundcolor": "#E5ECF6",
            "gridcolor": "white",
            "gridwidth": 2,
            "linecolor": "white",
            "showbackground": true,
            "ticks": "",
            "zerolinecolor": "white"
           },
           "zaxis": {
            "backgroundcolor": "#E5ECF6",
            "gridcolor": "white",
            "gridwidth": 2,
            "linecolor": "white",
            "showbackground": true,
            "ticks": "",
            "zerolinecolor": "white"
           }
          },
          "shapedefaults": {
           "line": {
            "color": "#2a3f5f"
           }
          },
          "ternary": {
           "aaxis": {
            "gridcolor": "white",
            "linecolor": "white",
            "ticks": ""
           },
           "baxis": {
            "gridcolor": "white",
            "linecolor": "white",
            "ticks": ""
           },
           "bgcolor": "#E5ECF6",
           "caxis": {
            "gridcolor": "white",
            "linecolor": "white",
            "ticks": ""
           }
          },
          "title": {
           "x": 0.05
          },
          "xaxis": {
           "automargin": true,
           "gridcolor": "white",
           "linecolor": "white",
           "ticks": "",
           "title": {
            "standoff": 15
           },
           "zerolinecolor": "white",
           "zerolinewidth": 2
          },
          "yaxis": {
           "automargin": true,
           "gridcolor": "white",
           "linecolor": "white",
           "ticks": "",
           "title": {
            "standoff": 15
           },
           "zerolinecolor": "white",
           "zerolinewidth": 2
          }
         }
        },
        "title": {
         "font": {
          "color": "black",
          "size": 25
         },
         "text": "TOTAL DE VISITAS POR ACTIVIDAD",
         "x": 0.5,
         "xanchor": "auto"
        },
        "uniformtext": {
         "minsize": 10,
         "mode": "hide"
        },
        "width": 1200,
        "xaxis": {
         "anchor": "y",
         "domain": [
          0,
          1
         ],
         "title": {
          "text": "PORCENTAJE VISITAS"
         }
        },
        "yaxis": {
         "anchor": "x",
         "domain": [
          0,
          1
         ],
         "title": {
          "text": "ACTIVIDADES"
         }
        }
       }
      }
     },
     "metadata": {},
     "output_type": "display_data"
    }
   ],
   "source": [
    "colores2=df_input['ACTIVIDADES'].unique()\n",
    "contador_actividades=df_input[\"ACTIVIDADES\"].value_counts()\n",
    "total2=contador_actividades.sum()\n",
    "porcentaje2=(contador_actividades/total2)*100\n",
    "\n",
    "fig = px.bar(df_input, y=df_input['ACTIVIDADES'].unique(), x=df_input['ACTIVIDADES'].value_counts(), text=porcentaje2,title=\"TOTAL DE VISITAS POR ACTIVIDAD\", color=colores2, barmode=\"overlay\", opacity=.90)\n",
    "fig.update_traces(texttemplate='%{text:0.2f}%', textposition='outside')\n",
    "fig.update_layout(uniformtext_minsize=10, uniformtext_mode='hide')\n",
    "fig.update_layout(barmode='overlay',width=1200, height=800,title_font_size=25, title_font_color='black', title_xanchor='auto')\n",
    "fig.update_layout(title_x=0.5, font_color='black')\n",
    "fig.update_layout(font_color='black')\n",
    "fig.update_layout(font_size=12)\n",
    "fig.update_layout(xaxis_title=\"PORCENTAJE VISITAS\", yaxis_title=\"ACTIVIDADES\", legend_title=\"LEYENDA\")\n",
    "fig.show()"
   ]
  },
  {
   "cell_type": "code",
<<<<<<< HEAD
   "execution_count": 474,
=======
<<<<<<< HEAD
   "execution_count": 170,
=======
   "execution_count": 437,
>>>>>>> 6aefa4d8d367b7c2b90895f27b84b20dab197245
>>>>>>> f4859ca788a6695484154a5021891013f2c6edb0
   "metadata": {},
   "outputs": [
    {
     "data": {
      "text/plain": [
       "array(['Ciudad', 'Playa', 'Montaña', 'Campo'], dtype=object)"
      ]
     },
<<<<<<< HEAD
     "execution_count": 474,
=======
<<<<<<< HEAD
     "execution_count": 170,
=======
     "execution_count": 437,
>>>>>>> 6aefa4d8d367b7c2b90895f27b84b20dab197245
>>>>>>> f4859ca788a6695484154a5021891013f2c6edb0
     "metadata": {},
     "output_type": "execute_result"
    }
   ],
   "source": [
    "colores=df_input['ENTORNO'].unique()\n",
    "colores"
   ]
  },
  {
   "cell_type": "code",
<<<<<<< HEAD
   "execution_count": 475,
=======
<<<<<<< HEAD
   "execution_count": 171,
=======
   "execution_count": 438,
>>>>>>> 6aefa4d8d367b7c2b90895f27b84b20dab197245
>>>>>>> f4859ca788a6695484154a5021891013f2c6edb0
   "metadata": {},
   "outputs": [],
   "source": [
    "contador_entorno=df_input[\"ENTORNO\"].value_counts()\n",
    "total=contador_entorno.sum()\n",
    "porcentaje=(contador_entorno/total)*100"
   ]
  },
  {
   "cell_type": "code",
<<<<<<< HEAD
   "execution_count": 476,
=======
<<<<<<< HEAD
   "execution_count": 172,
=======
   "execution_count": 439,
>>>>>>> 6aefa4d8d367b7c2b90895f27b84b20dab197245
>>>>>>> f4859ca788a6695484154a5021891013f2c6edb0
   "metadata": {},
   "outputs": [
    {
     "data": {
      "application/vnd.plotly.v1+json": {
       "config": {
        "plotlyServerURL": "https://plot.ly"
       },
       "data": [
        {
         "alignmentgroup": "True",
<<<<<<< HEAD
=======
         "hovertemplate": "color=Playa<br>x=%{x}<br>y=%{y}<br>text=%{text}<extra></extra>",
         "legendgroup": "Playa",
         "marker": {
          "color": "#636efa",
          "opacity": 0.9,
          "pattern": {
           "shape": ""
          }
         },
         "name": "Playa",
         "offsetgroup": "Playa",
         "orientation": "h",
         "showlegend": true,
         "text": [
<<<<<<< HEAD
          36.17021276595745
=======
          35.41666666666667
>>>>>>> 6aefa4d8d367b7c2b90895f27b84b20dab197245
         ],
         "textposition": "outside",
         "texttemplate": "%{text:0.2f}%",
         "type": "bar",
         "x": [
          34
         ],
         "xaxis": "x",
         "y": [
          "Playa"
         ],
         "yaxis": "y"
        },
        {
         "alignmentgroup": "True",
>>>>>>> f4859ca788a6695484154a5021891013f2c6edb0
         "hovertemplate": "color=Ciudad<br>x=%{x}<br>y=%{y}<br>text=%{text}<extra></extra>",
         "legendgroup": "Ciudad",
         "marker": {
          "color": "#636efa",
          "opacity": 0.9,
          "pattern": {
           "shape": ""
          }
         },
         "name": "Ciudad",
         "offsetgroup": "Ciudad",
         "orientation": "h",
         "showlegend": true,
         "text": [
<<<<<<< HEAD
          35.714285714285715
         ],
         "textposition": "outside",
         "texttemplate": "%{text:0.2f}%",
         "type": "bar",
         "x": [
          35
         ],
         "xaxis": "x",
         "y": [
          "Ciudad"
         ],
         "yaxis": "y"
        },
        {
         "alignmentgroup": "True",
         "hovertemplate": "color=Playa<br>x=%{x}<br>y=%{y}<br>text=%{text}<extra></extra>",
         "legendgroup": "Playa",
         "marker": {
          "color": "#EF553B",
          "opacity": 0.9,
          "pattern": {
           "shape": ""
          }
         },
         "name": "Playa",
         "offsetgroup": "Playa",
         "orientation": "h",
         "showlegend": true,
         "text": [
          27.55102040816326
=======
<<<<<<< HEAD
          27.659574468085108
=======
          28.125
>>>>>>> 6aefa4d8d367b7c2b90895f27b84b20dab197245
>>>>>>> f4859ca788a6695484154a5021891013f2c6edb0
         ],
         "textposition": "outside",
         "texttemplate": "%{text:0.2f}%",
         "type": "bar",
         "x": [
<<<<<<< HEAD
          26
=======
          27
>>>>>>> 6aefa4d8d367b7c2b90895f27b84b20dab197245
         ],
         "xaxis": "x",
         "y": [
          "Playa"
         ],
         "yaxis": "y"
        },
        {
         "alignmentgroup": "True",
         "hovertemplate": "color=Montaña<br>x=%{x}<br>y=%{y}<br>text=%{text}<extra></extra>",
         "legendgroup": "Montaña",
         "marker": {
          "color": "#00cc96",
          "opacity": 0.9,
          "pattern": {
           "shape": ""
          }
         },
         "name": "Montaña",
         "offsetgroup": "Montaña",
         "orientation": "h",
         "showlegend": true,
         "text": [
<<<<<<< HEAD
          20.408163265306122
=======
<<<<<<< HEAD
          19.148936170212767
=======
          19.791666666666664
>>>>>>> 6aefa4d8d367b7c2b90895f27b84b20dab197245
>>>>>>> f4859ca788a6695484154a5021891013f2c6edb0
         ],
         "textposition": "outside",
         "texttemplate": "%{text:0.2f}%",
         "type": "bar",
         "x": [
<<<<<<< HEAD
          20
=======
<<<<<<< HEAD
          18
=======
          19
>>>>>>> 6aefa4d8d367b7c2b90895f27b84b20dab197245
>>>>>>> f4859ca788a6695484154a5021891013f2c6edb0
         ],
         "xaxis": "x",
         "y": [
          "Montaña"
         ],
         "yaxis": "y"
        },
        {
         "alignmentgroup": "True",
         "hovertemplate": "color=Campo<br>x=%{x}<br>y=%{y}<br>text=%{text}<extra></extra>",
         "legendgroup": "Campo",
         "marker": {
          "color": "#ab63fa",
          "opacity": 0.9,
          "pattern": {
           "shape": ""
          }
         },
         "name": "Campo",
         "offsetgroup": "Campo",
         "orientation": "h",
         "showlegend": true,
         "text": [
<<<<<<< HEAD
          16.3265306122449
=======
<<<<<<< HEAD
          17.02127659574468
=======
          16.666666666666664
>>>>>>> 6aefa4d8d367b7c2b90895f27b84b20dab197245
>>>>>>> f4859ca788a6695484154a5021891013f2c6edb0
         ],
         "textposition": "outside",
         "texttemplate": "%{text:0.2f}%",
         "type": "bar",
         "x": [
          16
         ],
         "xaxis": "x",
         "y": [
          "Campo"
         ],
         "yaxis": "y"
        }
       ],
       "layout": {
        "barmode": "overlay",
        "font": {
         "color": "black",
         "size": 12
        },
        "height": 800,
        "legend": {
         "title": {
          "text": "LEYENDA"
         },
         "tracegroupgap": 0
        },
        "template": {
         "data": {
          "bar": [
           {
            "error_x": {
             "color": "#2a3f5f"
            },
            "error_y": {
             "color": "#2a3f5f"
            },
            "marker": {
             "line": {
              "color": "#E5ECF6",
              "width": 0.5
             },
             "pattern": {
              "fillmode": "overlay",
              "size": 10,
              "solidity": 0.2
             }
            },
            "type": "bar"
           }
          ],
          "barpolar": [
           {
            "marker": {
             "line": {
              "color": "#E5ECF6",
              "width": 0.5
             },
             "pattern": {
              "fillmode": "overlay",
              "size": 10,
              "solidity": 0.2
             }
            },
            "type": "barpolar"
           }
          ],
          "carpet": [
           {
            "aaxis": {
             "endlinecolor": "#2a3f5f",
             "gridcolor": "white",
             "linecolor": "white",
             "minorgridcolor": "white",
             "startlinecolor": "#2a3f5f"
            },
            "baxis": {
             "endlinecolor": "#2a3f5f",
             "gridcolor": "white",
             "linecolor": "white",
             "minorgridcolor": "white",
             "startlinecolor": "#2a3f5f"
            },
            "type": "carpet"
           }
          ],
          "choropleth": [
           {
            "colorbar": {
             "outlinewidth": 0,
             "ticks": ""
            },
            "type": "choropleth"
           }
          ],
          "contour": [
           {
            "colorbar": {
             "outlinewidth": 0,
             "ticks": ""
            },
            "colorscale": [
             [
              0,
              "#0d0887"
             ],
             [
              0.1111111111111111,
              "#46039f"
             ],
             [
              0.2222222222222222,
              "#7201a8"
             ],
             [
              0.3333333333333333,
              "#9c179e"
             ],
             [
              0.4444444444444444,
              "#bd3786"
             ],
             [
              0.5555555555555556,
              "#d8576b"
             ],
             [
              0.6666666666666666,
              "#ed7953"
             ],
             [
              0.7777777777777778,
              "#fb9f3a"
             ],
             [
              0.8888888888888888,
              "#fdca26"
             ],
             [
              1,
              "#f0f921"
             ]
            ],
            "type": "contour"
           }
          ],
          "contourcarpet": [
           {
            "colorbar": {
             "outlinewidth": 0,
             "ticks": ""
            },
            "type": "contourcarpet"
           }
          ],
          "heatmap": [
           {
            "colorbar": {
             "outlinewidth": 0,
             "ticks": ""
            },
            "colorscale": [
             [
              0,
              "#0d0887"
             ],
             [
              0.1111111111111111,
              "#46039f"
             ],
             [
              0.2222222222222222,
              "#7201a8"
             ],
             [
              0.3333333333333333,
              "#9c179e"
             ],
             [
              0.4444444444444444,
              "#bd3786"
             ],
             [
              0.5555555555555556,
              "#d8576b"
             ],
             [
              0.6666666666666666,
              "#ed7953"
             ],
             [
              0.7777777777777778,
              "#fb9f3a"
             ],
             [
              0.8888888888888888,
              "#fdca26"
             ],
             [
              1,
              "#f0f921"
             ]
            ],
            "type": "heatmap"
           }
          ],
          "heatmapgl": [
           {
            "colorbar": {
             "outlinewidth": 0,
             "ticks": ""
            },
            "colorscale": [
             [
              0,
              "#0d0887"
             ],
             [
              0.1111111111111111,
              "#46039f"
             ],
             [
              0.2222222222222222,
              "#7201a8"
             ],
             [
              0.3333333333333333,
              "#9c179e"
             ],
             [
              0.4444444444444444,
              "#bd3786"
             ],
             [
              0.5555555555555556,
              "#d8576b"
             ],
             [
              0.6666666666666666,
              "#ed7953"
             ],
             [
              0.7777777777777778,
              "#fb9f3a"
             ],
             [
              0.8888888888888888,
              "#fdca26"
             ],
             [
              1,
              "#f0f921"
             ]
            ],
            "type": "heatmapgl"
           }
          ],
          "histogram": [
           {
            "marker": {
             "pattern": {
              "fillmode": "overlay",
              "size": 10,
              "solidity": 0.2
             }
            },
            "type": "histogram"
           }
          ],
          "histogram2d": [
           {
            "colorbar": {
             "outlinewidth": 0,
             "ticks": ""
            },
            "colorscale": [
             [
              0,
              "#0d0887"
             ],
             [
              0.1111111111111111,
              "#46039f"
             ],
             [
              0.2222222222222222,
              "#7201a8"
             ],
             [
              0.3333333333333333,
              "#9c179e"
             ],
             [
              0.4444444444444444,
              "#bd3786"
             ],
             [
              0.5555555555555556,
              "#d8576b"
             ],
             [
              0.6666666666666666,
              "#ed7953"
             ],
             [
              0.7777777777777778,
              "#fb9f3a"
             ],
             [
              0.8888888888888888,
              "#fdca26"
             ],
             [
              1,
              "#f0f921"
             ]
            ],
            "type": "histogram2d"
           }
          ],
          "histogram2dcontour": [
           {
            "colorbar": {
             "outlinewidth": 0,
             "ticks": ""
            },
            "colorscale": [
             [
              0,
              "#0d0887"
             ],
             [
              0.1111111111111111,
              "#46039f"
             ],
             [
              0.2222222222222222,
              "#7201a8"
             ],
             [
              0.3333333333333333,
              "#9c179e"
             ],
             [
              0.4444444444444444,
              "#bd3786"
             ],
             [
              0.5555555555555556,
              "#d8576b"
             ],
             [
              0.6666666666666666,
              "#ed7953"
             ],
             [
              0.7777777777777778,
              "#fb9f3a"
             ],
             [
              0.8888888888888888,
              "#fdca26"
             ],
             [
              1,
              "#f0f921"
             ]
            ],
            "type": "histogram2dcontour"
           }
          ],
          "mesh3d": [
           {
            "colorbar": {
             "outlinewidth": 0,
             "ticks": ""
            },
            "type": "mesh3d"
           }
          ],
          "parcoords": [
           {
            "line": {
             "colorbar": {
              "outlinewidth": 0,
              "ticks": ""
             }
            },
            "type": "parcoords"
           }
          ],
          "pie": [
           {
            "automargin": true,
            "type": "pie"
           }
          ],
          "scatter": [
           {
            "fillpattern": {
             "fillmode": "overlay",
             "size": 10,
             "solidity": 0.2
            },
            "type": "scatter"
           }
          ],
          "scatter3d": [
           {
            "line": {
             "colorbar": {
              "outlinewidth": 0,
              "ticks": ""
             }
            },
            "marker": {
             "colorbar": {
              "outlinewidth": 0,
              "ticks": ""
             }
            },
            "type": "scatter3d"
           }
          ],
          "scattercarpet": [
           {
            "marker": {
             "colorbar": {
              "outlinewidth": 0,
              "ticks": ""
             }
            },
            "type": "scattercarpet"
           }
          ],
          "scattergeo": [
           {
            "marker": {
             "colorbar": {
              "outlinewidth": 0,
              "ticks": ""
             }
            },
            "type": "scattergeo"
           }
          ],
          "scattergl": [
           {
            "marker": {
             "colorbar": {
              "outlinewidth": 0,
              "ticks": ""
             }
            },
            "type": "scattergl"
           }
          ],
          "scattermapbox": [
           {
            "marker": {
             "colorbar": {
              "outlinewidth": 0,
              "ticks": ""
             }
            },
            "type": "scattermapbox"
           }
          ],
          "scatterpolar": [
           {
            "marker": {
             "colorbar": {
              "outlinewidth": 0,
              "ticks": ""
             }
            },
            "type": "scatterpolar"
           }
          ],
          "scatterpolargl": [
           {
            "marker": {
             "colorbar": {
              "outlinewidth": 0,
              "ticks": ""
             }
            },
            "type": "scatterpolargl"
           }
          ],
          "scatterternary": [
           {
            "marker": {
             "colorbar": {
              "outlinewidth": 0,
              "ticks": ""
             }
            },
            "type": "scatterternary"
           }
          ],
          "surface": [
           {
            "colorbar": {
             "outlinewidth": 0,
             "ticks": ""
            },
            "colorscale": [
             [
              0,
              "#0d0887"
             ],
             [
              0.1111111111111111,
              "#46039f"
             ],
             [
              0.2222222222222222,
              "#7201a8"
             ],
             [
              0.3333333333333333,
              "#9c179e"
             ],
             [
              0.4444444444444444,
              "#bd3786"
             ],
             [
              0.5555555555555556,
              "#d8576b"
             ],
             [
              0.6666666666666666,
              "#ed7953"
             ],
             [
              0.7777777777777778,
              "#fb9f3a"
             ],
             [
              0.8888888888888888,
              "#fdca26"
             ],
             [
              1,
              "#f0f921"
             ]
            ],
            "type": "surface"
           }
          ],
          "table": [
           {
            "cells": {
             "fill": {
              "color": "#EBF0F8"
             },
             "line": {
              "color": "white"
             }
            },
            "header": {
             "fill": {
              "color": "#C8D4E3"
             },
             "line": {
              "color": "white"
             }
            },
            "type": "table"
           }
          ]
         },
         "layout": {
          "annotationdefaults": {
           "arrowcolor": "#2a3f5f",
           "arrowhead": 0,
           "arrowwidth": 1
          },
          "autotypenumbers": "strict",
          "coloraxis": {
           "colorbar": {
            "outlinewidth": 0,
            "ticks": ""
           }
          },
          "colorscale": {
           "diverging": [
            [
             0,
             "#8e0152"
            ],
            [
             0.1,
             "#c51b7d"
            ],
            [
             0.2,
             "#de77ae"
            ],
            [
             0.3,
             "#f1b6da"
            ],
            [
             0.4,
             "#fde0ef"
            ],
            [
             0.5,
             "#f7f7f7"
            ],
            [
             0.6,
             "#e6f5d0"
            ],
            [
             0.7,
             "#b8e186"
            ],
            [
             0.8,
             "#7fbc41"
            ],
            [
             0.9,
             "#4d9221"
            ],
            [
             1,
             "#276419"
            ]
           ],
           "sequential": [
            [
             0,
             "#0d0887"
            ],
            [
             0.1111111111111111,
             "#46039f"
            ],
            [
             0.2222222222222222,
             "#7201a8"
            ],
            [
             0.3333333333333333,
             "#9c179e"
            ],
            [
             0.4444444444444444,
             "#bd3786"
            ],
            [
             0.5555555555555556,
             "#d8576b"
            ],
            [
             0.6666666666666666,
             "#ed7953"
            ],
            [
             0.7777777777777778,
             "#fb9f3a"
            ],
            [
             0.8888888888888888,
             "#fdca26"
            ],
            [
             1,
             "#f0f921"
            ]
           ],
           "sequentialminus": [
            [
             0,
             "#0d0887"
            ],
            [
             0.1111111111111111,
             "#46039f"
            ],
            [
             0.2222222222222222,
             "#7201a8"
            ],
            [
             0.3333333333333333,
             "#9c179e"
            ],
            [
             0.4444444444444444,
             "#bd3786"
            ],
            [
             0.5555555555555556,
             "#d8576b"
            ],
            [
             0.6666666666666666,
             "#ed7953"
            ],
            [
             0.7777777777777778,
             "#fb9f3a"
            ],
            [
             0.8888888888888888,
             "#fdca26"
            ],
            [
             1,
             "#f0f921"
            ]
           ]
          },
          "colorway": [
           "#636efa",
           "#EF553B",
           "#00cc96",
           "#ab63fa",
           "#FFA15A",
           "#19d3f3",
           "#FF6692",
           "#B6E880",
           "#FF97FF",
           "#FECB52"
          ],
          "font": {
           "color": "#2a3f5f"
          },
          "geo": {
           "bgcolor": "white",
           "lakecolor": "white",
           "landcolor": "#E5ECF6",
           "showlakes": true,
           "showland": true,
           "subunitcolor": "white"
          },
          "hoverlabel": {
           "align": "left"
          },
          "hovermode": "closest",
          "mapbox": {
           "style": "light"
          },
          "paper_bgcolor": "white",
          "plot_bgcolor": "#E5ECF6",
          "polar": {
           "angularaxis": {
            "gridcolor": "white",
            "linecolor": "white",
            "ticks": ""
           },
           "bgcolor": "#E5ECF6",
           "radialaxis": {
            "gridcolor": "white",
            "linecolor": "white",
            "ticks": ""
           }
          },
          "scene": {
           "xaxis": {
            "backgroundcolor": "#E5ECF6",
            "gridcolor": "white",
            "gridwidth": 2,
            "linecolor": "white",
            "showbackground": true,
            "ticks": "",
            "zerolinecolor": "white"
           },
           "yaxis": {
            "backgroundcolor": "#E5ECF6",
            "gridcolor": "white",
            "gridwidth": 2,
            "linecolor": "white",
            "showbackground": true,
            "ticks": "",
            "zerolinecolor": "white"
           },
           "zaxis": {
            "backgroundcolor": "#E5ECF6",
            "gridcolor": "white",
            "gridwidth": 2,
            "linecolor": "white",
            "showbackground": true,
            "ticks": "",
            "zerolinecolor": "white"
           }
          },
          "shapedefaults": {
           "line": {
            "color": "#2a3f5f"
           }
          },
          "ternary": {
           "aaxis": {
            "gridcolor": "white",
            "linecolor": "white",
            "ticks": ""
           },
           "baxis": {
            "gridcolor": "white",
            "linecolor": "white",
            "ticks": ""
           },
           "bgcolor": "#E5ECF6",
           "caxis": {
            "gridcolor": "white",
            "linecolor": "white",
            "ticks": ""
           }
          },
          "title": {
           "x": 0.05
          },
          "xaxis": {
           "automargin": true,
           "gridcolor": "white",
           "linecolor": "white",
           "ticks": "",
           "title": {
            "standoff": 15
           },
           "zerolinecolor": "white",
           "zerolinewidth": 2
          },
          "yaxis": {
           "automargin": true,
           "gridcolor": "white",
           "linecolor": "white",
           "ticks": "",
           "title": {
            "standoff": 15
           },
           "zerolinecolor": "white",
           "zerolinewidth": 2
          }
         }
        },
        "title": {
         "font": {
          "color": "black",
          "size": 25
         },
         "text": "TOTAL DE VISITAS POR ENTORNO",
         "x": 0.5,
         "xanchor": "auto"
        },
        "uniformtext": {
         "minsize": 10,
         "mode": "hide"
        },
        "width": 1200,
        "xaxis": {
         "anchor": "y",
         "domain": [
          0,
          1
         ],
         "title": {
          "text": "PORCENTAJE VISITAS"
         }
        },
        "yaxis": {
         "anchor": "x",
         "domain": [
          0,
          1
         ],
         "title": {
          "text": "ENTORNOS"
         }
        }
       }
      }
     },
     "metadata": {},
     "output_type": "display_data"
    }
   ],
   "source": [
    "fig = px.bar(df_input, y=df_input['ENTORNO'].unique(), x=df_input['ENTORNO'].value_counts(), text=porcentaje,title=\"TOTAL DE VISITAS POR ENTORNO\", color=colores, barmode=\"overlay\", opacity=.90)\n",
    "fig.update_traces(texttemplate='%{text:0.2f}%', textposition='outside')\n",
    "fig.update_layout(uniformtext_minsize=10, uniformtext_mode='hide')\n",
    "fig.update_layout(barmode='overlay',width=1200, height=800,title_font_size=25, title_font_color='black', title_xanchor='auto')\n",
    "fig.update_layout(title_x=0.5, font_color='black')\n",
    "fig.update_layout(font_color='black')\n",
    "fig.update_layout(font_size=12)\n",
    "fig.update_layout(xaxis_title=\"PORCENTAJE VISITAS\", yaxis_title=\"ENTORNOS\", legend_title=\"LEYENDA\")\n",
    "fig.show()"
   ]
  },
  {
   "cell_type": "code",
<<<<<<< HEAD
   "execution_count": 477,
=======
<<<<<<< HEAD
   "execution_count": 173,
=======
   "execution_count": 440,
>>>>>>> 6aefa4d8d367b7c2b90895f27b84b20dab197245
>>>>>>> f4859ca788a6695484154a5021891013f2c6edb0
   "metadata": {},
   "outputs": [],
   "source": [
    "show_db_query = \"SELECT * FROM espana\"\n",
    "\n",
    "with conn.cursor() as cursor:\n",
    "    cursor.execute(show_db_query)\n",
    "    ls_espana = cursor.fetchall()"
   ]
  },
  {
   "cell_type": "code",
<<<<<<< HEAD
   "execution_count": 478,
=======
<<<<<<< HEAD
   "execution_count": 174,
=======
   "execution_count": 441,
>>>>>>> 6aefa4d8d367b7c2b90895f27b84b20dab197245
>>>>>>> f4859ca788a6695484154a5021891013f2c6edb0
   "metadata": {},
   "outputs": [
    {
     "data": {
      "text/plain": [
       "[(1, 'Almería'),\n",
       " (2, 'Cádiz'),\n",
       " (3, 'Córdoba'),\n",
       " (4, 'Granada'),\n",
       " (5, 'Huelva'),\n",
       " (6, 'Jaén'),\n",
       " (7, 'Málaga'),\n",
       " (8, 'Sevilla'),\n",
       " (9, 'Huesca'),\n",
       " (10, 'Teruel'),\n",
       " (11, 'Zaragoza'),\n",
       " (12, 'Asturias'),\n",
       " (13, 'Baleares'),\n",
       " (14, 'Las Palmas'),\n",
       " (15, 'Santa Cruz de Tenerife'),\n",
       " (16, 'Cantabria'),\n",
       " (17, 'Ávila'),\n",
       " (18, 'Burgos'),\n",
       " (19, 'León'),\n",
       " (20, 'Palencia'),\n",
       " (21, 'Salamanca'),\n",
       " (22, 'Segovia'),\n",
       " (23, 'Soria'),\n",
       " (24, 'Valladolid'),\n",
       " (25, 'Zamora'),\n",
       " (26, 'Albacete'),\n",
       " (27, 'Ciudad Real'),\n",
       " (28, 'Cuenca'),\n",
       " (29, 'Guadalajara'),\n",
       " (30, 'Toledo'),\n",
       " (31, 'Barcelona'),\n",
       " (32, 'Gerona'),\n",
       " (33, 'Lérida'),\n",
       " (34, 'Tarragona'),\n",
       " (35, 'Alicante'),\n",
       " (36, 'Castellón'),\n",
       " (37, 'Valencia'),\n",
       " (38, 'Badajoz'),\n",
       " (39, 'Cáceres'),\n",
       " (40, 'La Coruña'),\n",
       " (41, 'Lugo'),\n",
       " (42, 'Orense'),\n",
       " (43, 'Pontevedra'),\n",
       " (44, 'La Rioja'),\n",
       " (45, 'Madrid'),\n",
       " (46, 'Murcia'),\n",
       " (47, 'Navarra'),\n",
       " (48, 'Álava'),\n",
       " (49, 'Guipúzcoa'),\n",
       " (50, 'Vizcaya'),\n",
       " (51, 'Ceuta'),\n",
       " (52, 'Melilla')]"
      ]
     },
<<<<<<< HEAD
     "execution_count": 478,
=======
<<<<<<< HEAD
     "execution_count": 174,
=======
     "execution_count": 441,
>>>>>>> 6aefa4d8d367b7c2b90895f27b84b20dab197245
>>>>>>> f4859ca788a6695484154a5021891013f2c6edb0
     "metadata": {},
     "output_type": "execute_result"
    }
   ],
   "source": [
    "ls_espana"
   ]
  },
  {
   "cell_type": "code",
<<<<<<< HEAD
   "execution_count": 479,
=======
<<<<<<< HEAD
   "execution_count": 175,
=======
   "execution_count": 442,
>>>>>>> 6aefa4d8d367b7c2b90895f27b84b20dab197245
>>>>>>> f4859ca788a6695484154a5021891013f2c6edb0
   "metadata": {},
   "outputs": [
    {
     "data": {
      "text/html": [
       "<div>\n",
       "<style scoped>\n",
       "    .dataframe tbody tr th:only-of-type {\n",
       "        vertical-align: middle;\n",
       "    }\n",
       "\n",
       "    .dataframe tbody tr th {\n",
       "        vertical-align: top;\n",
       "    }\n",
       "\n",
       "    .dataframe thead th {\n",
       "        text-align: right;\n",
       "    }\n",
       "</style>\n",
       "<table border=\"1\" class=\"dataframe\">\n",
       "  <thead>\n",
       "    <tr style=\"text-align: right;\">\n",
       "      <th></th>\n",
       "      <th>COD_PROVINCIAS</th>\n",
       "      <th>PROVINCIAS</th>\n",
       "    </tr>\n",
       "  </thead>\n",
       "  <tbody>\n",
       "    <tr>\n",
       "      <th>0</th>\n",
       "      <td>1</td>\n",
       "      <td>Almería</td>\n",
       "    </tr>\n",
       "    <tr>\n",
       "      <th>1</th>\n",
       "      <td>2</td>\n",
       "      <td>Cádiz</td>\n",
       "    </tr>\n",
       "    <tr>\n",
       "      <th>2</th>\n",
       "      <td>3</td>\n",
       "      <td>Córdoba</td>\n",
       "    </tr>\n",
       "    <tr>\n",
       "      <th>3</th>\n",
       "      <td>4</td>\n",
       "      <td>Granada</td>\n",
       "    </tr>\n",
       "    <tr>\n",
       "      <th>4</th>\n",
       "      <td>5</td>\n",
       "      <td>Huelva</td>\n",
       "    </tr>\n",
       "  </tbody>\n",
       "</table>\n",
       "</div>"
      ],
      "text/plain": [
       "   COD_PROVINCIAS PROVINCIAS\n",
       "0               1    Almería\n",
       "1               2      Cádiz\n",
       "2               3    Córdoba\n",
       "3               4    Granada\n",
       "4               5     Huelva"
      ]
     },
<<<<<<< HEAD
     "execution_count": 479,
=======
<<<<<<< HEAD
     "execution_count": 175,
=======
     "execution_count": 442,
>>>>>>> 6aefa4d8d367b7c2b90895f27b84b20dab197245
>>>>>>> f4859ca788a6695484154a5021891013f2c6edb0
     "metadata": {},
     "output_type": "execute_result"
    }
   ],
   "source": [
    "df_espana = pd.DataFrame(ls_espana, columns=('COD_PROVINCIAS','PROVINCIAS'))\n",
    "df_espana.head()"
   ]
  },
  {
   "cell_type": "code",
<<<<<<< HEAD
   "execution_count": 480,
=======
<<<<<<< HEAD
   "execution_count": 176,
=======
   "execution_count": 443,
>>>>>>> 6aefa4d8d367b7c2b90895f27b84b20dab197245
>>>>>>> f4859ca788a6695484154a5021891013f2c6edb0
   "metadata": {},
   "outputs": [
    {
     "data": {
      "text/plain": [
       "COD_PROVINCIAS     int64\n",
       "PROVINCIAS        object\n",
       "dtype: object"
      ]
     },
<<<<<<< HEAD
     "execution_count": 480,
=======
<<<<<<< HEAD
     "execution_count": 176,
=======
     "execution_count": 443,
>>>>>>> 6aefa4d8d367b7c2b90895f27b84b20dab197245
>>>>>>> f4859ca788a6695484154a5021891013f2c6edb0
     "metadata": {},
     "output_type": "execute_result"
    }
   ],
   "source": [
    "df_espana.dtypes"
   ]
  },
  {
   "cell_type": "code",
<<<<<<< HEAD
   "execution_count": 481,
=======
<<<<<<< HEAD
   "execution_count": 177,
=======
   "execution_count": 444,
>>>>>>> 6aefa4d8d367b7c2b90895f27b84b20dab197245
>>>>>>> f4859ca788a6695484154a5021891013f2c6edb0
   "metadata": {},
   "outputs": [
    {
     "data": {
      "text/plain": [
       "ID_INDEX           int64\n",
       "COD_PROVINCIAS     int64\n",
       "ENTORNO           object\n",
       "ACTIVIDADES       object\n",
       "dtype: object"
      ]
     },
<<<<<<< HEAD
     "execution_count": 481,
=======
<<<<<<< HEAD
     "execution_count": 177,
=======
     "execution_count": 444,
>>>>>>> 6aefa4d8d367b7c2b90895f27b84b20dab197245
>>>>>>> f4859ca788a6695484154a5021891013f2c6edb0
     "metadata": {},
     "output_type": "execute_result"
    }
   ],
   "source": [
    "df_input[\"COD_PROVINCIAS\"]=df_input[\"COD_PROVINCIAS\"].astype(\"int64\")\n",
    "df_input.dtypes"
   ]
  },
  {
   "cell_type": "code",
<<<<<<< HEAD
   "execution_count": 482,
=======
<<<<<<< HEAD
   "execution_count": 178,
   "metadata": {},
   "outputs": [
    {
     "data": {
      "text/html": [
       "<div>\n",
       "<style scoped>\n",
       "    .dataframe tbody tr th:only-of-type {\n",
       "        vertical-align: middle;\n",
       "    }\n",
       "\n",
       "    .dataframe tbody tr th {\n",
       "        vertical-align: top;\n",
       "    }\n",
       "\n",
       "    .dataframe thead th {\n",
       "        text-align: right;\n",
       "    }\n",
       "</style>\n",
       "<table border=\"1\" class=\"dataframe\">\n",
       "  <thead>\n",
       "    <tr style=\"text-align: right;\">\n",
       "      <th></th>\n",
       "      <th>ID_INDEX</th>\n",
       "      <th>COD_PROVINCIAS</th>\n",
       "      <th>ENTORNO</th>\n",
       "      <th>ACTIVIDADES</th>\n",
       "    </tr>\n",
       "  </thead>\n",
       "  <tbody>\n",
       "    <tr>\n",
       "      <th>0</th>\n",
       "      <td>107</td>\n",
       "      <td>3</td>\n",
       "      <td>Playa</td>\n",
       "      <td>Gastronomía</td>\n",
       "    </tr>\n",
       "    <tr>\n",
       "      <th>1</th>\n",
       "      <td>108</td>\n",
       "      <td>16</td>\n",
       "      <td>Ciudad</td>\n",
       "      <td>Cultura</td>\n",
       "    </tr>\n",
       "    <tr>\n",
       "      <th>2</th>\n",
       "      <td>109</td>\n",
       "      <td>18</td>\n",
       "      <td>Ciudad</td>\n",
       "      <td>Ocio Nocturno</td>\n",
       "    </tr>\n",
       "    <tr>\n",
       "      <th>3</th>\n",
       "      <td>110</td>\n",
       "      <td>15</td>\n",
       "      <td>Playa</td>\n",
       "      <td>Familiar</td>\n",
       "    </tr>\n",
       "    <tr>\n",
       "      <th>4</th>\n",
       "      <td>111</td>\n",
       "      <td>2</td>\n",
       "      <td>Montaña</td>\n",
       "      <td>Gastronomia</td>\n",
       "    </tr>\n",
       "  </tbody>\n",
       "</table>\n",
       "</div>"
      ],
      "text/plain": [
       "   ID_INDEX  COD_PROVINCIAS  ENTORNO    ACTIVIDADES\n",
       "0       107               3    Playa    Gastronomía\n",
       "1       108              16   Ciudad        Cultura\n",
       "2       109              18   Ciudad  Ocio Nocturno\n",
       "3       110              15    Playa       Familiar\n",
       "4       111               2  Montaña    Gastronomia"
      ]
     },
     "execution_count": 178,
     "metadata": {},
     "output_type": "execute_result"
    }
   ],
   "source": [
    "df_input.head()"
   ]
  },
  {
   "cell_type": "code",
   "execution_count": 179,
=======
   "execution_count": 445,
>>>>>>> 6aefa4d8d367b7c2b90895f27b84b20dab197245
>>>>>>> f4859ca788a6695484154a5021891013f2c6edb0
   "metadata": {},
   "outputs": [
    {
     "data": {
      "text/html": [
       "<div>\n",
       "<style scoped>\n",
       "    .dataframe tbody tr th:only-of-type {\n",
       "        vertical-align: middle;\n",
       "    }\n",
       "\n",
       "    .dataframe tbody tr th {\n",
       "        vertical-align: top;\n",
       "    }\n",
       "\n",
       "    .dataframe thead th {\n",
       "        text-align: right;\n",
       "    }\n",
       "</style>\n",
       "<table border=\"1\" class=\"dataframe\">\n",
       "  <thead>\n",
       "    <tr style=\"text-align: right;\">\n",
       "      <th></th>\n",
       "      <th>ID_INDEX</th>\n",
       "      <th>COD_PROVINCIAS</th>\n",
       "      <th>ENTORNO</th>\n",
       "      <th>ACTIVIDADES</th>\n",
       "      <th>PROVINCIAS</th>\n",
       "    </tr>\n",
       "  </thead>\n",
       "  <tbody>\n",
       "    <tr>\n",
       "      <th>0</th>\n",
       "      <td>108</td>\n",
       "      <td>16</td>\n",
       "      <td>Ciudad</td>\n",
       "      <td>Cultura</td>\n",
       "      <td>Cantabria</td>\n",
       "    </tr>\n",
       "    <tr>\n",
       "      <th>1</th>\n",
       "      <td>122</td>\n",
       "      <td>16</td>\n",
       "      <td>Playa</td>\n",
       "      <td>Familiar</td>\n",
       "      <td>Cantabria</td>\n",
       "    </tr>\n",
       "    <tr>\n",
       "      <th>2</th>\n",
       "      <td>148</td>\n",
       "      <td>16</td>\n",
       "      <td>Ciudad</td>\n",
       "      <td>Cultura</td>\n",
       "      <td>Cantabria</td>\n",
       "    </tr>\n",
       "    <tr>\n",
       "      <th>3</th>\n",
       "      <td>170</td>\n",
       "      <td>16</td>\n",
       "      <td>Playa</td>\n",
       "      <td>Familiar</td>\n",
       "      <td>Cantabria</td>\n",
       "    </tr>\n",
       "    <tr>\n",
       "      <th>4</th>\n",
       "      <td>174</td>\n",
       "      <td>16</td>\n",
       "      <td>Campo</td>\n",
       "      <td>Cultura</td>\n",
       "      <td>Cantabria</td>\n",
       "    </tr>\n",
       "    <tr>\n",
       "      <th>...</th>\n",
       "      <td>...</td>\n",
       "      <td>...</td>\n",
       "      <td>...</td>\n",
       "      <td>...</td>\n",
       "      <td>...</td>\n",
       "    </tr>\n",
       "    <tr>\n",
<<<<<<< HEAD
       "      <th>93</th>\n",
=======
<<<<<<< HEAD
       "      <th>89</th>\n",
=======
       "      <th>91</th>\n",
>>>>>>> 6aefa4d8d367b7c2b90895f27b84b20dab197245
       "      <td>163</td>\n",
       "      <td>21</td>\n",
       "      <td>Montaña</td>\n",
       "      <td>Cultura</td>\n",
       "      <td>Salamanca</td>\n",
       "    </tr>\n",
       "    <tr>\n",
<<<<<<< HEAD
       "      <th>90</th>\n",
=======
       "      <th>92</th>\n",
>>>>>>> 6aefa4d8d367b7c2b90895f27b84b20dab197245
>>>>>>> f4859ca788a6695484154a5021891013f2c6edb0
       "      <td>191</td>\n",
       "      <td>51</td>\n",
       "      <td>Ciudad</td>\n",
       "      <td>Cultura</td>\n",
       "      <td>Ceuta</td>\n",
       "    </tr>\n",
       "    <tr>\n",
<<<<<<< HEAD
       "      <th>94</th>\n",
=======
<<<<<<< HEAD
       "      <th>91</th>\n",
=======
       "      <th>93</th>\n",
>>>>>>> 6aefa4d8d367b7c2b90895f27b84b20dab197245
>>>>>>> f4859ca788a6695484154a5021891013f2c6edb0
       "      <td>193</td>\n",
       "      <td>51</td>\n",
       "      <td>Ciudad</td>\n",
       "      <td>Familiar</td>\n",
       "      <td>Ceuta</td>\n",
       "    </tr>\n",
       "    <tr>\n",
<<<<<<< HEAD
       "      <th>95</th>\n",
=======
<<<<<<< HEAD
       "      <th>92</th>\n",
=======
       "      <th>94</th>\n",
>>>>>>> 6aefa4d8d367b7c2b90895f27b84b20dab197245
>>>>>>> f4859ca788a6695484154a5021891013f2c6edb0
       "      <td>194</td>\n",
       "      <td>42</td>\n",
       "      <td>Montaña</td>\n",
       "      <td>Familiar</td>\n",
       "      <td>Orense</td>\n",
       "    </tr>\n",
       "    <tr>\n",
<<<<<<< HEAD
       "      <th>96</th>\n",
=======
<<<<<<< HEAD
       "      <th>93</th>\n",
=======
       "      <th>95</th>\n",
>>>>>>> 6aefa4d8d367b7c2b90895f27b84b20dab197245
>>>>>>> f4859ca788a6695484154a5021891013f2c6edb0
       "      <td>195</td>\n",
       "      <td>25</td>\n",
       "      <td>Playa</td>\n",
       "      <td>Gastronomia</td>\n",
       "      <td>Zamora</td>\n",
       "    </tr>\n",
       "    <tr>\n",
       "      <th>97</th>\n",
       "      <td>204</td>\n",
       "      <td>32</td>\n",
       "      <td>Montaña</td>\n",
       "      <td>Ocio Nocturno</td>\n",
       "      <td>Gerona</td>\n",
       "    </tr>\n",
       "  </tbody>\n",
       "</table>\n",
<<<<<<< HEAD
       "<p>98 rows × 5 columns</p>\n",
       "</div>"
      ],
      "text/plain": [
       "    ID_INDEX  COD_PROVINCIAS  ENTORNO    ACTIVIDADES PROVINCIAS\n",
       "0        108              16   Ciudad        Cultura  Cantabria\n",
       "1        122              16    Playa       Familiar  Cantabria\n",
       "2        148              16   Ciudad        Cultura  Cantabria\n",
       "3        170              16    Playa       Familiar  Cantabria\n",
       "4        174              16    Campo        Cultura  Cantabria\n",
       "..       ...             ...      ...            ...        ...\n",
       "93       191              51   Ciudad        Cultura      Ceuta\n",
       "94       193              51   Ciudad       Familiar      Ceuta\n",
       "95       194              42  Montaña       Familiar     Orense\n",
       "96       195              25    Playa    Gastronomia     Zamora\n",
       "97       204              32  Montaña  Ocio Nocturno     Gerona\n",
=======
<<<<<<< HEAD
       "<p>94 rows × 5 columns</p>\n",
=======
       "<p>96 rows × 5 columns</p>\n",
>>>>>>> 6aefa4d8d367b7c2b90895f27b84b20dab197245
       "</div>"
      ],
      "text/plain": [
       "    ID_INDEX  COD_PROVINCIAS  ENTORNO  ACTIVIDADES PROVINCIAS\n",
       "0        107               3    Playa  Gastronomía    Córdoba\n",
       "1        112               3    Playa      Cultura    Córdoba\n",
       "2        132               3    Playa     Familiar    Córdoba\n",
       "3        142               3   Ciudad     Familiar    Córdoba\n",
       "4        183               3    Playa     Familiar    Córdoba\n",
       "..       ...             ...      ...          ...        ...\n",
<<<<<<< HEAD
       "89       163              21  Montaña      Cultura  Salamanca\n",
       "90       191              51   Ciudad      Cultura      Ceuta\n",
       "91       193              51   Ciudad     Familiar      Ceuta\n",
       "92       194              42  Montaña     Familiar     Orense\n",
       "93       195              25    Playa  Gastronomia     Zamora\n",
       "\n",
       "[94 rows x 5 columns]"
      ]
     },
     "execution_count": 179,
=======
       "91       163              21  Montaña      Cultura  Salamanca\n",
       "92       191              51   Ciudad      Cultura      Ceuta\n",
       "93       193              51   Ciudad     Familiar      Ceuta\n",
       "94       194              42  Montaña     Familiar     Orense\n",
       "95       195              25    Playa  Gastronomia     Zamora\n",
>>>>>>> f4859ca788a6695484154a5021891013f2c6edb0
       "\n",
       "[98 rows x 5 columns]"
      ]
     },
<<<<<<< HEAD
     "execution_count": 482,
=======
     "execution_count": 445,
>>>>>>> 6aefa4d8d367b7c2b90895f27b84b20dab197245
>>>>>>> f4859ca788a6695484154a5021891013f2c6edb0
     "metadata": {},
     "output_type": "execute_result"
    }
   ],
   "source": [
    "df_input_espana=pd.merge(df_input, df_espana,on=\"COD_PROVINCIAS\")\n",
    "df_input_espana"
   ]
  },
  {
   "cell_type": "code",
<<<<<<< HEAD
   "execution_count": 483,
=======
<<<<<<< HEAD
   "execution_count": 180,
=======
   "execution_count": 446,
>>>>>>> 6aefa4d8d367b7c2b90895f27b84b20dab197245
>>>>>>> f4859ca788a6695484154a5021891013f2c6edb0
   "metadata": {},
   "outputs": [
    {
     "data": {
      "text/plain": [
       "array(['Cantabria', 'Burgos', 'Santa Cruz de Tenerife', 'Cádiz',\n",
       "       'Córdoba', 'Las Palmas', 'Teruel', 'Baleares', 'Asturias',\n",
       "       'Huelva', 'Granada', 'Sevilla', 'Almería', 'Ávila', 'Vizcaya',\n",
       "       'Málaga', 'Lugo', 'La Rioja', 'Guipúzcoa', 'Zaragoza', 'Navarra',\n",
       "       'Murcia', 'La Coruña', 'Huesca', 'Jaén', 'Pontevedra', 'Salamanca',\n",
       "       'Ceuta', 'Orense', 'Zamora', 'Gerona'], dtype=object)"
      ]
     },
<<<<<<< HEAD
     "execution_count": 483,
=======
<<<<<<< HEAD
     "execution_count": 180,
=======
     "execution_count": 446,
>>>>>>> 6aefa4d8d367b7c2b90895f27b84b20dab197245
>>>>>>> f4859ca788a6695484154a5021891013f2c6edb0
     "metadata": {},
     "output_type": "execute_result"
    }
   ],
   "source": [
    "colores3=df_input_espana['PROVINCIAS'].unique()\n",
    "colores3"
   ]
  },
  {
   "cell_type": "code",
<<<<<<< HEAD
   "execution_count": 484,
=======
<<<<<<< HEAD
   "execution_count": 181,
=======
   "execution_count": 447,
>>>>>>> 6aefa4d8d367b7c2b90895f27b84b20dab197245
>>>>>>> f4859ca788a6695484154a5021891013f2c6edb0
   "metadata": {},
   "outputs": [],
   "source": [
    "contador_provincias=df_input_espana[\"PROVINCIAS\"].value_counts()\n",
    "total_prov=contador_provincias.sum()\n",
    "porcentaje_prov=(contador_provincias/total_prov)*100"
   ]
  },
  {
   "cell_type": "code",
<<<<<<< HEAD
   "execution_count": 485,
=======
<<<<<<< HEAD
   "execution_count": 194,
   "metadata": {},
   "outputs": [
    {
     "ename": "TypeError",
     "evalue": "sort_values() missing 1 required positional argument: 'by'",
     "output_type": "error",
     "traceback": [
      "\u001b[1;31m---------------------------------------------------------------------------\u001b[0m",
      "\u001b[1;31mTypeError\u001b[0m                                 Traceback (most recent call last)",
      "\u001b[1;32m~\\AppData\\Local\\Temp\\ipykernel_23008\\3189257364.py\u001b[0m in \u001b[0;36m<module>\u001b[1;34m\u001b[0m\n\u001b[0;32m      1\u001b[0m \u001b[0mdf_input_espana2\u001b[0m\u001b[1;33m=\u001b[0m\u001b[0mdf_input_espana\u001b[0m\u001b[1;33m.\u001b[0m\u001b[0mgroupby\u001b[0m\u001b[1;33m(\u001b[0m\u001b[1;34m\"PROVINCIAS\"\u001b[0m\u001b[1;33m,\u001b[0m\u001b[0mgroup_keys\u001b[0m\u001b[1;33m=\u001b[0m\u001b[1;32mTrue\u001b[0m\u001b[1;33m)\u001b[0m\u001b[1;33m.\u001b[0m\u001b[0msum\u001b[0m\u001b[1;33m(\u001b[0m\u001b[1;33m)\u001b[0m\u001b[1;33m\u001b[0m\u001b[1;33m\u001b[0m\u001b[0m\n\u001b[0;32m      2\u001b[0m \u001b[0mdf_input_espana2\u001b[0m\u001b[1;33m[\u001b[0m\u001b[1;33m:\u001b[0m\u001b[1;36m10\u001b[0m\u001b[1;33m]\u001b[0m\u001b[1;33m\u001b[0m\u001b[1;33m\u001b[0m\u001b[0m\n\u001b[1;32m----> 3\u001b[1;33m \u001b[0mdf_input_espana2\u001b[0m\u001b[1;33m.\u001b[0m\u001b[0msort_values\u001b[0m\u001b[1;33m(\u001b[0m\u001b[0mascending\u001b[0m\u001b[1;33m=\u001b[0m\u001b[1;32mFalse\u001b[0m\u001b[1;33m)\u001b[0m\u001b[1;33m\u001b[0m\u001b[1;33m\u001b[0m\u001b[0m\n\u001b[0m\u001b[0;32m      4\u001b[0m \u001b[0mdf_input_espana2\u001b[0m\u001b[1;33m\u001b[0m\u001b[1;33m\u001b[0m\u001b[0m\n",
      "\u001b[1;32mc:\\Users\\rocio\\AppData\\Local\\Programs\\Python\\Python37\\lib\\site-packages\\pandas\\util\\_decorators.py\u001b[0m in \u001b[0;36mwrapper\u001b[1;34m(*args, **kwargs)\u001b[0m\n\u001b[0;32m    309\u001b[0m                     \u001b[0mstacklevel\u001b[0m\u001b[1;33m=\u001b[0m\u001b[0mstacklevel\u001b[0m\u001b[1;33m,\u001b[0m\u001b[1;33m\u001b[0m\u001b[1;33m\u001b[0m\u001b[0m\n\u001b[0;32m    310\u001b[0m                 )\n\u001b[1;32m--> 311\u001b[1;33m             \u001b[1;32mreturn\u001b[0m \u001b[0mfunc\u001b[0m\u001b[1;33m(\u001b[0m\u001b[1;33m*\u001b[0m\u001b[0margs\u001b[0m\u001b[1;33m,\u001b[0m \u001b[1;33m**\u001b[0m\u001b[0mkwargs\u001b[0m\u001b[1;33m)\u001b[0m\u001b[1;33m\u001b[0m\u001b[1;33m\u001b[0m\u001b[0m\n\u001b[0m\u001b[0;32m    312\u001b[0m \u001b[1;33m\u001b[0m\u001b[0m\n\u001b[0;32m    313\u001b[0m         \u001b[1;32mreturn\u001b[0m \u001b[0mwrapper\u001b[0m\u001b[1;33m\u001b[0m\u001b[1;33m\u001b[0m\u001b[0m\n",
      "\u001b[1;31mTypeError\u001b[0m: sort_values() missing 1 required positional argument: 'by'"
     ]
    }
   ],
   "source": [
    "df_input_espana2=df_input_espana.groupby(\"PROVINCIAS\",group_keys=True).sum()\n",
    "df_input_espana2[:10]\n",
    "df_input_espana2.sort_values(ascending by=False)\n",
    "df_input_espana2"
=======
   "execution_count": 448,
>>>>>>> f4859ca788a6695484154a5021891013f2c6edb0
   "metadata": {},
   "outputs": [],
   "source": [
    "df_input_espana3=df_input_espana[\"PROVINCIAS\"].value_counts()"
>>>>>>> 6aefa4d8d367b7c2b90895f27b84b20dab197245
   ]
  },
  {
   "cell_type": "code",
<<<<<<< HEAD
   "execution_count": 486,
=======
<<<<<<< HEAD
   "execution_count": 193,
=======
   "execution_count": 449,
>>>>>>> 6aefa4d8d367b7c2b90895f27b84b20dab197245
>>>>>>> f4859ca788a6695484154a5021891013f2c6edb0
   "metadata": {},
   "outputs": [
    {
     "data": {
      "text/html": [
       "<div>\n",
       "<style scoped>\n",
       "    .dataframe tbody tr th:only-of-type {\n",
       "        vertical-align: middle;\n",
       "    }\n",
       "\n",
       "    .dataframe tbody tr th {\n",
       "        vertical-align: top;\n",
       "    }\n",
       "\n",
       "    .dataframe thead th {\n",
       "        text-align: right;\n",
       "    }\n",
       "</style>\n",
       "<table border=\"1\" class=\"dataframe\">\n",
       "  <thead>\n",
       "    <tr style=\"text-align: right;\">\n",
       "      <th></th>\n",
       "      <th>ID_INDEX</th>\n",
       "      <th>COD_PROVINCIAS</th>\n",
<<<<<<< HEAD
       "    </tr>\n",
       "    <tr>\n",
       "      <th>PROVINCIAS</th>\n",
       "      <th></th>\n",
       "      <th></th>\n",
=======
       "      <th>ENTORNO</th>\n",
       "      <th>ACTIVIDADES</th>\n",
       "      <th>PROVINCIAS</th>\n",
       "      <th>SUMA</th>\n",
>>>>>>> 6aefa4d8d367b7c2b90895f27b84b20dab197245
       "    </tr>\n",
       "  </thead>\n",
       "  <tbody>\n",
       "    <tr>\n",
<<<<<<< HEAD
       "      <th>Almería</th>\n",
       "      <td>138</td>\n",
       "      <td>1</td>\n",
       "    </tr>\n",
       "    <tr>\n",
       "      <th>Asturias</th>\n",
       "      <td>1022</td>\n",
       "      <td>72</td>\n",
       "    </tr>\n",
       "    <tr>\n",
       "      <th>Baleares</th>\n",
       "      <td>1309</td>\n",
       "      <td>104</td>\n",
       "    </tr>\n",
       "    <tr>\n",
       "      <th>Burgos</th>\n",
       "      <td>236</td>\n",
       "      <td>36</td>\n",
       "    </tr>\n",
       "    <tr>\n",
       "      <th>Cantabria</th>\n",
       "      <td>1084</td>\n",
       "      <td>112</td>\n",
       "    </tr>\n",
       "    <tr>\n",
       "      <th>Ceuta</th>\n",
       "      <td>384</td>\n",
       "      <td>102</td>\n",
       "    </tr>\n",
       "    <tr>\n",
       "      <th>Cádiz</th>\n",
       "      <td>894</td>\n",
       "      <td>14</td>\n",
       "    </tr>\n",
       "    <tr>\n",
       "      <th>Córdoba</th>\n",
       "      <td>1062</td>\n",
       "      <td>21</td>\n",
       "    </tr>\n",
       "    <tr>\n",
       "      <th>Granada</th>\n",
       "      <td>459</td>\n",
       "      <td>12</td>\n",
       "    </tr>\n",
       "    <tr>\n",
       "      <th>Guipúzcoa</th>\n",
       "      <td>342</td>\n",
       "      <td>98</td>\n",
=======
       "      <th>0</th>\n",
       "      <td>108</td>\n",
       "      <td>16</td>\n",
       "      <td>Ciudad</td>\n",
       "      <td>Cultura</td>\n",
       "      <td>Cantabria</td>\n",
       "      <td>1</td>\n",
       "    </tr>\n",
       "    <tr>\n",
       "      <th>1</th>\n",
       "      <td>122</td>\n",
       "      <td>16</td>\n",
       "      <td>Playa</td>\n",
       "      <td>Familiar</td>\n",
       "      <td>Cantabria</td>\n",
       "      <td>1</td>\n",
       "    </tr>\n",
       "    <tr>\n",
       "      <th>2</th>\n",
       "      <td>148</td>\n",
       "      <td>16</td>\n",
       "      <td>Ciudad</td>\n",
       "      <td>Cultura</td>\n",
       "      <td>Cantabria</td>\n",
       "      <td>1</td>\n",
       "    </tr>\n",
       "    <tr>\n",
       "      <th>3</th>\n",
       "      <td>170</td>\n",
       "      <td>16</td>\n",
       "      <td>Playa</td>\n",
       "      <td>Familiar</td>\n",
       "      <td>Cantabria</td>\n",
       "      <td>1</td>\n",
       "    </tr>\n",
       "    <tr>\n",
       "      <th>4</th>\n",
       "      <td>174</td>\n",
       "      <td>16</td>\n",
       "      <td>Campo</td>\n",
       "      <td>Cultura</td>\n",
       "      <td>Cantabria</td>\n",
       "      <td>1</td>\n",
       "    </tr>\n",
       "    <tr>\n",
       "      <th>...</th>\n",
       "      <td>...</td>\n",
       "      <td>...</td>\n",
       "      <td>...</td>\n",
       "      <td>...</td>\n",
       "      <td>...</td>\n",
       "      <td>...</td>\n",
       "    </tr>\n",
       "    <tr>\n",
       "      <th>93</th>\n",
       "      <td>191</td>\n",
       "      <td>51</td>\n",
       "      <td>Ciudad</td>\n",
       "      <td>Cultura</td>\n",
       "      <td>Ceuta</td>\n",
       "      <td>1</td>\n",
       "    </tr>\n",
       "    <tr>\n",
       "      <th>94</th>\n",
       "      <td>193</td>\n",
       "      <td>51</td>\n",
       "      <td>Ciudad</td>\n",
       "      <td>Familiar</td>\n",
       "      <td>Ceuta</td>\n",
       "      <td>1</td>\n",
       "    </tr>\n",
       "    <tr>\n",
       "      <th>95</th>\n",
       "      <td>194</td>\n",
       "      <td>42</td>\n",
       "      <td>Montaña</td>\n",
       "      <td>Familiar</td>\n",
       "      <td>Orense</td>\n",
       "      <td>1</td>\n",
       "    </tr>\n",
       "    <tr>\n",
       "      <th>96</th>\n",
       "      <td>195</td>\n",
       "      <td>25</td>\n",
       "      <td>Playa</td>\n",
       "      <td>Gastronomia</td>\n",
       "      <td>Zamora</td>\n",
       "      <td>1</td>\n",
       "    </tr>\n",
       "    <tr>\n",
       "      <th>97</th>\n",
       "      <td>204</td>\n",
       "      <td>32</td>\n",
       "      <td>Montaña</td>\n",
       "      <td>Ocio Nocturno</td>\n",
       "      <td>Gerona</td>\n",
       "      <td>1</td>\n",
       "    </tr>\n",
       "  </tbody>\n",
       "</table>\n",
       "<p>98 rows × 6 columns</p>\n",
       "</div>"
      ],
      "text/plain": [
       "    ID_INDEX  COD_PROVINCIAS  ENTORNO    ACTIVIDADES PROVINCIAS  SUMA\n",
       "0        108              16   Ciudad        Cultura  Cantabria     1\n",
       "1        122              16    Playa       Familiar  Cantabria     1\n",
       "2        148              16   Ciudad        Cultura  Cantabria     1\n",
       "3        170              16    Playa       Familiar  Cantabria     1\n",
       "4        174              16    Campo        Cultura  Cantabria     1\n",
       "..       ...             ...      ...            ...        ...   ...\n",
       "93       191              51   Ciudad        Cultura      Ceuta     1\n",
       "94       193              51   Ciudad       Familiar      Ceuta     1\n",
       "95       194              42  Montaña       Familiar     Orense     1\n",
       "96       195              25    Playa    Gastronomia     Zamora     1\n",
       "97       204              32  Montaña  Ocio Nocturno     Gerona     1\n",
       "\n",
       "[98 rows x 6 columns]"
      ]
     },
     "execution_count": 486,
     "metadata": {},
     "output_type": "execute_result"
    }
   ],
   "source": [
    "df_input_espana2=df_input_espana.copy()\n",
    "df_input_espana2['SUMA']=1\n",
    "df_input_espana2"
   ]
  },
  {
   "cell_type": "code",
   "execution_count": 487,
   "metadata": {},
   "outputs": [
    {
     "data": {
      "text/html": [
       "<div>\n",
       "<style scoped>\n",
       "    .dataframe tbody tr th:only-of-type {\n",
       "        vertical-align: middle;\n",
       "    }\n",
       "\n",
       "    .dataframe tbody tr th {\n",
       "        vertical-align: top;\n",
       "    }\n",
       "\n",
       "    .dataframe thead th {\n",
       "        text-align: right;\n",
       "    }\n",
       "</style>\n",
       "<table border=\"1\" class=\"dataframe\">\n",
       "  <thead>\n",
       "    <tr style=\"text-align: right;\">\n",
       "      <th></th>\n",
       "      <th>PROVINCIAS</th>\n",
       "      <th>ID_INDEX</th>\n",
       "      <th>COD_PROVINCIAS</th>\n",
       "      <th>SUMA</th>\n",
       "    </tr>\n",
       "  </thead>\n",
       "  <tbody>\n",
       "    <tr>\n",
       "      <th>0</th>\n",
       "      <td>Santa Cruz de Tenerife</td>\n",
       "      <td>1859</td>\n",
       "      <td>180</td>\n",
       "      <td>12</td>\n",
       "    </tr>\n",
       "    <tr>\n",
       "      <th>1</th>\n",
       "      <td>Baleares</td>\n",
       "      <td>1309</td>\n",
       "      <td>104</td>\n",
       "      <td>8</td>\n",
       "    </tr>\n",
       "    <tr>\n",
       "      <th>2</th>\n",
       "      <td>Cantabria</td>\n",
       "      <td>1084</td>\n",
       "      <td>112</td>\n",
       "      <td>7</td>\n",
       "    </tr>\n",
       "    <tr>\n",
       "      <th>3</th>\n",
       "      <td>Cádiz</td>\n",
       "      <td>894</td>\n",
       "      <td>14</td>\n",
       "      <td>7</td>\n",
       "    </tr>\n",
       "    <tr>\n",
       "      <th>4</th>\n",
       "      <td>Asturias</td>\n",
       "      <td>1224</td>\n",
       "      <td>84</td>\n",
       "      <td>7</td>\n",
       "    </tr>\n",
       "    <tr>\n",
       "      <th>5</th>\n",
       "      <td>Las Palmas</td>\n",
       "      <td>857</td>\n",
       "      <td>84</td>\n",
       "      <td>6</td>\n",
       "    </tr>\n",
       "    <tr>\n",
       "      <th>6</th>\n",
       "      <td>Córdoba</td>\n",
       "      <td>955</td>\n",
       "      <td>18</td>\n",
       "      <td>6</td>\n",
       "    </tr>\n",
       "    <tr>\n",
       "      <th>7</th>\n",
       "      <td>Sevilla</td>\n",
       "      <td>645</td>\n",
       "      <td>32</td>\n",
       "      <td>4</td>\n",
       "    </tr>\n",
       "    <tr>\n",
       "      <th>8</th>\n",
       "      <td>Huelva</td>\n",
       "      <td>534</td>\n",
       "      <td>20</td>\n",
       "      <td>4</td>\n",
       "    </tr>\n",
       "    <tr>\n",
       "      <th>9</th>\n",
       "      <td>Teruel</td>\n",
       "      <td>455</td>\n",
       "      <td>30</td>\n",
       "      <td>3</td>\n",
>>>>>>> 6aefa4d8d367b7c2b90895f27b84b20dab197245
       "    </tr>\n",
       "  </tbody>\n",
       "</table>\n",
       "</div>"
      ],
      "text/plain": [
<<<<<<< HEAD
       "            ID_INDEX  COD_PROVINCIAS\n",
       "PROVINCIAS                          \n",
       "Almería          138               1\n",
       "Asturias        1022              72\n",
       "Baleares        1309             104\n",
       "Burgos           236              36\n",
       "Cantabria       1084             112\n",
       "Ceuta            384             102\n",
       "Cádiz            894              14\n",
       "Córdoba         1062              21\n",
       "Granada          459              12\n",
       "Guipúzcoa        342              98"
      ]
     },
     "execution_count": 193,
=======
       "               PROVINCIAS  ID_INDEX  COD_PROVINCIAS  SUMA\n",
       "0  Santa Cruz de Tenerife      1859             180    12\n",
       "1                Baleares      1309             104     8\n",
       "2               Cantabria      1084             112     7\n",
       "3                   Cádiz       894              14     7\n",
       "4                Asturias      1224              84     7\n",
       "5              Las Palmas       857              84     6\n",
       "6                 Córdoba       955              18     6\n",
       "7                 Sevilla       645              32     4\n",
       "8                  Huelva       534              20     4\n",
       "9                  Teruel       455              30     3"
      ]
     },
<<<<<<< HEAD
     "execution_count": 487,
=======
     "execution_count": 450,
>>>>>>> 6aefa4d8d367b7c2b90895f27b84b20dab197245
>>>>>>> f4859ca788a6695484154a5021891013f2c6edb0
     "metadata": {},
     "output_type": "execute_result"
    }
   ],
   "source": [
<<<<<<< HEAD
    "#df_input_espana2=df_input_espana[\"PROVINCIAS\"].value_counts()\n",
    "#df_input_espana2.reset_index()\n",
    "#df_input_espana2=df_input_espana2.rename(columns={\"INDEX\":\"COD_PROVINCIAS\"})\n",
    "#df_input_espana2\n",
    "df_input_espana2[:10]\n"
=======
    "df_input_espana2=df_input_espana2.groupby('PROVINCIAS').sum('SUMA')\n",
    "df_input_espana2.sort_values(by='SUMA', ascending=False, inplace=True)\n",
    "df_input_espana2=df_input_espana2[:10]\n",
    "df_input_espana2.reset_index(inplace=True)\n",
    "df_input_espana2"
>>>>>>> 6aefa4d8d367b7c2b90895f27b84b20dab197245
   ]
  },
  {
   "cell_type": "code",
<<<<<<< HEAD
   "execution_count": 488,
=======
<<<<<<< HEAD
   "execution_count": 183,
   "metadata": {},
   "outputs": [
    {
     "ename": "KeyError",
     "evalue": "'PROVINCIAS'",
     "output_type": "error",
     "traceback": [
      "\u001b[1;31m---------------------------------------------------------------------------\u001b[0m",
      "\u001b[1;31mKeyError\u001b[0m                                  Traceback (most recent call last)",
      "\u001b[1;32mc:\\Users\\rocio\\AppData\\Local\\Programs\\Python\\Python37\\lib\\site-packages\\pandas\\core\\indexes\\base.py\u001b[0m in \u001b[0;36mget_loc\u001b[1;34m(self, key, method, tolerance)\u001b[0m\n\u001b[0;32m   3360\u001b[0m             \u001b[1;32mtry\u001b[0m\u001b[1;33m:\u001b[0m\u001b[1;33m\u001b[0m\u001b[1;33m\u001b[0m\u001b[0m\n\u001b[1;32m-> 3361\u001b[1;33m                 \u001b[1;32mreturn\u001b[0m \u001b[0mself\u001b[0m\u001b[1;33m.\u001b[0m\u001b[0m_engine\u001b[0m\u001b[1;33m.\u001b[0m\u001b[0mget_loc\u001b[0m\u001b[1;33m(\u001b[0m\u001b[0mcasted_key\u001b[0m\u001b[1;33m)\u001b[0m\u001b[1;33m\u001b[0m\u001b[1;33m\u001b[0m\u001b[0m\n\u001b[0m\u001b[0;32m   3362\u001b[0m             \u001b[1;32mexcept\u001b[0m \u001b[0mKeyError\u001b[0m \u001b[1;32mas\u001b[0m \u001b[0merr\u001b[0m\u001b[1;33m:\u001b[0m\u001b[1;33m\u001b[0m\u001b[1;33m\u001b[0m\u001b[0m\n",
      "\u001b[1;32mc:\\Users\\rocio\\AppData\\Local\\Programs\\Python\\Python37\\lib\\site-packages\\pandas\\_libs\\index.pyx\u001b[0m in \u001b[0;36mpandas._libs.index.IndexEngine.get_loc\u001b[1;34m()\u001b[0m\n",
      "\u001b[1;32mc:\\Users\\rocio\\AppData\\Local\\Programs\\Python\\Python37\\lib\\site-packages\\pandas\\_libs\\index.pyx\u001b[0m in \u001b[0;36mpandas._libs.index.IndexEngine.get_loc\u001b[1;34m()\u001b[0m\n",
      "\u001b[1;32mpandas\\_libs\\hashtable_class_helper.pxi\u001b[0m in \u001b[0;36mpandas._libs.hashtable.PyObjectHashTable.get_item\u001b[1;34m()\u001b[0m\n",
      "\u001b[1;32mpandas\\_libs\\hashtable_class_helper.pxi\u001b[0m in \u001b[0;36mpandas._libs.hashtable.PyObjectHashTable.get_item\u001b[1;34m()\u001b[0m\n",
      "\u001b[1;31mKeyError\u001b[0m: 'PROVINCIAS'",
      "\nThe above exception was the direct cause of the following exception:\n",
      "\u001b[1;31mKeyError\u001b[0m                                  Traceback (most recent call last)",
      "\u001b[1;32m~\\AppData\\Local\\Temp\\ipykernel_23008\\1379610986.py\u001b[0m in \u001b[0;36m<module>\u001b[1;34m\u001b[0m\n\u001b[1;32m----> 1\u001b[1;33m \u001b[0mfig\u001b[0m \u001b[1;33m=\u001b[0m \u001b[0mpx\u001b[0m\u001b[1;33m.\u001b[0m\u001b[0mbar\u001b[0m\u001b[1;33m(\u001b[0m\u001b[0mdf_input_espana2\u001b[0m\u001b[1;33m,\u001b[0m \u001b[0my\u001b[0m\u001b[1;33m=\u001b[0m\u001b[0mdf_input_espana2\u001b[0m\u001b[1;33m[\u001b[0m\u001b[1;34m'PROVINCIAS'\u001b[0m\u001b[1;33m]\u001b[0m\u001b[1;33m.\u001b[0m\u001b[0munique\u001b[0m\u001b[1;33m(\u001b[0m\u001b[1;33m)\u001b[0m\u001b[1;33m,\u001b[0m \u001b[0mx\u001b[0m\u001b[1;33m=\u001b[0m\u001b[0mdf_input_espana2\u001b[0m\u001b[1;33m[\u001b[0m\u001b[1;34m'PROVINCIAS'\u001b[0m\u001b[1;33m]\u001b[0m\u001b[1;33m.\u001b[0m\u001b[0mvalue_counts\u001b[0m\u001b[1;33m(\u001b[0m\u001b[1;33m)\u001b[0m\u001b[1;33m,\u001b[0m \u001b[0mtext\u001b[0m\u001b[1;33m=\u001b[0m\u001b[0mporcentaje_prov\u001b[0m\u001b[1;33m,\u001b[0m\u001b[0mtitle\u001b[0m\u001b[1;33m=\u001b[0m\u001b[1;34m\"VISITAS POR LUGAR ORIGEN\"\u001b[0m\u001b[1;33m,\u001b[0m \u001b[0mcolor\u001b[0m\u001b[1;33m=\u001b[0m\u001b[0mcolores3\u001b[0m\u001b[1;33m,\u001b[0m \u001b[0mbarmode\u001b[0m\u001b[1;33m=\u001b[0m\u001b[1;34m\"overlay\"\u001b[0m\u001b[1;33m,\u001b[0m \u001b[0mopacity\u001b[0m\u001b[1;33m=\u001b[0m\u001b[1;36m.90\u001b[0m\u001b[1;33m)\u001b[0m\u001b[1;33m\u001b[0m\u001b[1;33m\u001b[0m\u001b[0m\n\u001b[0m\u001b[0;32m      2\u001b[0m \u001b[0mfig\u001b[0m\u001b[1;33m.\u001b[0m\u001b[0mupdate_traces\u001b[0m\u001b[1;33m(\u001b[0m\u001b[0mtexttemplate\u001b[0m\u001b[1;33m=\u001b[0m\u001b[1;34m'%{text:0.2f}%'\u001b[0m\u001b[1;33m,\u001b[0m \u001b[0mtextposition\u001b[0m\u001b[1;33m=\u001b[0m\u001b[1;34m'outside'\u001b[0m\u001b[1;33m)\u001b[0m\u001b[1;33m\u001b[0m\u001b[1;33m\u001b[0m\u001b[0m\n\u001b[0;32m      3\u001b[0m \u001b[0mfig\u001b[0m\u001b[1;33m.\u001b[0m\u001b[0mupdate_layout\u001b[0m\u001b[1;33m(\u001b[0m\u001b[0muniformtext_minsize\u001b[0m\u001b[1;33m=\u001b[0m\u001b[1;36m10\u001b[0m\u001b[1;33m,\u001b[0m \u001b[0muniformtext_mode\u001b[0m\u001b[1;33m=\u001b[0m\u001b[1;34m'hide'\u001b[0m\u001b[1;33m)\u001b[0m\u001b[1;33m\u001b[0m\u001b[1;33m\u001b[0m\u001b[0m\n\u001b[0;32m      4\u001b[0m \u001b[0mfig\u001b[0m\u001b[1;33m.\u001b[0m\u001b[0mupdate_layout\u001b[0m\u001b[1;33m(\u001b[0m\u001b[0mbarmode\u001b[0m\u001b[1;33m=\u001b[0m\u001b[1;34m'overlay'\u001b[0m\u001b[1;33m,\u001b[0m\u001b[0mwidth\u001b[0m\u001b[1;33m=\u001b[0m\u001b[1;36m1200\u001b[0m\u001b[1;33m,\u001b[0m \u001b[0mheight\u001b[0m\u001b[1;33m=\u001b[0m\u001b[1;36m800\u001b[0m\u001b[1;33m,\u001b[0m\u001b[0mtitle_font_size\u001b[0m\u001b[1;33m=\u001b[0m\u001b[1;36m25\u001b[0m\u001b[1;33m,\u001b[0m \u001b[0mtitle_font_color\u001b[0m\u001b[1;33m=\u001b[0m\u001b[1;34m'black'\u001b[0m\u001b[1;33m,\u001b[0m \u001b[0mtitle_xanchor\u001b[0m\u001b[1;33m=\u001b[0m\u001b[1;34m'auto'\u001b[0m\u001b[1;33m)\u001b[0m\u001b[1;33m\u001b[0m\u001b[1;33m\u001b[0m\u001b[0m\n\u001b[0;32m      5\u001b[0m \u001b[0mfig\u001b[0m\u001b[1;33m.\u001b[0m\u001b[0mupdate_layout\u001b[0m\u001b[1;33m(\u001b[0m\u001b[0mtitle_x\u001b[0m\u001b[1;33m=\u001b[0m\u001b[1;36m0.5\u001b[0m\u001b[1;33m,\u001b[0m \u001b[0mfont_color\u001b[0m\u001b[1;33m=\u001b[0m\u001b[1;34m'black'\u001b[0m\u001b[1;33m)\u001b[0m\u001b[1;33m\u001b[0m\u001b[1;33m\u001b[0m\u001b[0m\n",
      "\u001b[1;32mc:\\Users\\rocio\\AppData\\Local\\Programs\\Python\\Python37\\lib\\site-packages\\pandas\\core\\series.py\u001b[0m in \u001b[0;36m__getitem__\u001b[1;34m(self, key)\u001b[0m\n\u001b[0;32m    940\u001b[0m \u001b[1;33m\u001b[0m\u001b[0m\n\u001b[0;32m    941\u001b[0m         \u001b[1;32melif\u001b[0m \u001b[0mkey_is_scalar\u001b[0m\u001b[1;33m:\u001b[0m\u001b[1;33m\u001b[0m\u001b[1;33m\u001b[0m\u001b[0m\n\u001b[1;32m--> 942\u001b[1;33m             \u001b[1;32mreturn\u001b[0m \u001b[0mself\u001b[0m\u001b[1;33m.\u001b[0m\u001b[0m_get_value\u001b[0m\u001b[1;33m(\u001b[0m\u001b[0mkey\u001b[0m\u001b[1;33m)\u001b[0m\u001b[1;33m\u001b[0m\u001b[1;33m\u001b[0m\u001b[0m\n\u001b[0m\u001b[0;32m    943\u001b[0m \u001b[1;33m\u001b[0m\u001b[0m\n\u001b[0;32m    944\u001b[0m         \u001b[1;32mif\u001b[0m \u001b[0mis_hashable\u001b[0m\u001b[1;33m(\u001b[0m\u001b[0mkey\u001b[0m\u001b[1;33m)\u001b[0m\u001b[1;33m:\u001b[0m\u001b[1;33m\u001b[0m\u001b[1;33m\u001b[0m\u001b[0m\n",
      "\u001b[1;32mc:\\Users\\rocio\\AppData\\Local\\Programs\\Python\\Python37\\lib\\site-packages\\pandas\\core\\series.py\u001b[0m in \u001b[0;36m_get_value\u001b[1;34m(self, label, takeable)\u001b[0m\n\u001b[0;32m   1049\u001b[0m \u001b[1;33m\u001b[0m\u001b[0m\n\u001b[0;32m   1050\u001b[0m         \u001b[1;31m# Similar to Index.get_value, but we do not fall back to positional\u001b[0m\u001b[1;33m\u001b[0m\u001b[1;33m\u001b[0m\u001b[1;33m\u001b[0m\u001b[0m\n\u001b[1;32m-> 1051\u001b[1;33m         \u001b[0mloc\u001b[0m \u001b[1;33m=\u001b[0m \u001b[0mself\u001b[0m\u001b[1;33m.\u001b[0m\u001b[0mindex\u001b[0m\u001b[1;33m.\u001b[0m\u001b[0mget_loc\u001b[0m\u001b[1;33m(\u001b[0m\u001b[0mlabel\u001b[0m\u001b[1;33m)\u001b[0m\u001b[1;33m\u001b[0m\u001b[1;33m\u001b[0m\u001b[0m\n\u001b[0m\u001b[0;32m   1052\u001b[0m         \u001b[1;32mreturn\u001b[0m \u001b[0mself\u001b[0m\u001b[1;33m.\u001b[0m\u001b[0mindex\u001b[0m\u001b[1;33m.\u001b[0m\u001b[0m_get_values_for_loc\u001b[0m\u001b[1;33m(\u001b[0m\u001b[0mself\u001b[0m\u001b[1;33m,\u001b[0m \u001b[0mloc\u001b[0m\u001b[1;33m,\u001b[0m \u001b[0mlabel\u001b[0m\u001b[1;33m)\u001b[0m\u001b[1;33m\u001b[0m\u001b[1;33m\u001b[0m\u001b[0m\n\u001b[0;32m   1053\u001b[0m \u001b[1;33m\u001b[0m\u001b[0m\n",
      "\u001b[1;32mc:\\Users\\rocio\\AppData\\Local\\Programs\\Python\\Python37\\lib\\site-packages\\pandas\\core\\indexes\\base.py\u001b[0m in \u001b[0;36mget_loc\u001b[1;34m(self, key, method, tolerance)\u001b[0m\n\u001b[0;32m   3361\u001b[0m                 \u001b[1;32mreturn\u001b[0m \u001b[0mself\u001b[0m\u001b[1;33m.\u001b[0m\u001b[0m_engine\u001b[0m\u001b[1;33m.\u001b[0m\u001b[0mget_loc\u001b[0m\u001b[1;33m(\u001b[0m\u001b[0mcasted_key\u001b[0m\u001b[1;33m)\u001b[0m\u001b[1;33m\u001b[0m\u001b[1;33m\u001b[0m\u001b[0m\n\u001b[0;32m   3362\u001b[0m             \u001b[1;32mexcept\u001b[0m \u001b[0mKeyError\u001b[0m \u001b[1;32mas\u001b[0m \u001b[0merr\u001b[0m\u001b[1;33m:\u001b[0m\u001b[1;33m\u001b[0m\u001b[1;33m\u001b[0m\u001b[0m\n\u001b[1;32m-> 3363\u001b[1;33m                 \u001b[1;32mraise\u001b[0m \u001b[0mKeyError\u001b[0m\u001b[1;33m(\u001b[0m\u001b[0mkey\u001b[0m\u001b[1;33m)\u001b[0m \u001b[1;32mfrom\u001b[0m \u001b[0merr\u001b[0m\u001b[1;33m\u001b[0m\u001b[1;33m\u001b[0m\u001b[0m\n\u001b[0m\u001b[0;32m   3364\u001b[0m \u001b[1;33m\u001b[0m\u001b[0m\n\u001b[0;32m   3365\u001b[0m         \u001b[1;32mif\u001b[0m \u001b[0mis_scalar\u001b[0m\u001b[1;33m(\u001b[0m\u001b[0mkey\u001b[0m\u001b[1;33m)\u001b[0m \u001b[1;32mand\u001b[0m \u001b[0misna\u001b[0m\u001b[1;33m(\u001b[0m\u001b[0mkey\u001b[0m\u001b[1;33m)\u001b[0m \u001b[1;32mand\u001b[0m \u001b[1;32mnot\u001b[0m \u001b[0mself\u001b[0m\u001b[1;33m.\u001b[0m\u001b[0mhasnans\u001b[0m\u001b[1;33m:\u001b[0m\u001b[1;33m\u001b[0m\u001b[1;33m\u001b[0m\u001b[0m\n",
      "\u001b[1;31mKeyError\u001b[0m: 'PROVINCIAS'"
     ]
    }
   ],
   "source": [
    "fig = px.bar(df_input_espana2, y=df_input_espana2['PROVINCIAS'].unique(), x=df_input_espana2['PROVINCIAS'].value_counts(), text=porcentaje_prov,title=\"VISITAS POR LUGAR ORIGEN\", color=colores3, barmode=\"overlay\", opacity=.90)\n",
=======
   "execution_count": 451,
>>>>>>> f4859ca788a6695484154a5021891013f2c6edb0
   "metadata": {},
   "outputs": [
    {
     "data": {
      "text/plain": [
       "array(['Santa Cruz de Tenerife', 'Baleares', 'Cantabria', 'Cádiz',\n",
       "       'Asturias', 'Las Palmas', 'Córdoba', 'Sevilla', 'Huelva', 'Teruel'],\n",
       "      dtype=object)"
      ]
     },
     "execution_count": 488,
     "metadata": {},
     "output_type": "execute_result"
    }
   ],
   "source": [
    "colores4=df_input_espana2['PROVINCIAS'].unique()\n",
    "colores4"
   ]
  },
  {
   "cell_type": "code",
   "execution_count": 489,
   "metadata": {},
   "outputs": [
    {
     "data": {
      "text/plain": [
       "0    18.7500\n",
       "1    12.5000\n",
       "2    10.9375\n",
       "3    10.9375\n",
       "4    10.9375\n",
       "5     9.3750\n",
       "6     9.3750\n",
       "7     6.2500\n",
       "8     6.2500\n",
       "9     4.6875\n",
       "Name: SUMA, dtype: float64"
      ]
     },
     "execution_count": 489,
     "metadata": {},
     "output_type": "execute_result"
    }
   ],
   "source": [
    "total_prov=df_input_espana2['SUMA'].sum()\n",
    "porcentaje_prov=(df_input_espana2['SUMA']/total_prov)*100\n",
    "porcentaje_prov"
   ]
  },
  {
   "cell_type": "code",
   "execution_count": 490,
   "metadata": {},
   "outputs": [
    {
     "data": {
      "application/vnd.plotly.v1+json": {
       "config": {
        "plotlyServerURL": "https://plot.ly"
       },
       "data": [
        {
         "alignmentgroup": "True",
         "hovertemplate": "color=Santa Cruz de Tenerife<br>SUMA=%{x}<br>y=%{y}<br>text=%{text}<extra></extra>",
         "legendgroup": "Santa Cruz de Tenerife",
         "marker": {
          "color": "#636efa",
          "opacity": 1,
          "pattern": {
           "shape": ""
          }
         },
         "name": "Santa Cruz de Tenerife",
         "offsetgroup": "Santa Cruz de Tenerife",
         "orientation": "h",
         "showlegend": true,
         "text": [
          18.75
         ],
         "textposition": "outside",
         "texttemplate": "%{text:0.2f}%",
         "type": "bar",
         "x": [
          12
         ],
         "xaxis": "x",
         "y": [
          "Santa Cruz de Tenerife"
         ],
         "yaxis": "y"
        },
        {
         "alignmentgroup": "True",
         "hovertemplate": "color=Baleares<br>SUMA=%{x}<br>y=%{y}<br>text=%{text}<extra></extra>",
         "legendgroup": "Baleares",
         "marker": {
          "color": "#EF553B",
          "opacity": 1,
          "pattern": {
           "shape": ""
          }
         },
         "name": "Baleares",
         "offsetgroup": "Baleares",
         "orientation": "h",
         "showlegend": true,
         "text": [
          12.5
         ],
         "textposition": "outside",
         "texttemplate": "%{text:0.2f}%",
         "type": "bar",
         "x": [
          8
         ],
         "xaxis": "x",
         "y": [
          "Baleares"
         ],
         "yaxis": "y"
        },
        {
         "alignmentgroup": "True",
         "hovertemplate": "color=Cantabria<br>SUMA=%{x}<br>y=%{y}<br>text=%{text}<extra></extra>",
         "legendgroup": "Cantabria",
         "marker": {
          "color": "#00cc96",
          "opacity": 1,
          "pattern": {
           "shape": ""
          }
         },
         "name": "Cantabria",
         "offsetgroup": "Cantabria",
         "orientation": "h",
         "showlegend": true,
         "text": [
          10.9375
         ],
         "textposition": "outside",
         "texttemplate": "%{text:0.2f}%",
         "type": "bar",
         "x": [
          7
         ],
         "xaxis": "x",
         "y": [
          "Cantabria"
         ],
         "yaxis": "y"
        },
        {
         "alignmentgroup": "True",
         "hovertemplate": "color=Cádiz<br>SUMA=%{x}<br>y=%{y}<br>text=%{text}<extra></extra>",
         "legendgroup": "Cádiz",
         "marker": {
          "color": "#ab63fa",
          "opacity": 1,
          "pattern": {
           "shape": ""
          }
         },
         "name": "Cádiz",
         "offsetgroup": "Cádiz",
         "orientation": "h",
         "showlegend": true,
         "text": [
          10.9375
         ],
         "textposition": "outside",
         "texttemplate": "%{text:0.2f}%",
         "type": "bar",
         "x": [
          7
         ],
         "xaxis": "x",
         "y": [
          "Cádiz"
         ],
         "yaxis": "y"
        },
        {
         "alignmentgroup": "True",
         "hovertemplate": "color=Asturias<br>SUMA=%{x}<br>y=%{y}<br>text=%{text}<extra></extra>",
         "legendgroup": "Asturias",
         "marker": {
          "color": "#FFA15A",
          "opacity": 1,
          "pattern": {
           "shape": ""
          }
         },
         "name": "Asturias",
         "offsetgroup": "Asturias",
         "orientation": "h",
         "showlegend": true,
         "text": [
          10.9375
         ],
         "textposition": "outside",
         "texttemplate": "%{text:0.2f}%",
         "type": "bar",
         "x": [
          7
         ],
         "xaxis": "x",
         "y": [
          "Asturias"
         ],
         "yaxis": "y"
        },
        {
         "alignmentgroup": "True",
         "hovertemplate": "color=Las Palmas<br>SUMA=%{x}<br>y=%{y}<br>text=%{text}<extra></extra>",
         "legendgroup": "Las Palmas",
         "marker": {
          "color": "#19d3f3",
          "opacity": 1,
          "pattern": {
           "shape": ""
          }
         },
         "name": "Las Palmas",
         "offsetgroup": "Las Palmas",
         "orientation": "h",
         "showlegend": true,
         "text": [
          9.375
         ],
         "textposition": "outside",
         "texttemplate": "%{text:0.2f}%",
         "type": "bar",
         "x": [
          6
         ],
         "xaxis": "x",
         "y": [
          "Las Palmas"
         ],
         "yaxis": "y"
        },
        {
         "alignmentgroup": "True",
         "hovertemplate": "color=Córdoba<br>SUMA=%{x}<br>y=%{y}<br>text=%{text}<extra></extra>",
         "legendgroup": "Córdoba",
         "marker": {
          "color": "#FF6692",
          "opacity": 1,
          "pattern": {
           "shape": ""
          }
         },
         "name": "Córdoba",
         "offsetgroup": "Córdoba",
         "orientation": "h",
         "showlegend": true,
         "text": [
          9.375
         ],
         "textposition": "outside",
         "texttemplate": "%{text:0.2f}%",
         "type": "bar",
         "x": [
          6
         ],
         "xaxis": "x",
         "y": [
          "Córdoba"
         ],
         "yaxis": "y"
        },
        {
         "alignmentgroup": "True",
         "hovertemplate": "color=Sevilla<br>SUMA=%{x}<br>y=%{y}<br>text=%{text}<extra></extra>",
         "legendgroup": "Sevilla",
         "marker": {
          "color": "#B6E880",
          "opacity": 1,
          "pattern": {
           "shape": ""
          }
         },
         "name": "Sevilla",
         "offsetgroup": "Sevilla",
         "orientation": "h",
         "showlegend": true,
         "text": [
          6.25
         ],
         "textposition": "outside",
         "texttemplate": "%{text:0.2f}%",
         "type": "bar",
         "x": [
          4
         ],
         "xaxis": "x",
         "y": [
          "Sevilla"
         ],
         "yaxis": "y"
        },
        {
         "alignmentgroup": "True",
         "hovertemplate": "color=Huelva<br>SUMA=%{x}<br>y=%{y}<br>text=%{text}<extra></extra>",
         "legendgroup": "Huelva",
         "marker": {
          "color": "#FF97FF",
          "opacity": 1,
          "pattern": {
           "shape": ""
          }
         },
         "name": "Huelva",
         "offsetgroup": "Huelva",
         "orientation": "h",
         "showlegend": true,
         "text": [
          6.25
         ],
         "textposition": "outside",
         "texttemplate": "%{text:0.2f}%",
         "type": "bar",
         "x": [
          4
         ],
         "xaxis": "x",
         "y": [
          "Huelva"
         ],
         "yaxis": "y"
        },
        {
         "alignmentgroup": "True",
         "hovertemplate": "color=Teruel<br>SUMA=%{x}<br>y=%{y}<br>text=%{text}<extra></extra>",
         "legendgroup": "Teruel",
         "marker": {
          "color": "#FECB52",
          "opacity": 1,
          "pattern": {
           "shape": ""
          }
         },
         "name": "Teruel",
         "offsetgroup": "Teruel",
         "orientation": "h",
         "showlegend": true,
         "text": [
          4.6875
         ],
         "textposition": "outside",
         "texttemplate": "%{text:0.2f}%",
         "type": "bar",
         "x": [
          3
         ],
         "xaxis": "x",
         "y": [
          "Teruel"
         ],
         "yaxis": "y"
        }
       ],
       "layout": {
        "barmode": "overlay",
        "font": {
         "color": "black",
         "size": 12
        },
        "height": 800,
        "legend": {
         "title": {
          "text": "LEYENDA"
         },
         "tracegroupgap": 0
        },
        "template": {
         "data": {
          "bar": [
           {
            "error_x": {
             "color": "#2a3f5f"
            },
            "error_y": {
             "color": "#2a3f5f"
            },
            "marker": {
             "line": {
              "color": "#E5ECF6",
              "width": 0.5
             },
             "pattern": {
              "fillmode": "overlay",
              "size": 10,
              "solidity": 0.2
             }
            },
            "type": "bar"
           }
          ],
          "barpolar": [
           {
            "marker": {
             "line": {
              "color": "#E5ECF6",
              "width": 0.5
             },
             "pattern": {
              "fillmode": "overlay",
              "size": 10,
              "solidity": 0.2
             }
            },
            "type": "barpolar"
           }
          ],
          "carpet": [
           {
            "aaxis": {
             "endlinecolor": "#2a3f5f",
             "gridcolor": "white",
             "linecolor": "white",
             "minorgridcolor": "white",
             "startlinecolor": "#2a3f5f"
            },
            "baxis": {
             "endlinecolor": "#2a3f5f",
             "gridcolor": "white",
             "linecolor": "white",
             "minorgridcolor": "white",
             "startlinecolor": "#2a3f5f"
            },
            "type": "carpet"
           }
          ],
          "choropleth": [
           {
            "colorbar": {
             "outlinewidth": 0,
             "ticks": ""
            },
            "type": "choropleth"
           }
          ],
          "contour": [
           {
            "colorbar": {
             "outlinewidth": 0,
             "ticks": ""
            },
            "colorscale": [
             [
              0,
              "#0d0887"
             ],
             [
              0.1111111111111111,
              "#46039f"
             ],
             [
              0.2222222222222222,
              "#7201a8"
             ],
             [
              0.3333333333333333,
              "#9c179e"
             ],
             [
              0.4444444444444444,
              "#bd3786"
             ],
             [
              0.5555555555555556,
              "#d8576b"
             ],
             [
              0.6666666666666666,
              "#ed7953"
             ],
             [
              0.7777777777777778,
              "#fb9f3a"
             ],
             [
              0.8888888888888888,
              "#fdca26"
             ],
             [
              1,
              "#f0f921"
             ]
            ],
            "type": "contour"
           }
          ],
          "contourcarpet": [
           {
            "colorbar": {
             "outlinewidth": 0,
             "ticks": ""
            },
            "type": "contourcarpet"
           }
          ],
          "heatmap": [
           {
            "colorbar": {
             "outlinewidth": 0,
             "ticks": ""
            },
            "colorscale": [
             [
              0,
              "#0d0887"
             ],
             [
              0.1111111111111111,
              "#46039f"
             ],
             [
              0.2222222222222222,
              "#7201a8"
             ],
             [
              0.3333333333333333,
              "#9c179e"
             ],
             [
              0.4444444444444444,
              "#bd3786"
             ],
             [
              0.5555555555555556,
              "#d8576b"
             ],
             [
              0.6666666666666666,
              "#ed7953"
             ],
             [
              0.7777777777777778,
              "#fb9f3a"
             ],
             [
              0.8888888888888888,
              "#fdca26"
             ],
             [
              1,
              "#f0f921"
             ]
            ],
            "type": "heatmap"
           }
          ],
          "heatmapgl": [
           {
            "colorbar": {
             "outlinewidth": 0,
             "ticks": ""
            },
            "colorscale": [
             [
              0,
              "#0d0887"
             ],
             [
              0.1111111111111111,
              "#46039f"
             ],
             [
              0.2222222222222222,
              "#7201a8"
             ],
             [
              0.3333333333333333,
              "#9c179e"
             ],
             [
              0.4444444444444444,
              "#bd3786"
             ],
             [
              0.5555555555555556,
              "#d8576b"
             ],
             [
              0.6666666666666666,
              "#ed7953"
             ],
             [
              0.7777777777777778,
              "#fb9f3a"
             ],
             [
              0.8888888888888888,
              "#fdca26"
             ],
             [
              1,
              "#f0f921"
             ]
            ],
            "type": "heatmapgl"
           }
          ],
          "histogram": [
           {
            "marker": {
             "pattern": {
              "fillmode": "overlay",
              "size": 10,
              "solidity": 0.2
             }
            },
            "type": "histogram"
           }
          ],
          "histogram2d": [
           {
            "colorbar": {
             "outlinewidth": 0,
             "ticks": ""
            },
            "colorscale": [
             [
              0,
              "#0d0887"
             ],
             [
              0.1111111111111111,
              "#46039f"
             ],
             [
              0.2222222222222222,
              "#7201a8"
             ],
             [
              0.3333333333333333,
              "#9c179e"
             ],
             [
              0.4444444444444444,
              "#bd3786"
             ],
             [
              0.5555555555555556,
              "#d8576b"
             ],
             [
              0.6666666666666666,
              "#ed7953"
             ],
             [
              0.7777777777777778,
              "#fb9f3a"
             ],
             [
              0.8888888888888888,
              "#fdca26"
             ],
             [
              1,
              "#f0f921"
             ]
            ],
            "type": "histogram2d"
           }
          ],
          "histogram2dcontour": [
           {
            "colorbar": {
             "outlinewidth": 0,
             "ticks": ""
            },
            "colorscale": [
             [
              0,
              "#0d0887"
             ],
             [
              0.1111111111111111,
              "#46039f"
             ],
             [
              0.2222222222222222,
              "#7201a8"
             ],
             [
              0.3333333333333333,
              "#9c179e"
             ],
             [
              0.4444444444444444,
              "#bd3786"
             ],
             [
              0.5555555555555556,
              "#d8576b"
             ],
             [
              0.6666666666666666,
              "#ed7953"
             ],
             [
              0.7777777777777778,
              "#fb9f3a"
             ],
             [
              0.8888888888888888,
              "#fdca26"
             ],
             [
              1,
              "#f0f921"
             ]
            ],
            "type": "histogram2dcontour"
           }
          ],
          "mesh3d": [
           {
            "colorbar": {
             "outlinewidth": 0,
             "ticks": ""
            },
            "type": "mesh3d"
           }
          ],
          "parcoords": [
           {
            "line": {
             "colorbar": {
              "outlinewidth": 0,
              "ticks": ""
             }
            },
            "type": "parcoords"
           }
          ],
          "pie": [
           {
            "automargin": true,
            "type": "pie"
           }
          ],
          "scatter": [
           {
            "fillpattern": {
             "fillmode": "overlay",
             "size": 10,
             "solidity": 0.2
            },
            "type": "scatter"
           }
          ],
          "scatter3d": [
           {
            "line": {
             "colorbar": {
              "outlinewidth": 0,
              "ticks": ""
             }
            },
            "marker": {
             "colorbar": {
              "outlinewidth": 0,
              "ticks": ""
             }
            },
            "type": "scatter3d"
           }
          ],
          "scattercarpet": [
           {
            "marker": {
             "colorbar": {
              "outlinewidth": 0,
              "ticks": ""
             }
            },
            "type": "scattercarpet"
           }
          ],
          "scattergeo": [
           {
            "marker": {
             "colorbar": {
              "outlinewidth": 0,
              "ticks": ""
             }
            },
            "type": "scattergeo"
           }
          ],
          "scattergl": [
           {
            "marker": {
             "colorbar": {
              "outlinewidth": 0,
              "ticks": ""
             }
            },
            "type": "scattergl"
           }
          ],
          "scattermapbox": [
           {
            "marker": {
             "colorbar": {
              "outlinewidth": 0,
              "ticks": ""
             }
            },
            "type": "scattermapbox"
           }
          ],
          "scatterpolar": [
           {
            "marker": {
             "colorbar": {
              "outlinewidth": 0,
              "ticks": ""
             }
            },
            "type": "scatterpolar"
           }
          ],
          "scatterpolargl": [
           {
            "marker": {
             "colorbar": {
              "outlinewidth": 0,
              "ticks": ""
             }
            },
            "type": "scatterpolargl"
           }
          ],
          "scatterternary": [
           {
            "marker": {
             "colorbar": {
              "outlinewidth": 0,
              "ticks": ""
             }
            },
            "type": "scatterternary"
           }
          ],
          "surface": [
           {
            "colorbar": {
             "outlinewidth": 0,
             "ticks": ""
            },
            "colorscale": [
             [
              0,
              "#0d0887"
             ],
             [
              0.1111111111111111,
              "#46039f"
             ],
             [
              0.2222222222222222,
              "#7201a8"
             ],
             [
              0.3333333333333333,
              "#9c179e"
             ],
             [
              0.4444444444444444,
              "#bd3786"
             ],
             [
              0.5555555555555556,
              "#d8576b"
             ],
             [
              0.6666666666666666,
              "#ed7953"
             ],
             [
              0.7777777777777778,
              "#fb9f3a"
             ],
             [
              0.8888888888888888,
              "#fdca26"
             ],
             [
              1,
              "#f0f921"
             ]
            ],
            "type": "surface"
           }
          ],
          "table": [
           {
            "cells": {
             "fill": {
              "color": "#EBF0F8"
             },
             "line": {
              "color": "white"
             }
            },
            "header": {
             "fill": {
              "color": "#C8D4E3"
             },
             "line": {
              "color": "white"
             }
            },
            "type": "table"
           }
          ]
         },
         "layout": {
          "annotationdefaults": {
           "arrowcolor": "#2a3f5f",
           "arrowhead": 0,
           "arrowwidth": 1
          },
          "autotypenumbers": "strict",
          "coloraxis": {
           "colorbar": {
            "outlinewidth": 0,
            "ticks": ""
           }
          },
          "colorscale": {
           "diverging": [
            [
             0,
             "#8e0152"
            ],
            [
             0.1,
             "#c51b7d"
            ],
            [
             0.2,
             "#de77ae"
            ],
            [
             0.3,
             "#f1b6da"
            ],
            [
             0.4,
             "#fde0ef"
            ],
            [
             0.5,
             "#f7f7f7"
            ],
            [
             0.6,
             "#e6f5d0"
            ],
            [
             0.7,
             "#b8e186"
            ],
            [
             0.8,
             "#7fbc41"
            ],
            [
             0.9,
             "#4d9221"
            ],
            [
             1,
             "#276419"
            ]
           ],
           "sequential": [
            [
             0,
             "#0d0887"
            ],
            [
             0.1111111111111111,
             "#46039f"
            ],
            [
             0.2222222222222222,
             "#7201a8"
            ],
            [
             0.3333333333333333,
             "#9c179e"
            ],
            [
             0.4444444444444444,
             "#bd3786"
            ],
            [
             0.5555555555555556,
             "#d8576b"
            ],
            [
             0.6666666666666666,
             "#ed7953"
            ],
            [
             0.7777777777777778,
             "#fb9f3a"
            ],
            [
             0.8888888888888888,
             "#fdca26"
            ],
            [
             1,
             "#f0f921"
            ]
           ],
           "sequentialminus": [
            [
             0,
             "#0d0887"
            ],
            [
             0.1111111111111111,
             "#46039f"
            ],
            [
             0.2222222222222222,
             "#7201a8"
            ],
            [
             0.3333333333333333,
             "#9c179e"
            ],
            [
             0.4444444444444444,
             "#bd3786"
            ],
            [
             0.5555555555555556,
             "#d8576b"
            ],
            [
             0.6666666666666666,
             "#ed7953"
            ],
            [
             0.7777777777777778,
             "#fb9f3a"
            ],
            [
             0.8888888888888888,
             "#fdca26"
            ],
            [
             1,
             "#f0f921"
            ]
           ]
          },
          "colorway": [
           "#636efa",
           "#EF553B",
           "#00cc96",
           "#ab63fa",
           "#FFA15A",
           "#19d3f3",
           "#FF6692",
           "#B6E880",
           "#FF97FF",
           "#FECB52"
          ],
          "font": {
           "color": "#2a3f5f"
          },
          "geo": {
           "bgcolor": "white",
           "lakecolor": "white",
           "landcolor": "#E5ECF6",
           "showlakes": true,
           "showland": true,
           "subunitcolor": "white"
          },
          "hoverlabel": {
           "align": "left"
          },
          "hovermode": "closest",
          "mapbox": {
           "style": "light"
          },
          "paper_bgcolor": "white",
          "plot_bgcolor": "#E5ECF6",
          "polar": {
           "angularaxis": {
            "gridcolor": "white",
            "linecolor": "white",
            "ticks": ""
           },
           "bgcolor": "#E5ECF6",
           "radialaxis": {
            "gridcolor": "white",
            "linecolor": "white",
            "ticks": ""
           }
          },
          "scene": {
           "xaxis": {
            "backgroundcolor": "#E5ECF6",
            "gridcolor": "white",
            "gridwidth": 2,
            "linecolor": "white",
            "showbackground": true,
            "ticks": "",
            "zerolinecolor": "white"
           },
           "yaxis": {
            "backgroundcolor": "#E5ECF6",
            "gridcolor": "white",
            "gridwidth": 2,
            "linecolor": "white",
            "showbackground": true,
            "ticks": "",
            "zerolinecolor": "white"
           },
           "zaxis": {
            "backgroundcolor": "#E5ECF6",
            "gridcolor": "white",
            "gridwidth": 2,
            "linecolor": "white",
            "showbackground": true,
            "ticks": "",
            "zerolinecolor": "white"
           }
          },
          "shapedefaults": {
           "line": {
            "color": "#2a3f5f"
           }
          },
          "ternary": {
           "aaxis": {
            "gridcolor": "white",
            "linecolor": "white",
            "ticks": ""
           },
           "baxis": {
            "gridcolor": "white",
            "linecolor": "white",
            "ticks": ""
           },
           "bgcolor": "#E5ECF6",
           "caxis": {
            "gridcolor": "white",
            "linecolor": "white",
            "ticks": ""
           }
          },
          "title": {
           "x": 0.05
          },
          "xaxis": {
           "automargin": true,
           "gridcolor": "white",
           "linecolor": "white",
           "ticks": "",
           "title": {
            "standoff": 15
           },
           "zerolinecolor": "white",
           "zerolinewidth": 2
          },
          "yaxis": {
           "automargin": true,
           "gridcolor": "white",
           "linecolor": "white",
           "ticks": "",
           "title": {
            "standoff": 15
           },
           "zerolinecolor": "white",
           "zerolinewidth": 2
          }
         }
        },
        "title": {
         "font": {
          "color": "black",
          "size": 25
         },
         "text": "VISITAS POR LUGAR ORIGEN",
         "x": 0.5,
         "xanchor": "auto"
        },
        "uniformtext": {
         "minsize": 10,
         "mode": "hide"
        },
        "width": 1300,
        "xaxis": {
         "anchor": "y",
         "domain": [
          0,
          1
         ],
         "title": {
          "text": "PORCENTAJE VISITAS"
         }
        },
        "yaxis": {
         "anchor": "x",
         "domain": [
          0,
          1
         ],
         "title": {
          "text": "PROVINCIAS"
         }
        }
       }
      }
     },
     "metadata": {},
     "output_type": "display_data"
    }
   ],
   "source": [
<<<<<<< HEAD
    "fig = px.bar(df_input_espana2, y=df_input_espana2['PROVINCIAS'].unique(), x=df_input_espana2['SUMA'], text=porcentaje_prov,title=\"VISITAS POR LUGAR ORIGEN\", color=colores4, barmode=\"overlay\", opacity=1)\n",
=======
    "fig = px.bar(df_input_espana2, y=df_input_espana2['PROVINCIAS'].unique(), x=df_input_espana2['SUMA'], text=porcentaje_prov,title=\"VISITAS POR LUGAR ORIGEN\", color=colores4, barmode=\"overlay\", opacity=.90)\n",
>>>>>>> 6aefa4d8d367b7c2b90895f27b84b20dab197245
>>>>>>> f4859ca788a6695484154a5021891013f2c6edb0
    "fig.update_traces(texttemplate='%{text:0.2f}%', textposition='outside')\n",
    "fig.update_layout(uniformtext_minsize=10, uniformtext_mode='hide')\n",
    "fig.update_layout(barmode='overlay',width=1300, height=800,title_font_size=25, title_font_color='black', title_xanchor='auto')\n",
    "fig.update_layout(title_x=0.5, font_color='black')\n",
    "fig.update_layout(font_color='black')\n",
    "fig.update_layout(font_size=12)\n",
    "fig.update_layout(xaxis_title=\"PORCENTAJE VISITAS\", yaxis_title=\"PROVINCIAS\", legend_title=\"LEYENDA\")\n",
    "fig.show()"
   ]
  },
  {
   "cell_type": "code",
<<<<<<< HEAD
   "execution_count": 491,
=======
<<<<<<< HEAD
   "execution_count": null,
   "metadata": {},
   "outputs": [],
   "source": []
  },
  {
   "cell_type": "code",
   "execution_count": null,
   "metadata": {},
   "outputs": [],
   "source": []
  },
  {
   "cell_type": "code",
   "execution_count": null,
   "metadata": {},
   "outputs": [],
   "source": []
  },
  {
   "cell_type": "code",
   "execution_count": null,
   "metadata": {},
   "outputs": [],
   "source": []
  },
  {
   "cell_type": "code",
   "execution_count": null,
=======
   "execution_count": 454,
>>>>>>> 6aefa4d8d367b7c2b90895f27b84b20dab197245
>>>>>>> f4859ca788a6695484154a5021891013f2c6edb0
   "metadata": {},
   "outputs": [],
   "source": [
    "# conn.close()"
   ]
  }
 ],
 "metadata": {
  "kernelspec": {
   "display_name": "Python 3",
   "language": "python",
   "name": "python3"
  },
  "language_info": {
   "codemirror_mode": {
    "name": "ipython",
    "version": 3
   },
   "file_extension": ".py",
   "mimetype": "text/x-python",
   "name": "python",
   "nbconvert_exporter": "python",
   "pygments_lexer": "ipython3",
   "version": "3.7.4"
  },
  "orig_nbformat": 4,
  "vscode": {
   "interpreter": {
    "hash": "14374c167b9d94b221ba82ad6ca64b6a438b64cfd78be01f83f58990cbda8a04"
   }
  }
 },
 "nbformat": 4,
 "nbformat_minor": 2
}
