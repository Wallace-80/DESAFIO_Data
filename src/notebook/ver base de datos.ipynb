{
 "cells": [
  {
   "cell_type": "code",
   "execution_count": 1,
   "metadata": {},
   "outputs": [],
   "source": [
    "import pandas as pd\n",
    "import sqlite3"
   ]
  },
  {
   "cell_type": "code",
   "execution_count": 2,
   "metadata": {},
   "outputs": [],
   "source": [
    "from getpass import getpass\n",
    "from mysql.connector import connect, Error\n",
    "def connect_db(host, user):\n",
    "    try:\n",
    "    # Si la conexion se da satisfactoriamente, tendremos un mensaje de éxito.\n",
    "     conn = connect(\n",
    "                    host=host,\n",
    "                    user=user,\n",
    "                    password=getpass(\"Enter password: \")\n",
    "                     )    \n",
    "     print('SUCCESSFUL\\n\\n')\n",
    "     return conn\n",
    "    except Error as e:\n",
    "    # En caso de tener un error de conexión, lo mostramos\n",
    "        print(e)"
   ]
  },
  {
   "cell_type": "code",
   "execution_count": 3,
   "metadata": {},
   "outputs": [
    {
     "name": "stdout",
     "output_type": "stream",
     "text": [
      "SUCCESSFUL\n",
      "\n",
      "\n"
     ]
    }
   ],
   "source": [
    "host = \"desafiotravel.cdtvtmfza8iy.eu-west-3.rds.amazonaws.com\"\n",
    "user = 'admin'\n",
    "\n",
    "conn = connect_db(host, user)"
   ]
  },
  {
   "cell_type": "code",
   "execution_count": 4,
   "metadata": {},
   "outputs": [],
   "source": [
    "cursor = conn.cursor()"
   ]
  },
  {
   "cell_type": "code",
   "execution_count": 5,
   "metadata": {},
   "outputs": [],
   "source": [
    "cursor.execute(\"USE travelspain\")"
   ]
  },
  {
   "cell_type": "code",
   "execution_count": 6,
   "metadata": {},
   "outputs": [],
   "source": [
    "show_db_query = \"SELECT * FROM input\"\n",
    "\n",
    "with conn.cursor() as cursor:\n",
    "    cursor.execute(show_db_query)\n",
    "    ls_input = cursor.fetchall()"
   ]
  },
  {
   "cell_type": "code",
   "execution_count": 7,
   "metadata": {},
   "outputs": [
    {
     "data": {
      "text/plain": [
       "[(107, '3', 'Playa', 'Gastronomía'),\n",
       " (108, '16', 'Ciudad', 'Cultura'),\n",
       " (109, '18', 'Ciudad', 'Ocio Nocturno'),\n",
       " (110, '15', 'Playa', 'Familiar'),\n",
       " (111, '2', 'Montaña', 'Gastronomia'),\n",
       " (112, '3', 'Playa', 'Cultura'),\n",
       " (113, '14', 'Playa', 'Gastronomia'),\n",
       " (114, '10', 'Playa', 'Familiar'),\n",
       " (115, '14', 'Montaña', 'Ocio Nocturno'),\n",
       " (116, '13', 'Campo', 'Familiar'),\n",
       " (117, '12', 'Campo', 'Ocio Nocturno'),\n",
       " (118, '14', 'Campo', 'Ocio Nocturno'),\n",
       " (119, '13', 'Ciudad', 'Gastronomia'),\n",
       " (120, '15', 'Ciudad', 'Familiar'),\n",
       " (121, '15', 'Ciudad', 'Familiar'),\n",
       " (122, '16', 'Playa', 'Familiar'),\n",
       " (123, '2', 'Ciudad', 'Gastronomia'),\n",
       " (124, '2', 'Montaña', 'Gastronomia'),\n",
       " (125, '5', 'Campo', 'Ocio Nocturno'),\n",
       " (126, '4', 'Montaña', 'Gastronomia'),\n",
       " (127, '18', 'Campo', 'Gastronomia'),\n",
       " (128, '15', 'Ciudad', 'Cultura'),\n",
       " (129, '5', 'Montaña', 'Cultura'),\n",
       " (130, '2', 'Playa', 'Familiar'),\n",
       " (131, '8', 'Playa', 'Cultura'),\n",
       " (132, '3', 'Playa', 'Familiar'),\n",
       " (133, '5', 'Playa', 'Familiar'),\n",
       " (134, '2', 'Playa', 'Cultura'),\n",
       " (135, '2', 'Playa', 'Cultura'),\n",
       " (136, '8', 'Campo', 'Gastronomia'),\n",
       " (137, '2', 'Montaña', 'Cultura'),\n",
       " (138, '1', 'Montaña', 'Gastronomia'),\n",
       " (139, '12', 'Montaña', 'Gastronomia'),\n",
       " (140, '17', 'Ciudad', 'Ocio Nocturno'),\n",
       " (141, '50', 'Ciudad', 'Cultura'),\n",
       " (142, '3', 'Ciudad', 'Familiar'),\n",
       " (143, '7', 'Playa', 'Cultura'),\n",
       " (144, '41', 'Montaña', 'Familiar'),\n",
       " (145, '44', 'Playa', 'Gastronomia'),\n",
       " (146, '50', 'Campo', 'Ocio Nocturno'),\n",
       " (147, '5', 'Ciudad', 'Familiar'),\n",
       " (148, '16', 'Ciudad', 'Cultura'),\n",
       " (149, '4', 'Montaña', 'Ocio Nocturno'),\n",
       " (150, '49', 'Ciudad', 'Gastronomia'),\n",
       " (151, '11', 'Playa', 'Familiar'),\n",
       " (152, '47', 'Playa', 'Cultura'),\n",
       " (153, '14', 'Montaña', 'Cultura'),\n",
       " (154, '46', 'Campo', 'Gastronomia'),\n",
       " (155, '40', 'Playa', 'Ocio Nocturno'),\n",
       " (156, '9', 'Montaña', 'Gastronomia'),\n",
       " (157, '6', 'Campo', 'Cultura'),\n",
       " (158, '13', 'Ciudad', 'Cultura'),\n",
       " (159, '43', 'Ciudad', 'Cultura'),\n",
       " (160, '7', 'Ciudad', 'Cultura'),\n",
       " (161, '10', 'Ciudad', 'Cultura')]"
      ]
     },
     "execution_count": 7,
     "metadata": {},
     "output_type": "execute_result"
    }
   ],
   "source": [
    "ls_input"
   ]
  },
  {
   "cell_type": "code",
   "execution_count": 8,
   "metadata": {},
   "outputs": [
    {
     "data": {
      "text/html": [
       "<div>\n",
       "<style scoped>\n",
       "    .dataframe tbody tr th:only-of-type {\n",
       "        vertical-align: middle;\n",
       "    }\n",
       "\n",
       "    .dataframe tbody tr th {\n",
       "        vertical-align: top;\n",
       "    }\n",
       "\n",
       "    .dataframe thead th {\n",
       "        text-align: right;\n",
       "    }\n",
       "</style>\n",
       "<table border=\"1\" class=\"dataframe\">\n",
       "  <thead>\n",
       "    <tr style=\"text-align: right;\">\n",
       "      <th></th>\n",
       "      <th>ID_INDEX</th>\n",
       "      <th>PROVINCIAS</th>\n",
       "      <th>ENTORNO</th>\n",
       "      <th>ACTIVIDADES</th>\n",
       "    </tr>\n",
       "  </thead>\n",
       "  <tbody>\n",
       "    <tr>\n",
       "      <th>0</th>\n",
       "      <td>107</td>\n",
       "      <td>3</td>\n",
       "      <td>Playa</td>\n",
       "      <td>Gastronomía</td>\n",
       "    </tr>\n",
       "    <tr>\n",
       "      <th>1</th>\n",
       "      <td>108</td>\n",
       "      <td>16</td>\n",
       "      <td>Ciudad</td>\n",
       "      <td>Cultura</td>\n",
       "    </tr>\n",
       "    <tr>\n",
       "      <th>2</th>\n",
       "      <td>109</td>\n",
       "      <td>18</td>\n",
       "      <td>Ciudad</td>\n",
       "      <td>Ocio Nocturno</td>\n",
       "    </tr>\n",
       "    <tr>\n",
       "      <th>3</th>\n",
       "      <td>110</td>\n",
       "      <td>15</td>\n",
       "      <td>Playa</td>\n",
       "      <td>Familiar</td>\n",
       "    </tr>\n",
       "    <tr>\n",
       "      <th>4</th>\n",
       "      <td>111</td>\n",
       "      <td>2</td>\n",
       "      <td>Montaña</td>\n",
       "      <td>Gastronomia</td>\n",
       "    </tr>\n",
       "    <tr>\n",
       "      <th>5</th>\n",
       "      <td>112</td>\n",
       "      <td>3</td>\n",
       "      <td>Playa</td>\n",
       "      <td>Cultura</td>\n",
       "    </tr>\n",
       "    <tr>\n",
       "      <th>6</th>\n",
       "      <td>113</td>\n",
       "      <td>14</td>\n",
       "      <td>Playa</td>\n",
       "      <td>Gastronomia</td>\n",
       "    </tr>\n",
       "    <tr>\n",
       "      <th>7</th>\n",
       "      <td>114</td>\n",
       "      <td>10</td>\n",
       "      <td>Playa</td>\n",
       "      <td>Familiar</td>\n",
       "    </tr>\n",
       "    <tr>\n",
       "      <th>8</th>\n",
       "      <td>115</td>\n",
       "      <td>14</td>\n",
       "      <td>Montaña</td>\n",
       "      <td>Ocio Nocturno</td>\n",
       "    </tr>\n",
       "    <tr>\n",
       "      <th>9</th>\n",
       "      <td>116</td>\n",
       "      <td>13</td>\n",
       "      <td>Campo</td>\n",
       "      <td>Familiar</td>\n",
       "    </tr>\n",
       "    <tr>\n",
       "      <th>10</th>\n",
       "      <td>117</td>\n",
       "      <td>12</td>\n",
       "      <td>Campo</td>\n",
       "      <td>Ocio Nocturno</td>\n",
       "    </tr>\n",
       "    <tr>\n",
       "      <th>11</th>\n",
       "      <td>118</td>\n",
       "      <td>14</td>\n",
       "      <td>Campo</td>\n",
       "      <td>Ocio Nocturno</td>\n",
       "    </tr>\n",
       "    <tr>\n",
       "      <th>12</th>\n",
       "      <td>119</td>\n",
       "      <td>13</td>\n",
       "      <td>Ciudad</td>\n",
       "      <td>Gastronomia</td>\n",
       "    </tr>\n",
       "    <tr>\n",
       "      <th>13</th>\n",
       "      <td>120</td>\n",
       "      <td>15</td>\n",
       "      <td>Ciudad</td>\n",
       "      <td>Familiar</td>\n",
       "    </tr>\n",
       "    <tr>\n",
       "      <th>14</th>\n",
       "      <td>121</td>\n",
       "      <td>15</td>\n",
       "      <td>Ciudad</td>\n",
       "      <td>Familiar</td>\n",
       "    </tr>\n",
       "    <tr>\n",
       "      <th>15</th>\n",
       "      <td>122</td>\n",
       "      <td>16</td>\n",
       "      <td>Playa</td>\n",
       "      <td>Familiar</td>\n",
       "    </tr>\n",
       "    <tr>\n",
       "      <th>16</th>\n",
       "      <td>123</td>\n",
       "      <td>2</td>\n",
       "      <td>Ciudad</td>\n",
       "      <td>Gastronomia</td>\n",
       "    </tr>\n",
       "    <tr>\n",
       "      <th>17</th>\n",
       "      <td>124</td>\n",
       "      <td>2</td>\n",
       "      <td>Montaña</td>\n",
       "      <td>Gastronomia</td>\n",
       "    </tr>\n",
       "    <tr>\n",
       "      <th>18</th>\n",
       "      <td>125</td>\n",
       "      <td>5</td>\n",
       "      <td>Campo</td>\n",
       "      <td>Ocio Nocturno</td>\n",
       "    </tr>\n",
       "    <tr>\n",
       "      <th>19</th>\n",
       "      <td>126</td>\n",
       "      <td>4</td>\n",
       "      <td>Montaña</td>\n",
       "      <td>Gastronomia</td>\n",
       "    </tr>\n",
       "    <tr>\n",
       "      <th>20</th>\n",
       "      <td>127</td>\n",
       "      <td>18</td>\n",
       "      <td>Campo</td>\n",
       "      <td>Gastronomia</td>\n",
       "    </tr>\n",
       "    <tr>\n",
       "      <th>21</th>\n",
       "      <td>128</td>\n",
       "      <td>15</td>\n",
       "      <td>Ciudad</td>\n",
       "      <td>Cultura</td>\n",
       "    </tr>\n",
       "    <tr>\n",
       "      <th>22</th>\n",
       "      <td>129</td>\n",
       "      <td>5</td>\n",
       "      <td>Montaña</td>\n",
       "      <td>Cultura</td>\n",
       "    </tr>\n",
       "    <tr>\n",
       "      <th>23</th>\n",
       "      <td>130</td>\n",
       "      <td>2</td>\n",
       "      <td>Playa</td>\n",
       "      <td>Familiar</td>\n",
       "    </tr>\n",
       "    <tr>\n",
       "      <th>24</th>\n",
       "      <td>131</td>\n",
       "      <td>8</td>\n",
       "      <td>Playa</td>\n",
       "      <td>Cultura</td>\n",
       "    </tr>\n",
       "    <tr>\n",
       "      <th>25</th>\n",
       "      <td>132</td>\n",
       "      <td>3</td>\n",
       "      <td>Playa</td>\n",
       "      <td>Familiar</td>\n",
       "    </tr>\n",
       "    <tr>\n",
       "      <th>26</th>\n",
       "      <td>133</td>\n",
       "      <td>5</td>\n",
       "      <td>Playa</td>\n",
       "      <td>Familiar</td>\n",
       "    </tr>\n",
       "    <tr>\n",
       "      <th>27</th>\n",
       "      <td>134</td>\n",
       "      <td>2</td>\n",
       "      <td>Playa</td>\n",
       "      <td>Cultura</td>\n",
       "    </tr>\n",
       "    <tr>\n",
       "      <th>28</th>\n",
       "      <td>135</td>\n",
       "      <td>2</td>\n",
       "      <td>Playa</td>\n",
       "      <td>Cultura</td>\n",
       "    </tr>\n",
       "    <tr>\n",
       "      <th>29</th>\n",
       "      <td>136</td>\n",
       "      <td>8</td>\n",
       "      <td>Campo</td>\n",
       "      <td>Gastronomia</td>\n",
       "    </tr>\n",
       "    <tr>\n",
       "      <th>30</th>\n",
       "      <td>137</td>\n",
       "      <td>2</td>\n",
       "      <td>Montaña</td>\n",
       "      <td>Cultura</td>\n",
       "    </tr>\n",
       "    <tr>\n",
       "      <th>31</th>\n",
       "      <td>138</td>\n",
       "      <td>1</td>\n",
       "      <td>Montaña</td>\n",
       "      <td>Gastronomia</td>\n",
       "    </tr>\n",
       "    <tr>\n",
       "      <th>32</th>\n",
       "      <td>139</td>\n",
       "      <td>12</td>\n",
       "      <td>Montaña</td>\n",
       "      <td>Gastronomia</td>\n",
       "    </tr>\n",
       "    <tr>\n",
       "      <th>33</th>\n",
       "      <td>140</td>\n",
       "      <td>17</td>\n",
       "      <td>Ciudad</td>\n",
       "      <td>Ocio Nocturno</td>\n",
       "    </tr>\n",
       "    <tr>\n",
       "      <th>34</th>\n",
       "      <td>141</td>\n",
       "      <td>50</td>\n",
       "      <td>Ciudad</td>\n",
       "      <td>Cultura</td>\n",
       "    </tr>\n",
       "    <tr>\n",
       "      <th>35</th>\n",
       "      <td>142</td>\n",
       "      <td>3</td>\n",
       "      <td>Ciudad</td>\n",
       "      <td>Familiar</td>\n",
       "    </tr>\n",
       "    <tr>\n",
       "      <th>36</th>\n",
       "      <td>143</td>\n",
       "      <td>7</td>\n",
       "      <td>Playa</td>\n",
       "      <td>Cultura</td>\n",
       "    </tr>\n",
       "    <tr>\n",
       "      <th>37</th>\n",
       "      <td>144</td>\n",
       "      <td>41</td>\n",
       "      <td>Montaña</td>\n",
       "      <td>Familiar</td>\n",
       "    </tr>\n",
       "    <tr>\n",
       "      <th>38</th>\n",
       "      <td>145</td>\n",
       "      <td>44</td>\n",
       "      <td>Playa</td>\n",
       "      <td>Gastronomia</td>\n",
       "    </tr>\n",
       "    <tr>\n",
       "      <th>39</th>\n",
       "      <td>146</td>\n",
       "      <td>50</td>\n",
       "      <td>Campo</td>\n",
       "      <td>Ocio Nocturno</td>\n",
       "    </tr>\n",
       "    <tr>\n",
       "      <th>40</th>\n",
       "      <td>147</td>\n",
       "      <td>5</td>\n",
       "      <td>Ciudad</td>\n",
       "      <td>Familiar</td>\n",
       "    </tr>\n",
       "    <tr>\n",
       "      <th>41</th>\n",
       "      <td>148</td>\n",
       "      <td>16</td>\n",
       "      <td>Ciudad</td>\n",
       "      <td>Cultura</td>\n",
       "    </tr>\n",
       "    <tr>\n",
       "      <th>42</th>\n",
       "      <td>149</td>\n",
       "      <td>4</td>\n",
       "      <td>Montaña</td>\n",
       "      <td>Ocio Nocturno</td>\n",
       "    </tr>\n",
       "    <tr>\n",
       "      <th>43</th>\n",
       "      <td>150</td>\n",
       "      <td>49</td>\n",
       "      <td>Ciudad</td>\n",
       "      <td>Gastronomia</td>\n",
       "    </tr>\n",
       "    <tr>\n",
       "      <th>44</th>\n",
       "      <td>151</td>\n",
       "      <td>11</td>\n",
       "      <td>Playa</td>\n",
       "      <td>Familiar</td>\n",
       "    </tr>\n",
       "    <tr>\n",
       "      <th>45</th>\n",
       "      <td>152</td>\n",
       "      <td>47</td>\n",
       "      <td>Playa</td>\n",
       "      <td>Cultura</td>\n",
       "    </tr>\n",
       "    <tr>\n",
       "      <th>46</th>\n",
       "      <td>153</td>\n",
       "      <td>14</td>\n",
       "      <td>Montaña</td>\n",
       "      <td>Cultura</td>\n",
       "    </tr>\n",
       "    <tr>\n",
       "      <th>47</th>\n",
       "      <td>154</td>\n",
       "      <td>46</td>\n",
       "      <td>Campo</td>\n",
       "      <td>Gastronomia</td>\n",
       "    </tr>\n",
       "    <tr>\n",
       "      <th>48</th>\n",
       "      <td>155</td>\n",
       "      <td>40</td>\n",
       "      <td>Playa</td>\n",
       "      <td>Ocio Nocturno</td>\n",
       "    </tr>\n",
       "    <tr>\n",
       "      <th>49</th>\n",
       "      <td>156</td>\n",
       "      <td>9</td>\n",
       "      <td>Montaña</td>\n",
       "      <td>Gastronomia</td>\n",
       "    </tr>\n",
       "    <tr>\n",
       "      <th>50</th>\n",
       "      <td>157</td>\n",
       "      <td>6</td>\n",
       "      <td>Campo</td>\n",
       "      <td>Cultura</td>\n",
       "    </tr>\n",
       "    <tr>\n",
       "      <th>51</th>\n",
       "      <td>158</td>\n",
       "      <td>13</td>\n",
       "      <td>Ciudad</td>\n",
       "      <td>Cultura</td>\n",
       "    </tr>\n",
       "    <tr>\n",
       "      <th>52</th>\n",
       "      <td>159</td>\n",
       "      <td>43</td>\n",
       "      <td>Ciudad</td>\n",
       "      <td>Cultura</td>\n",
       "    </tr>\n",
       "    <tr>\n",
       "      <th>53</th>\n",
       "      <td>160</td>\n",
       "      <td>7</td>\n",
       "      <td>Ciudad</td>\n",
       "      <td>Cultura</td>\n",
       "    </tr>\n",
       "    <tr>\n",
       "      <th>54</th>\n",
       "      <td>161</td>\n",
       "      <td>10</td>\n",
       "      <td>Ciudad</td>\n",
       "      <td>Cultura</td>\n",
       "    </tr>\n",
       "  </tbody>\n",
       "</table>\n",
       "</div>"
      ],
      "text/plain": [
       "    ID_INDEX PROVINCIAS  ENTORNO    ACTIVIDADES\n",
       "0        107          3    Playa    Gastronomía\n",
       "1        108         16   Ciudad        Cultura\n",
       "2        109         18   Ciudad  Ocio Nocturno\n",
       "3        110         15    Playa       Familiar\n",
       "4        111          2  Montaña    Gastronomia\n",
       "5        112          3    Playa        Cultura\n",
       "6        113         14    Playa    Gastronomia\n",
       "7        114         10    Playa       Familiar\n",
       "8        115         14  Montaña  Ocio Nocturno\n",
       "9        116         13    Campo       Familiar\n",
       "10       117         12    Campo  Ocio Nocturno\n",
       "11       118         14    Campo  Ocio Nocturno\n",
       "12       119         13   Ciudad    Gastronomia\n",
       "13       120         15   Ciudad       Familiar\n",
       "14       121         15   Ciudad       Familiar\n",
       "15       122         16    Playa       Familiar\n",
       "16       123          2   Ciudad    Gastronomia\n",
       "17       124          2  Montaña    Gastronomia\n",
       "18       125          5    Campo  Ocio Nocturno\n",
       "19       126          4  Montaña    Gastronomia\n",
       "20       127         18    Campo    Gastronomia\n",
       "21       128         15   Ciudad        Cultura\n",
       "22       129          5  Montaña        Cultura\n",
       "23       130          2    Playa       Familiar\n",
       "24       131          8    Playa        Cultura\n",
       "25       132          3    Playa       Familiar\n",
       "26       133          5    Playa       Familiar\n",
       "27       134          2    Playa        Cultura\n",
       "28       135          2    Playa        Cultura\n",
       "29       136          8    Campo    Gastronomia\n",
       "30       137          2  Montaña        Cultura\n",
       "31       138          1  Montaña    Gastronomia\n",
       "32       139         12  Montaña    Gastronomia\n",
       "33       140         17   Ciudad  Ocio Nocturno\n",
       "34       141         50   Ciudad        Cultura\n",
       "35       142          3   Ciudad       Familiar\n",
       "36       143          7    Playa        Cultura\n",
       "37       144         41  Montaña       Familiar\n",
       "38       145         44    Playa    Gastronomia\n",
       "39       146         50    Campo  Ocio Nocturno\n",
       "40       147          5   Ciudad       Familiar\n",
       "41       148         16   Ciudad        Cultura\n",
       "42       149          4  Montaña  Ocio Nocturno\n",
       "43       150         49   Ciudad    Gastronomia\n",
       "44       151         11    Playa       Familiar\n",
       "45       152         47    Playa        Cultura\n",
       "46       153         14  Montaña        Cultura\n",
       "47       154         46    Campo    Gastronomia\n",
       "48       155         40    Playa  Ocio Nocturno\n",
       "49       156          9  Montaña    Gastronomia\n",
       "50       157          6    Campo        Cultura\n",
       "51       158         13   Ciudad        Cultura\n",
       "52       159         43   Ciudad        Cultura\n",
       "53       160          7   Ciudad        Cultura\n",
       "54       161         10   Ciudad        Cultura"
      ]
     },
     "execution_count": 8,
     "metadata": {},
     "output_type": "execute_result"
    }
   ],
   "source": [
    "df_input = pd.DataFrame(ls_input, columns=('ID_INDEX','PROVINCIAS','ENTORNO', 'ACTIVIDADES'))\n",
    "df_input"
   ]
  },
  {
   "cell_type": "code",
   "execution_count": 9,
   "metadata": {},
   "outputs": [],
   "source": [
    "import seaborn as sns\n",
    "import matplotlib.pyplot as plt"
   ]
  },
  {
   "cell_type": "code",
   "execution_count": 10,
   "metadata": {},
   "outputs": [
    {
     "data": {
      "text/plain": [
       "Cultura          18\n",
       "Gastronomia      14\n",
       "Familiar         13\n",
       "Ocio Nocturno     9\n",
       "Gastronomía       1\n",
       "Name: ACTIVIDADES, dtype: int64"
      ]
     },
     "execution_count": 10,
     "metadata": {},
     "output_type": "execute_result"
    }
   ],
   "source": [
    "contador_actividades=df_input[\"ACTIVIDADES\"].value_counts()\n",
    "contador_actividades"
   ]
  },
  {
   "cell_type": "code",
   "execution_count": 11,
   "metadata": {},
   "outputs": [
    {
     "data": {
      "text/plain": [
       "<AxesSubplot:title={'center':'Total de visitas por actividad'}>"
      ]
     },
     "execution_count": 11,
     "metadata": {},
     "output_type": "execute_result"
    },
    {
     "data": {
      "image/png": "[encoded data removed]",
      "text/plain": [
       "<Figure size 640x480 with 1 Axes>"
      ]
     },
     "metadata": {},
     "output_type": "display_data"
    }
   ],
   "source": [
    "contador_actividades.plot(kind='barh',title=\"Total de visitas por actividad\")"
   ]
  },
  {
   "cell_type": "code",
   "execution_count": 132,
   "metadata": {},
   "outputs": [
    {
     "data": {
      "application/vnd.plotly.v1+json": {
       "config": {
        "plotlyServerURL": "https://plot.ly"
       },
       "data": [
        {
         "alignmentgroup": "True",
         "hovertemplate": "color=Gastronomía<br>x=%{x}<br>y=%{y}<br>text=%{text}<extra></extra>",
         "legendgroup": "Gastronomía",
         "marker": {
          "color": "#636efa",
          "opacity": 0.9,
          "pattern": {
           "shape": ""
          }
         },
         "name": "Gastronomía",
         "offsetgroup": "Gastronomía",
         "orientation": "h",
         "showlegend": true,
         "text": [
          32.72727272727273
         ],
         "textposition": "outside",
         "texttemplate": "%{text:0.2f}%",
         "type": "bar",
         "x": [
          18
         ],
         "xaxis": "x",
         "y": [
          "Gastronomía"
         ],
         "yaxis": "y"
        },
        {
         "alignmentgroup": "True",
         "hovertemplate": "color=Cultura<br>x=%{x}<br>y=%{y}<br>text=%{text}<extra></extra>",
         "legendgroup": "Cultura",
         "marker": {
          "color": "#EF553B",
          "opacity": 0.9,
          "pattern": {
           "shape": ""
          }
         },
         "name": "Cultura",
         "offsetgroup": "Cultura",
         "orientation": "h",
         "showlegend": true,
         "text": [
          25.454545454545453
         ],
         "textposition": "outside",
         "texttemplate": "%{text:0.2f}%",
         "type": "bar",
         "x": [
          14
         ],
         "xaxis": "x",
         "y": [
          "Cultura"
         ],
         "yaxis": "y"
        },
        {
         "alignmentgroup": "True",
         "hovertemplate": "color=Ocio Nocturno<br>x=%{x}<br>y=%{y}<br>text=%{text}<extra></extra>",
         "legendgroup": "Ocio Nocturno",
         "marker": {
          "color": "#00cc96",
          "opacity": 0.9,
          "pattern": {
           "shape": ""
          }
         },
         "name": "Ocio Nocturno",
         "offsetgroup": "Ocio Nocturno",
         "orientation": "h",
         "showlegend": true,
         "text": [
          23.636363636363637
         ],
         "textposition": "outside",
         "texttemplate": "%{text:0.2f}%",
         "type": "bar",
         "x": [
          13
         ],
         "xaxis": "x",
         "y": [
          "Ocio Nocturno"
         ],
         "yaxis": "y"
        },
        {
         "alignmentgroup": "True",
         "hovertemplate": "color=Familiar<br>x=%{x}<br>y=%{y}<br>text=%{text}<extra></extra>",
         "legendgroup": "Familiar",
         "marker": {
          "color": "#ab63fa",
          "opacity": 0.9,
          "pattern": {
           "shape": ""
          }
         },
         "name": "Familiar",
         "offsetgroup": "Familiar",
         "orientation": "h",
         "showlegend": true,
         "text": [
          16.363636363636363
         ],
         "textposition": "outside",
         "texttemplate": "%{text:0.2f}%",
         "type": "bar",
         "x": [
          9
         ],
         "xaxis": "x",
         "y": [
          "Familiar"
         ],
         "yaxis": "y"
        },
        {
         "alignmentgroup": "True",
         "hovertemplate": "color=Gastronomia<br>x=%{x}<br>y=%{y}<br>text=%{text}<extra></extra>",
         "legendgroup": "Gastronomia",
         "marker": {
          "color": "#FFA15A",
          "opacity": 0.9,
          "pattern": {
           "shape": ""
          }
         },
         "name": "Gastronomia",
         "offsetgroup": "Gastronomia",
         "orientation": "h",
         "showlegend": true,
         "text": [
          1.8181818181818181
         ],
         "textposition": "outside",
         "texttemplate": "%{text:0.2f}%",
         "type": "bar",
         "x": [
          1
         ],
         "xaxis": "x",
         "y": [
          "Gastronomia"
         ],
         "yaxis": "y"
        }
       ],
       "layout": {
        "barmode": "overlay",
        "font": {
         "color": "black",
         "size": 12
        },
        "height": 800,
        "legend": {
         "title": {
          "text": "LEYENDA"
         },
         "tracegroupgap": 0
        },
        "template": {
         "data": {
          "bar": [
           {
            "error_x": {
             "color": "#2a3f5f"
            },
            "error_y": {
             "color": "#2a3f5f"
            },
            "marker": {
             "line": {
              "color": "#E5ECF6",
              "width": 0.5
             },
             "pattern": {
              "fillmode": "overlay",
              "size": 10,
              "solidity": 0.2
             }
            },
            "type": "bar"
           }
          ],
          "barpolar": [
           {
            "marker": {
             "line": {
              "color": "#E5ECF6",
              "width": 0.5
             },
             "pattern": {
              "fillmode": "overlay",
              "size": 10,
              "solidity": 0.2
             }
            },
            "type": "barpolar"
           }
          ],
          "carpet": [
           {
            "aaxis": {
             "endlinecolor": "#2a3f5f",
             "gridcolor": "white",
             "linecolor": "white",
             "minorgridcolor": "white",
             "startlinecolor": "#2a3f5f"
            },
            "baxis": {
             "endlinecolor": "#2a3f5f",
             "gridcolor": "white",
             "linecolor": "white",
             "minorgridcolor": "white",
             "startlinecolor": "#2a3f5f"
            },
            "type": "carpet"
           }
          ],
          "choropleth": [
           {
            "colorbar": {
             "outlinewidth": 0,
             "ticks": ""
            },
            "type": "choropleth"
           }
          ],
          "contour": [
           {
            "colorbar": {
             "outlinewidth": 0,
             "ticks": ""
            },
            "colorscale": [
             [
              0,
              "#0d0887"
             ],
             [
              0.1111111111111111,
              "#46039f"
             ],
             [
              0.2222222222222222,
              "#7201a8"
             ],
             [
              0.3333333333333333,
              "#9c179e"
             ],
             [
              0.4444444444444444,
              "#bd3786"
             ],
             [
              0.5555555555555556,
              "#d8576b"
             ],
             [
              0.6666666666666666,
              "#ed7953"
             ],
             [
              0.7777777777777778,
              "#fb9f3a"
             ],
             [
              0.8888888888888888,
              "#fdca26"
             ],
             [
              1,
              "#f0f921"
             ]
            ],
            "type": "contour"
           }
          ],
          "contourcarpet": [
           {
            "colorbar": {
             "outlinewidth": 0,
             "ticks": ""
            },
            "type": "contourcarpet"
           }
          ],
          "heatmap": [
           {
            "colorbar": {
             "outlinewidth": 0,
             "ticks": ""
            },
            "colorscale": [
             [
              0,
              "#0d0887"
             ],
             [
              0.1111111111111111,
              "#46039f"
             ],
             [
              0.2222222222222222,
              "#7201a8"
             ],
             [
              0.3333333333333333,
              "#9c179e"
             ],
             [
              0.4444444444444444,
              "#bd3786"
             ],
             [
              0.5555555555555556,
              "#d8576b"
             ],
             [
              0.6666666666666666,
              "#ed7953"
             ],
             [
              0.7777777777777778,
              "#fb9f3a"
             ],
             [
              0.8888888888888888,
              "#fdca26"
             ],
             [
              1,
              "#f0f921"
             ]
            ],
            "type": "heatmap"
           }
          ],
          "heatmapgl": [
           {
            "colorbar": {
             "outlinewidth": 0,
             "ticks": ""
            },
            "colorscale": [
             [
              0,
              "#0d0887"
             ],
             [
              0.1111111111111111,
              "#46039f"
             ],
             [
              0.2222222222222222,
              "#7201a8"
             ],
             [
              0.3333333333333333,
              "#9c179e"
             ],
             [
              0.4444444444444444,
              "#bd3786"
             ],
             [
              0.5555555555555556,
              "#d8576b"
             ],
             [
              0.6666666666666666,
              "#ed7953"
             ],
             [
              0.7777777777777778,
              "#fb9f3a"
             ],
             [
              0.8888888888888888,
              "#fdca26"
             ],
             [
              1,
              "#f0f921"
             ]
            ],
            "type": "heatmapgl"
           }
          ],
          "histogram": [
           {
            "marker": {
             "pattern": {
              "fillmode": "overlay",
              "size": 10,
              "solidity": 0.2
             }
            },
            "type": "histogram"
           }
          ],
          "histogram2d": [
           {
            "colorbar": {
             "outlinewidth": 0,
             "ticks": ""
            },
            "colorscale": [
             [
              0,
              "#0d0887"
             ],
             [
              0.1111111111111111,
              "#46039f"
             ],
             [
              0.2222222222222222,
              "#7201a8"
             ],
             [
              0.3333333333333333,
              "#9c179e"
             ],
             [
              0.4444444444444444,
              "#bd3786"
             ],
             [
              0.5555555555555556,
              "#d8576b"
             ],
             [
              0.6666666666666666,
              "#ed7953"
             ],
             [
              0.7777777777777778,
              "#fb9f3a"
             ],
             [
              0.8888888888888888,
              "#fdca26"
             ],
             [
              1,
              "#f0f921"
             ]
            ],
            "type": "histogram2d"
           }
          ],
          "histogram2dcontour": [
           {
            "colorbar": {
             "outlinewidth": 0,
             "ticks": ""
            },
            "colorscale": [
             [
              0,
              "#0d0887"
             ],
             [
              0.1111111111111111,
              "#46039f"
             ],
             [
              0.2222222222222222,
              "#7201a8"
             ],
             [
              0.3333333333333333,
              "#9c179e"
             ],
             [
              0.4444444444444444,
              "#bd3786"
             ],
             [
              0.5555555555555556,
              "#d8576b"
             ],
             [
              0.6666666666666666,
              "#ed7953"
             ],
             [
              0.7777777777777778,
              "#fb9f3a"
             ],
             [
              0.8888888888888888,
              "#fdca26"
             ],
             [
              1,
              "#f0f921"
             ]
            ],
            "type": "histogram2dcontour"
           }
          ],
          "mesh3d": [
           {
            "colorbar": {
             "outlinewidth": 0,
             "ticks": ""
            },
            "type": "mesh3d"
           }
          ],
          "parcoords": [
           {
            "line": {
             "colorbar": {
              "outlinewidth": 0,
              "ticks": ""
             }
            },
            "type": "parcoords"
           }
          ],
          "pie": [
           {
            "automargin": true,
            "type": "pie"
           }
          ],
          "scatter": [
           {
            "fillpattern": {
             "fillmode": "overlay",
             "size": 10,
             "solidity": 0.2
            },
            "type": "scatter"
           }
          ],
          "scatter3d": [
           {
            "line": {
             "colorbar": {
              "outlinewidth": 0,
              "ticks": ""
             }
            },
            "marker": {
             "colorbar": {
              "outlinewidth": 0,
              "ticks": ""
             }
            },
            "type": "scatter3d"
           }
          ],
          "scattercarpet": [
           {
            "marker": {
             "colorbar": {
              "outlinewidth": 0,
              "ticks": ""
             }
            },
            "type": "scattercarpet"
           }
          ],
          "scattergeo": [
           {
            "marker": {
             "colorbar": {
              "outlinewidth": 0,
              "ticks": ""
             }
            },
            "type": "scattergeo"
           }
          ],
          "scattergl": [
           {
            "marker": {
             "colorbar": {
              "outlinewidth": 0,
              "ticks": ""
             }
            },
            "type": "scattergl"
           }
          ],
          "scattermapbox": [
           {
            "marker": {
             "colorbar": {
              "outlinewidth": 0,
              "ticks": ""
             }
            },
            "type": "scattermapbox"
           }
          ],
          "scatterpolar": [
           {
            "marker": {
             "colorbar": {
              "outlinewidth": 0,
              "ticks": ""
             }
            },
            "type": "scatterpolar"
           }
          ],
          "scatterpolargl": [
           {
            "marker": {
             "colorbar": {
              "outlinewidth": 0,
              "ticks": ""
             }
            },
            "type": "scatterpolargl"
           }
          ],
          "scatterternary": [
           {
            "marker": {
             "colorbar": {
              "outlinewidth": 0,
              "ticks": ""
             }
            },
            "type": "scatterternary"
           }
          ],
          "surface": [
           {
            "colorbar": {
             "outlinewidth": 0,
             "ticks": ""
            },
            "colorscale": [
             [
              0,
              "#0d0887"
             ],
             [
              0.1111111111111111,
              "#46039f"
             ],
             [
              0.2222222222222222,
              "#7201a8"
             ],
             [
              0.3333333333333333,
              "#9c179e"
             ],
             [
              0.4444444444444444,
              "#bd3786"
             ],
             [
              0.5555555555555556,
              "#d8576b"
             ],
             [
              0.6666666666666666,
              "#ed7953"
             ],
             [
              0.7777777777777778,
              "#fb9f3a"
             ],
             [
              0.8888888888888888,
              "#fdca26"
             ],
             [
              1,
              "#f0f921"
             ]
            ],
            "type": "surface"
           }
          ],
          "table": [
           {
            "cells": {
             "fill": {
              "color": "#EBF0F8"
             },
             "line": {
              "color": "white"
             }
            },
            "header": {
             "fill": {
              "color": "#C8D4E3"
             },
             "line": {
              "color": "white"
             }
            },
            "type": "table"
           }
          ]
         },
         "layout": {
          "annotationdefaults": {
           "arrowcolor": "#2a3f5f",
           "arrowhead": 0,
           "arrowwidth": 1
          },
          "autotypenumbers": "strict",
          "coloraxis": {
           "colorbar": {
            "outlinewidth": 0,
            "ticks": ""
           }
          },
          "colorscale": {
           "diverging": [
            [
             0,
             "#8e0152"
            ],
            [
             0.1,
             "#c51b7d"
            ],
            [
             0.2,
             "#de77ae"
            ],
            [
             0.3,
             "#f1b6da"
            ],
            [
             0.4,
             "#fde0ef"
            ],
            [
             0.5,
             "#f7f7f7"
            ],
            [
             0.6,
             "#e6f5d0"
            ],
            [
             0.7,
             "#b8e186"
            ],
            [
             0.8,
             "#7fbc41"
            ],
            [
             0.9,
             "#4d9221"
            ],
            [
             1,
             "#276419"
            ]
           ],
           "sequential": [
            [
             0,
             "#0d0887"
            ],
            [
             0.1111111111111111,
             "#46039f"
            ],
            [
             0.2222222222222222,
             "#7201a8"
            ],
            [
             0.3333333333333333,
             "#9c179e"
            ],
            [
             0.4444444444444444,
             "#bd3786"
            ],
            [
             0.5555555555555556,
             "#d8576b"
            ],
            [
             0.6666666666666666,
             "#ed7953"
            ],
            [
             0.7777777777777778,
             "#fb9f3a"
            ],
            [
             0.8888888888888888,
             "#fdca26"
            ],
            [
             1,
             "#f0f921"
            ]
           ],
           "sequentialminus": [
            [
             0,
             "#0d0887"
            ],
            [
             0.1111111111111111,
             "#46039f"
            ],
            [
             0.2222222222222222,
             "#7201a8"
            ],
            [
             0.3333333333333333,
             "#9c179e"
            ],
            [
             0.4444444444444444,
             "#bd3786"
            ],
            [
             0.5555555555555556,
             "#d8576b"
            ],
            [
             0.6666666666666666,
             "#ed7953"
            ],
            [
             0.7777777777777778,
             "#fb9f3a"
            ],
            [
             0.8888888888888888,
             "#fdca26"
            ],
            [
             1,
             "#f0f921"
            ]
           ]
          },
          "colorway": [
           "#636efa",
           "#EF553B",
           "#00cc96",
           "#ab63fa",
           "#FFA15A",
           "#19d3f3",
           "#FF6692",
           "#B6E880",
           "#FF97FF",
           "#FECB52"
          ],
          "font": {
           "color": "#2a3f5f"
          },
          "geo": {
           "bgcolor": "white",
           "lakecolor": "white",
           "landcolor": "#E5ECF6",
           "showlakes": true,
           "showland": true,
           "subunitcolor": "white"
          },
          "hoverlabel": {
           "align": "left"
          },
          "hovermode": "closest",
          "mapbox": {
           "style": "light"
          },
          "paper_bgcolor": "white",
          "plot_bgcolor": "#E5ECF6",
          "polar": {
           "angularaxis": {
            "gridcolor": "white",
            "linecolor": "white",
            "ticks": ""
           },
           "bgcolor": "#E5ECF6",
           "radialaxis": {
            "gridcolor": "white",
            "linecolor": "white",
            "ticks": ""
           }
          },
          "scene": {
           "xaxis": {
            "backgroundcolor": "#E5ECF6",
            "gridcolor": "white",
            "gridwidth": 2,
            "linecolor": "white",
            "showbackground": true,
            "ticks": "",
            "zerolinecolor": "white"
           },
           "yaxis": {
            "backgroundcolor": "#E5ECF6",
            "gridcolor": "white",
            "gridwidth": 2,
            "linecolor": "white",
            "showbackground": true,
            "ticks": "",
            "zerolinecolor": "white"
           },
           "zaxis": {
            "backgroundcolor": "#E5ECF6",
            "gridcolor": "white",
            "gridwidth": 2,
            "linecolor": "white",
            "showbackground": true,
            "ticks": "",
            "zerolinecolor": "white"
           }
          },
          "shapedefaults": {
           "line": {
            "color": "#2a3f5f"
           }
          },
          "ternary": {
           "aaxis": {
            "gridcolor": "white",
            "linecolor": "white",
            "ticks": ""
           },
           "baxis": {
            "gridcolor": "white",
            "linecolor": "white",
            "ticks": ""
           },
           "bgcolor": "#E5ECF6",
           "caxis": {
            "gridcolor": "white",
            "linecolor": "white",
            "ticks": ""
           }
          },
          "title": {
           "x": 0.05
          },
          "xaxis": {
           "automargin": true,
           "gridcolor": "white",
           "linecolor": "white",
           "ticks": "",
           "title": {
            "standoff": 15
           },
           "zerolinecolor": "white",
           "zerolinewidth": 2
          },
          "yaxis": {
           "automargin": true,
           "gridcolor": "white",
           "linecolor": "white",
           "ticks": "",
           "title": {
            "standoff": 15
           },
           "zerolinecolor": "white",
           "zerolinewidth": 2
          }
         }
        },
        "title": {
         "font": {
          "color": "black",
          "size": 25
         },
         "text": "TOTAL DE VISITAS POR ACTIVIDAD",
         "x": 0.5,
         "xanchor": "auto"
        },
        "uniformtext": {
         "minsize": 10,
         "mode": "hide"
        },
        "width": 1200,
        "xaxis": {
         "anchor": "y",
         "domain": [
          0,
          1
         ],
         "title": {
          "text": "PORCENTAJE VISITAS"
         }
        },
        "yaxis": {
         "anchor": "x",
         "domain": [
          0,
          1
         ],
         "title": {
          "text": "ACTIVIDADES"
         }
        }
       }
      }
     },
     "metadata": {},
     "output_type": "display_data"
    }
   ],
   "source": [
    "import plotly.express as px\n",
    "\n",
    "colores2=df_input['ACTIVIDADES'].unique()\n",
    "contador_actividades=df_input[\"ACTIVIDADES\"].value_counts()\n",
    "total2=contador_actividades.sum()\n",
    "porcentaje2=(contador_actividades/total2)*100\n",
    "\n",
    "fig = px.bar(df_input, y=df_input['ACTIVIDADES'].unique(), x=df_input['ACTIVIDADES'].value_counts(), text=porcentaje2,title=\"TOTAL DE VISITAS POR ACTIVIDAD\", color=colores2, barmode=\"overlay\", opacity=.90)\n",
    "fig.update_traces(texttemplate='%{text:0.2f}%', textposition='outside')\n",
    "fig.update_layout(uniformtext_minsize=10, uniformtext_mode='hide')\n",
    "fig.update_layout(barmode='overlay',width=1200, height=800,title_font_size=25, title_font_color='black', title_xanchor='auto')\n",
    "fig.update_layout(title_x=0.5, font_color='black')\n",
    "fig.update_layout(font_color='black')\n",
    "fig.update_layout(font_size=12)\n",
    "fig.update_layout(xaxis_title=\"PORCENTAJE VISITAS\", yaxis_title=\"ACTIVIDADES\", legend_title=\"LEYENDA\")\n",
    "fig.show()"
   ]
  },
  {
   "cell_type": "code",
   "execution_count": null,
   "metadata": {},
   "outputs": [],
   "source": [
    "colores=df_input['ENTORNO'].unique()\n",
    "colores"
   ]
  },
  {
   "cell_type": "code",
   "execution_count": null,
   "metadata": {},
   "outputs": [],
   "source": [
    "contador_entorno=df_input[\"ENTORNO\"].value_counts()\n",
    "total=contador_entorno.sum()\n",
    "porcentaje=(contador_entorno/total)*100"
   ]
  },
  {
   "cell_type": "code",
   "execution_count": 129,
   "metadata": {},
   "outputs": [
    {
     "data": {
      "application/vnd.plotly.v1+json": {
       "config": {
        "plotlyServerURL": "https://plot.ly"
       },
       "data": [
        {
         "alignmentgroup": "True",
         "hovertemplate": "color=Playa<br>x=%{x}<br>y=%{y}<br>text=%{text}<extra></extra>",
         "legendgroup": "Playa",
         "marker": {
          "color": "#636efa",
          "opacity": 0.9,
          "pattern": {
           "shape": ""
          }
         },
         "name": "Playa",
         "offsetgroup": "Playa",
         "orientation": "h",
         "showlegend": true,
         "text": [
          30.909090909090907
         ],
         "textposition": "outside",
         "texttemplate": "%{text:0.2f}%",
         "type": "bar",
         "x": [
          17
         ],
         "xaxis": "x",
         "y": [
          "Playa"
         ],
         "yaxis": "y"
        },
        {
         "alignmentgroup": "True",
         "hovertemplate": "color=Ciudad<br>x=%{x}<br>y=%{y}<br>text=%{text}<extra></extra>",
         "legendgroup": "Ciudad",
         "marker": {
          "color": "#EF553B",
          "opacity": 0.9,
          "pattern": {
           "shape": ""
          }
         },
         "name": "Ciudad",
         "offsetgroup": "Ciudad",
         "orientation": "h",
         "showlegend": true,
         "text": [
          30.909090909090907
         ],
         "textposition": "outside",
         "texttemplate": "%{text:0.2f}%",
         "type": "bar",
         "x": [
          17
         ],
         "xaxis": "x",
         "y": [
          "Ciudad"
         ],
         "yaxis": "y"
        },
        {
         "alignmentgroup": "True",
         "hovertemplate": "color=Montaña<br>x=%{x}<br>y=%{y}<br>text=%{text}<extra></extra>",
         "legendgroup": "Montaña",
         "marker": {
          "color": "#00cc96",
          "opacity": 0.9,
          "pattern": {
           "shape": ""
          }
         },
         "name": "Montaña",
         "offsetgroup": "Montaña",
         "orientation": "h",
         "showlegend": true,
         "text": [
          21.818181818181817
         ],
         "textposition": "outside",
         "texttemplate": "%{text:0.2f}%",
         "type": "bar",
         "x": [
          12
         ],
         "xaxis": "x",
         "y": [
          "Montaña"
         ],
         "yaxis": "y"
        },
        {
         "alignmentgroup": "True",
         "hovertemplate": "color=Campo<br>x=%{x}<br>y=%{y}<br>text=%{text}<extra></extra>",
         "legendgroup": "Campo",
         "marker": {
          "color": "#ab63fa",
          "opacity": 0.9,
          "pattern": {
           "shape": ""
          }
         },
         "name": "Campo",
         "offsetgroup": "Campo",
         "orientation": "h",
         "showlegend": true,
         "text": [
          16.363636363636363
         ],
         "textposition": "outside",
         "texttemplate": "%{text:0.2f}%",
         "type": "bar",
         "x": [
          9
         ],
         "xaxis": "x",
         "y": [
          "Campo"
         ],
         "yaxis": "y"
        }
       ],
       "layout": {
        "barmode": "overlay",
        "font": {
         "color": "black",
         "size": 12
        },
        "height": 800,
        "legend": {
         "title": {
          "text": "LEYENDA"
         },
         "tracegroupgap": 0
        },
        "template": {
         "data": {
          "bar": [
           {
            "error_x": {
             "color": "#2a3f5f"
            },
            "error_y": {
             "color": "#2a3f5f"
            },
            "marker": {
             "line": {
              "color": "#E5ECF6",
              "width": 0.5
             },
             "pattern": {
              "fillmode": "overlay",
              "size": 10,
              "solidity": 0.2
             }
            },
            "type": "bar"
           }
          ],
          "barpolar": [
           {
            "marker": {
             "line": {
              "color": "#E5ECF6",
              "width": 0.5
             },
             "pattern": {
              "fillmode": "overlay",
              "size": 10,
              "solidity": 0.2
             }
            },
            "type": "barpolar"
           }
          ],
          "carpet": [
           {
            "aaxis": {
             "endlinecolor": "#2a3f5f",
             "gridcolor": "white",
             "linecolor": "white",
             "minorgridcolor": "white",
             "startlinecolor": "#2a3f5f"
            },
            "baxis": {
             "endlinecolor": "#2a3f5f",
             "gridcolor": "white",
             "linecolor": "white",
             "minorgridcolor": "white",
             "startlinecolor": "#2a3f5f"
            },
            "type": "carpet"
           }
          ],
          "choropleth": [
           {
            "colorbar": {
             "outlinewidth": 0,
             "ticks": ""
            },
            "type": "choropleth"
           }
          ],
          "contour": [
           {
            "colorbar": {
             "outlinewidth": 0,
             "ticks": ""
            },
            "colorscale": [
             [
              0,
              "#0d0887"
             ],
             [
              0.1111111111111111,
              "#46039f"
             ],
             [
              0.2222222222222222,
              "#7201a8"
             ],
             [
              0.3333333333333333,
              "#9c179e"
             ],
             [
              0.4444444444444444,
              "#bd3786"
             ],
             [
              0.5555555555555556,
              "#d8576b"
             ],
             [
              0.6666666666666666,
              "#ed7953"
             ],
             [
              0.7777777777777778,
              "#fb9f3a"
             ],
             [
              0.8888888888888888,
              "#fdca26"
             ],
             [
              1,
              "#f0f921"
             ]
            ],
            "type": "contour"
           }
          ],
          "contourcarpet": [
           {
            "colorbar": {
             "outlinewidth": 0,
             "ticks": ""
            },
            "type": "contourcarpet"
           }
          ],
          "heatmap": [
           {
            "colorbar": {
             "outlinewidth": 0,
             "ticks": ""
            },
            "colorscale": [
             [
              0,
              "#0d0887"
             ],
             [
              0.1111111111111111,
              "#46039f"
             ],
             [
              0.2222222222222222,
              "#7201a8"
             ],
             [
              0.3333333333333333,
              "#9c179e"
             ],
             [
              0.4444444444444444,
              "#bd3786"
             ],
             [
              0.5555555555555556,
              "#d8576b"
             ],
             [
              0.6666666666666666,
              "#ed7953"
             ],
             [
              0.7777777777777778,
              "#fb9f3a"
             ],
             [
              0.8888888888888888,
              "#fdca26"
             ],
             [
              1,
              "#f0f921"
             ]
            ],
            "type": "heatmap"
           }
          ],
          "heatmapgl": [
           {
            "colorbar": {
             "outlinewidth": 0,
             "ticks": ""
            },
            "colorscale": [
             [
              0,
              "#0d0887"
             ],
             [
              0.1111111111111111,
              "#46039f"
             ],
             [
              0.2222222222222222,
              "#7201a8"
             ],
             [
              0.3333333333333333,
              "#9c179e"
             ],
             [
              0.4444444444444444,
              "#bd3786"
             ],
             [
              0.5555555555555556,
              "#d8576b"
             ],
             [
              0.6666666666666666,
              "#ed7953"
             ],
             [
              0.7777777777777778,
              "#fb9f3a"
             ],
             [
              0.8888888888888888,
              "#fdca26"
             ],
             [
              1,
              "#f0f921"
             ]
            ],
            "type": "heatmapgl"
           }
          ],
          "histogram": [
           {
            "marker": {
             "pattern": {
              "fillmode": "overlay",
              "size": 10,
              "solidity": 0.2
             }
            },
            "type": "histogram"
           }
          ],
          "histogram2d": [
           {
            "colorbar": {
             "outlinewidth": 0,
             "ticks": ""
            },
            "colorscale": [
             [
              0,
              "#0d0887"
             ],
             [
              0.1111111111111111,
              "#46039f"
             ],
             [
              0.2222222222222222,
              "#7201a8"
             ],
             [
              0.3333333333333333,
              "#9c179e"
             ],
             [
              0.4444444444444444,
              "#bd3786"
             ],
             [
              0.5555555555555556,
              "#d8576b"
             ],
             [
              0.6666666666666666,
              "#ed7953"
             ],
             [
              0.7777777777777778,
              "#fb9f3a"
             ],
             [
              0.8888888888888888,
              "#fdca26"
             ],
             [
              1,
              "#f0f921"
             ]
            ],
            "type": "histogram2d"
           }
          ],
          "histogram2dcontour": [
           {
            "colorbar": {
             "outlinewidth": 0,
             "ticks": ""
            },
            "colorscale": [
             [
              0,
              "#0d0887"
             ],
             [
              0.1111111111111111,
              "#46039f"
             ],
             [
              0.2222222222222222,
              "#7201a8"
             ],
             [
              0.3333333333333333,
              "#9c179e"
             ],
             [
              0.4444444444444444,
              "#bd3786"
             ],
             [
              0.5555555555555556,
              "#d8576b"
             ],
             [
              0.6666666666666666,
              "#ed7953"
             ],
             [
              0.7777777777777778,
              "#fb9f3a"
             ],
             [
              0.8888888888888888,
              "#fdca26"
             ],
             [
              1,
              "#f0f921"
             ]
            ],
            "type": "histogram2dcontour"
           }
          ],
          "mesh3d": [
           {
            "colorbar": {
             "outlinewidth": 0,
             "ticks": ""
            },
            "type": "mesh3d"
           }
          ],
          "parcoords": [
           {
            "line": {
             "colorbar": {
              "outlinewidth": 0,
              "ticks": ""
             }
            },
            "type": "parcoords"
           }
          ],
          "pie": [
           {
            "automargin": true,
            "type": "pie"
           }
          ],
          "scatter": [
           {
            "fillpattern": {
             "fillmode": "overlay",
             "size": 10,
             "solidity": 0.2
            },
            "type": "scatter"
           }
          ],
          "scatter3d": [
           {
            "line": {
             "colorbar": {
              "outlinewidth": 0,
              "ticks": ""
             }
            },
            "marker": {
             "colorbar": {
              "outlinewidth": 0,
              "ticks": ""
             }
            },
            "type": "scatter3d"
           }
          ],
          "scattercarpet": [
           {
            "marker": {
             "colorbar": {
              "outlinewidth": 0,
              "ticks": ""
             }
            },
            "type": "scattercarpet"
           }
          ],
          "scattergeo": [
           {
            "marker": {
             "colorbar": {
              "outlinewidth": 0,
              "ticks": ""
             }
            },
            "type": "scattergeo"
           }
          ],
          "scattergl": [
           {
            "marker": {
             "colorbar": {
              "outlinewidth": 0,
              "ticks": ""
             }
            },
            "type": "scattergl"
           }
          ],
          "scattermapbox": [
           {
            "marker": {
             "colorbar": {
              "outlinewidth": 0,
              "ticks": ""
             }
            },
            "type": "scattermapbox"
           }
          ],
          "scatterpolar": [
           {
            "marker": {
             "colorbar": {
              "outlinewidth": 0,
              "ticks": ""
             }
            },
            "type": "scatterpolar"
           }
          ],
          "scatterpolargl": [
           {
            "marker": {
             "colorbar": {
              "outlinewidth": 0,
              "ticks": ""
             }
            },
            "type": "scatterpolargl"
           }
          ],
          "scatterternary": [
           {
            "marker": {
             "colorbar": {
              "outlinewidth": 0,
              "ticks": ""
             }
            },
            "type": "scatterternary"
           }
          ],
          "surface": [
           {
            "colorbar": {
             "outlinewidth": 0,
             "ticks": ""
            },
            "colorscale": [
             [
              0,
              "#0d0887"
             ],
             [
              0.1111111111111111,
              "#46039f"
             ],
             [
              0.2222222222222222,
              "#7201a8"
             ],
             [
              0.3333333333333333,
              "#9c179e"
             ],
             [
              0.4444444444444444,
              "#bd3786"
             ],
             [
              0.5555555555555556,
              "#d8576b"
             ],
             [
              0.6666666666666666,
              "#ed7953"
             ],
             [
              0.7777777777777778,
              "#fb9f3a"
             ],
             [
              0.8888888888888888,
              "#fdca26"
             ],
             [
              1,
              "#f0f921"
             ]
            ],
            "type": "surface"
           }
          ],
          "table": [
           {
            "cells": {
             "fill": {
              "color": "#EBF0F8"
             },
             "line": {
              "color": "white"
             }
            },
            "header": {
             "fill": {
              "color": "#C8D4E3"
             },
             "line": {
              "color": "white"
             }
            },
            "type": "table"
           }
          ]
         },
         "layout": {
          "annotationdefaults": {
           "arrowcolor": "#2a3f5f",
           "arrowhead": 0,
           "arrowwidth": 1
          },
          "autotypenumbers": "strict",
          "coloraxis": {
           "colorbar": {
            "outlinewidth": 0,
            "ticks": ""
           }
          },
          "colorscale": {
           "diverging": [
            [
             0,
             "#8e0152"
            ],
            [
             0.1,
             "#c51b7d"
            ],
            [
             0.2,
             "#de77ae"
            ],
            [
             0.3,
             "#f1b6da"
            ],
            [
             0.4,
             "#fde0ef"
            ],
            [
             0.5,
             "#f7f7f7"
            ],
            [
             0.6,
             "#e6f5d0"
            ],
            [
             0.7,
             "#b8e186"
            ],
            [
             0.8,
             "#7fbc41"
            ],
            [
             0.9,
             "#4d9221"
            ],
            [
             1,
             "#276419"
            ]
           ],
           "sequential": [
            [
             0,
             "#0d0887"
            ],
            [
             0.1111111111111111,
             "#46039f"
            ],
            [
             0.2222222222222222,
             "#7201a8"
            ],
            [
             0.3333333333333333,
             "#9c179e"
            ],
            [
             0.4444444444444444,
             "#bd3786"
            ],
            [
             0.5555555555555556,
             "#d8576b"
            ],
            [
             0.6666666666666666,
             "#ed7953"
            ],
            [
             0.7777777777777778,
             "#fb9f3a"
            ],
            [
             0.8888888888888888,
             "#fdca26"
            ],
            [
             1,
             "#f0f921"
            ]
           ],
           "sequentialminus": [
            [
             0,
             "#0d0887"
            ],
            [
             0.1111111111111111,
             "#46039f"
            ],
            [
             0.2222222222222222,
             "#7201a8"
            ],
            [
             0.3333333333333333,
             "#9c179e"
            ],
            [
             0.4444444444444444,
             "#bd3786"
            ],
            [
             0.5555555555555556,
             "#d8576b"
            ],
            [
             0.6666666666666666,
             "#ed7953"
            ],
            [
             0.7777777777777778,
             "#fb9f3a"
            ],
            [
             0.8888888888888888,
             "#fdca26"
            ],
            [
             1,
             "#f0f921"
            ]
           ]
          },
          "colorway": [
           "#636efa",
           "#EF553B",
           "#00cc96",
           "#ab63fa",
           "#FFA15A",
           "#19d3f3",
           "#FF6692",
           "#B6E880",
           "#FF97FF",
           "#FECB52"
          ],
          "font": {
           "color": "#2a3f5f"
          },
          "geo": {
           "bgcolor": "white",
           "lakecolor": "white",
           "landcolor": "#E5ECF6",
           "showlakes": true,
           "showland": true,
           "subunitcolor": "white"
          },
          "hoverlabel": {
           "align": "left"
          },
          "hovermode": "closest",
          "mapbox": {
           "style": "light"
          },
          "paper_bgcolor": "white",
          "plot_bgcolor": "#E5ECF6",
          "polar": {
           "angularaxis": {
            "gridcolor": "white",
            "linecolor": "white",
            "ticks": ""
           },
           "bgcolor": "#E5ECF6",
           "radialaxis": {
            "gridcolor": "white",
            "linecolor": "white",
            "ticks": ""
           }
          },
          "scene": {
           "xaxis": {
            "backgroundcolor": "#E5ECF6",
            "gridcolor": "white",
            "gridwidth": 2,
            "linecolor": "white",
            "showbackground": true,
            "ticks": "",
            "zerolinecolor": "white"
           },
           "yaxis": {
            "backgroundcolor": "#E5ECF6",
            "gridcolor": "white",
            "gridwidth": 2,
            "linecolor": "white",
            "showbackground": true,
            "ticks": "",
            "zerolinecolor": "white"
           },
           "zaxis": {
            "backgroundcolor": "#E5ECF6",
            "gridcolor": "white",
            "gridwidth": 2,
            "linecolor": "white",
            "showbackground": true,
            "ticks": "",
            "zerolinecolor": "white"
           }
          },
          "shapedefaults": {
           "line": {
            "color": "#2a3f5f"
           }
          },
          "ternary": {
           "aaxis": {
            "gridcolor": "white",
            "linecolor": "white",
            "ticks": ""
           },
           "baxis": {
            "gridcolor": "white",
            "linecolor": "white",
            "ticks": ""
           },
           "bgcolor": "#E5ECF6",
           "caxis": {
            "gridcolor": "white",
            "linecolor": "white",
            "ticks": ""
           }
          },
          "title": {
           "x": 0.05
          },
          "xaxis": {
           "automargin": true,
           "gridcolor": "white",
           "linecolor": "white",
           "ticks": "",
           "title": {
            "standoff": 15
           },
           "zerolinecolor": "white",
           "zerolinewidth": 2
          },
          "yaxis": {
           "automargin": true,
           "gridcolor": "white",
           "linecolor": "white",
           "ticks": "",
           "title": {
            "standoff": 15
           },
           "zerolinecolor": "white",
           "zerolinewidth": 2
          }
         }
        },
        "title": {
         "font": {
          "color": "black",
          "size": 25
         },
         "text": "TOTAL DE VISITAS POR ENTORNO",
         "x": 0.5,
         "xanchor": "auto"
        },
        "uniformtext": {
         "minsize": 10,
         "mode": "hide"
        },
        "width": 1200,
        "xaxis": {
         "anchor": "y",
         "domain": [
          0,
          1
         ],
         "title": {
          "text": "PORCENTAJE VISITAS"
         }
        },
        "yaxis": {
         "anchor": "x",
         "domain": [
          0,
          1
         ],
         "title": {
          "text": "ENTORNOS"
         }
        }
       }
      }
     },
     "metadata": {},
     "output_type": "display_data"
    }
   ],
   "source": [
    "import plotly.express as px\n",
    "\n",
    "fig = px.bar(df_input, y=df_input['ENTORNO'].unique(), x=df_input['ENTORNO'].value_counts(), text=porcentaje,title=\"TOTAL DE VISITAS POR ENTORNO\", color=colores, barmode=\"overlay\", opacity=.90)\n",
    "fig.update_traces(texttemplate='%{text:0.2f}%', textposition='outside')\n",
    "fig.update_layout(uniformtext_minsize=10, uniformtext_mode='hide')\n",
    "fig.update_layout(barmode='overlay',width=1200, height=800,title_font_size=25, title_font_color='black', title_xanchor='auto')\n",
    "fig.update_layout(title_x=0.5, font_color='black')\n",
    "fig.update_layout(font_color='black')\n",
    "fig.update_layout(font_size=12)\n",
    "fig.update_layout(xaxis_title=\"PORCENTAJE VISITAS\", yaxis_title=\"ENTORNOS\", legend_title=\"LEYENDA\")\n",
    "fig.show()"
   ]
  },
  {
   "cell_type": "code",
   "execution_count": 130,
   "metadata": {},
   "outputs": [],
   "source": [
    "conn.close()"
   ]
  }
 ],
 "metadata": {
  "kernelspec": {
   "display_name": "Python 3",
   "language": "python",
   "name": "python3"
  },
  "language_info": {
   "codemirror_mode": {
    "name": "ipython",
    "version": 3
   },
   "file_extension": ".py",
   "mimetype": "text/x-python",
   "name": "python",
   "nbconvert_exporter": "python",
   "pygments_lexer": "ipython3",
   "version": "3.7.4"
  },
  "orig_nbformat": 4,
  "vscode": {
   "interpreter": {
    "hash": "0fb254b22584d4dadf5c129f1fcaee00e0477c453ba46ce68957b1edcd5f7b81"
   }
  }
 },
 "nbformat": 4,
 "nbformat_minor": 2
}
